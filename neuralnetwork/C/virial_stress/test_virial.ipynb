{
 "cells": [
  {
   "cell_type": "code",
   "execution_count": 1,
   "metadata": {
    "ExecuteTime": {
     "end_time": "2023-12-17T03:45:35.020542Z",
     "start_time": "2023-12-17T03:45:34.860645Z"
    }
   },
   "outputs": [],
   "source": [
    "import os\n",
    "from glob import glob\n",
    "from tqdm import tqdm\n",
    "\n",
    "import numpy as np\n",
    "from ase.io import read\n",
    "from ase.visualize import view\n",
    "from ase.units import create_units"
   ]
  },
  {
   "cell_type": "markdown",
   "metadata": {},
   "source": [
    "# Test"
   ]
  },
  {
   "cell_type": "code",
   "execution_count": 2,
   "metadata": {
    "ExecuteTime": {
     "end_time": "2023-12-17T03:45:35.047790Z",
     "start_time": "2023-12-17T03:45:35.023654Z"
    }
   },
   "outputs": [],
   "source": [
    "atoms = read(\"dump/virial_0.dump\")\n",
    "# view(atoms)"
   ]
  },
  {
   "cell_type": "code",
   "execution_count": 3,
   "metadata": {
    "ExecuteTime": {
     "end_time": "2023-12-17T03:45:35.063566Z",
     "start_time": "2023-12-17T03:45:35.055853Z"
    }
   },
   "outputs": [],
   "source": [
    "cell = atoms.cell\n",
    "positions = atoms.positions\n",
    "forces = atoms.get_forces()"
   ]
  },
  {
   "cell_type": "code",
   "execution_count": 4,
   "metadata": {
    "ExecuteTime": {
     "end_time": "2023-12-17T03:45:35.090715Z",
     "start_time": "2023-12-17T03:45:35.067052Z"
    }
   },
   "outputs": [
    {
     "data": {
      "text/plain": [
       "array([[-0.01115461,  0.03122681, -0.09123435],\n",
       "       [-0.01360232,  0.05549371,  0.00761054],\n",
       "       [-0.03815746, -0.04821287, -0.13903661]])"
      ]
     },
     "execution_count": 4,
     "metadata": {},
     "output_type": "execute_result"
    }
   ],
   "source": [
    "h = 3.4  # van der Waals thickness\n",
    "V = cell[0, 0] * cell[1, 1] * h\n",
    "positions.T @ forces / V"
   ]
  },
  {
   "cell_type": "markdown",
   "metadata": {},
   "source": [
    "# Real calculation"
   ]
  },
  {
   "cell_type": "markdown",
   "metadata": {},
   "source": [
    "How to compute virial stress tensor:\n",
    "\\begin{equation}\n",
    "    \\sigma = \\frac{1}{N_{\\tau}} \\sum_{\\tau = 1}^{N_{\\tau}} \\left( \\frac{1}{V} \\sum_{\\alpha = 1}^N \\mathbf{r}_{\\tau}^{\\alpha} \\otimes \\mathbf{f}_{\\tau}^{\\alpha} \\right).\n",
    "\\end{equation}\n",
    "The inner sum is done over the atoms in a single snapshot.\n",
    "The outer sum is done over all the snapshots."
   ]
  },
  {
   "cell_type": "code",
   "execution_count": 5,
   "metadata": {
    "ExecuteTime": {
     "end_time": "2023-12-17T03:45:35.116962Z",
     "start_time": "2023-12-17T03:45:35.094245Z"
    }
   },
   "outputs": [],
   "source": [
    "u = create_units(\"2018\")\n",
    "files = sorted(glob(\"dump/*.dump\"))[1:]\n",
    "# files"
   ]
  },
  {
   "cell_type": "code",
   "execution_count": 6,
   "metadata": {
    "ExecuteTime": {
     "end_time": "2023-12-17T03:45:39.918959Z",
     "start_time": "2023-12-17T03:45:35.119907Z"
    }
   },
   "outputs": [
    {
     "name": "stderr",
     "output_type": "stream",
     "text": [
      "100%|█████████████████████████████████████████████████████████████| 1000/1000 [00:04<00:00, 209.31it/s]\n"
     ]
    }
   ],
   "source": [
    "h = 3.4  # van der Waals thickness\n",
    "sigmas = np.zeros((len(files), 3, 3))\n",
    "\n",
    "for ii, ff in tqdm(enumerate(files), total=len(files)):\n",
    "    # Read\n",
    "    atoms = read(ff)\n",
    "    # Extract\n",
    "    cell = atoms.cell\n",
    "    positions = atoms.positions\n",
    "    forces = atoms.get_forces()\n",
    "    # Compute\n",
    "    V = cell[0, 0] * cell[1, 1] * h\n",
    "    sigmas[ii] = positions.T @ forces / V"
   ]
  },
  {
   "cell_type": "code",
   "execution_count": 7,
   "metadata": {
    "ExecuteTime": {
     "end_time": "2023-12-17T03:45:39.934529Z",
     "start_time": "2023-12-17T03:45:39.924954Z"
    }
   },
   "outputs": [
    {
     "name": "stdout",
     "output_type": "stream",
     "text": [
      "[[-0.38330489  0.12335871 -0.68875897]\n",
      " [ 0.19055816 -0.6784517  -0.82537462]\n",
      " [ 0.41586569 -0.02686237 -1.86507366]]\n"
     ]
    }
   ],
   "source": [
    "sigma = np.mean(sigmas, axis=0)\n",
    "sigma /= u.GPa  # Convert the unit to GPa\n",
    "print(sigma)"
   ]
  },
  {
   "cell_type": "code",
   "execution_count": 8,
   "metadata": {
    "ExecuteTime": {
     "end_time": "2023-12-17T03:45:39.955878Z",
     "start_time": "2023-12-17T03:45:39.938645Z"
    }
   },
   "outputs": [
    {
     "data": {
      "text/plain": [
       "array([2.3427 , 2.36736, 2.39202, 2.41668, 2.44134, 2.466  , 2.49066,\n",
       "       2.51532, 2.53998, 2.56464, 2.5893 ])"
      ]
     },
     "execution_count": 8,
     "metadata": {},
     "output_type": "execute_result"
    }
   ],
   "source": [
    "# Lattice constants to try\n",
    "alist = np.linspace(0.95, 1.05, 11) * 2.466\n",
    "alist"
   ]
  },
  {
   "cell_type": "code",
   "execution_count": null,
   "metadata": {},
   "outputs": [],
   "source": []
  }
 ],
 "metadata": {
  "kernelspec": {
   "display_name": "Python 3 (ipykernel)",
   "language": "python",
   "name": "python3"
  },
  "language_info": {
   "codemirror_mode": {
    "name": "ipython",
    "version": 3
   },
   "file_extension": ".py",
   "mimetype": "text/x-python",
   "name": "python",
   "nbconvert_exporter": "python",
   "pygments_lexer": "ipython3",
   "version": "3.7.4"
  },
  "toc": {
   "base_numbering": 1,
   "nav_menu": {},
   "number_sections": true,
   "sideBar": true,
   "skip_h1_title": false,
   "title_cell": "Table of Contents",
   "title_sidebar": "Contents",
   "toc_cell": false,
   "toc_position": {},
   "toc_section_display": true,
   "toc_window_display": false
  },
  "varInspector": {
   "cols": {
    "lenName": 16,
    "lenType": 16,
    "lenVar": 40
   },
   "kernels_config": {
    "python": {
     "delete_cmd_postfix": "",
     "delete_cmd_prefix": "del ",
     "library": "var_list.py",
     "varRefreshCmd": "print(var_dic_list())"
    },
    "r": {
     "delete_cmd_postfix": ") ",
     "delete_cmd_prefix": "rm(",
     "library": "var_list.r",
     "varRefreshCmd": "cat(var_dic_list()) "
    }
   },
   "types_to_exclude": [
    "module",
    "function",
    "builtin_function_or_method",
    "instance",
    "_Feature"
   ],
   "window_display": false
  }
 },
 "nbformat": 4,
 "nbformat_minor": 2
}
