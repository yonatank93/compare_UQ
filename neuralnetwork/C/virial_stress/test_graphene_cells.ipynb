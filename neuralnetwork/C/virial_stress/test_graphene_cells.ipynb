{
 "cells": [
  {
   "cell_type": "code",
   "execution_count": 1,
   "metadata": {
    "ExecuteTime": {
     "end_time": "2023-12-15T21:02:08.360312Z",
     "start_time": "2023-12-15T21:02:07.909739Z"
    }
   },
   "outputs": [],
   "source": [
    "from ase import Atoms\n",
    "from ase.build import bulk\n",
    "from ase.calculators.kim import KIM\n",
    "from ase.phonons import Phonons\n",
    "from ase.visualize import view\n",
    "\n",
    "import numpy as np\n",
    "import matplotlib.pyplot as plt\n",
    "\n",
    "%matplotlib inline\n",
    "plt.style.use(\"default\")"
   ]
  },
  {
   "cell_type": "code",
   "execution_count": 2,
   "metadata": {
    "ExecuteTime": {
     "end_time": "2023-12-15T21:02:08.367947Z",
     "start_time": "2023-12-15T21:02:08.363035Z"
    }
   },
   "outputs": [],
   "source": [
    "a = 2.466\n",
    "b = a / np.sqrt(3)"
   ]
  },
  {
   "cell_type": "code",
   "execution_count": 5,
   "metadata": {
    "ExecuteTime": {
     "end_time": "2023-12-15T21:20:39.042892Z",
     "start_time": "2023-12-15T21:20:38.996941Z"
    }
   },
   "outputs": [
    {
     "data": {
      "text/plain": [
       "<subprocess.Popen at 0x7f99f36552d0>"
      ]
     },
     "execution_count": 5,
     "metadata": {},
     "output_type": "execute_result"
    }
   ],
   "source": [
    "cell = np.array([[3 * b, 0, 0], [0, a, 0], [0, 0, 10]])\n",
    "positions = np.array(\n",
    "    [[0, 0, 0], [b, 0, 0], [1.5 * b, 0.5 * a, 0], [2.5 * b, 0.5 * a, 0]]\n",
    ")\n",
    "atoms = Atoms(\"4C\", positions=positions, cell=cell, pbc=[1, 1, 1])\n",
    "view(atoms.repeat((4, 6, 1)))"
   ]
  },
  {
   "cell_type": "code",
   "execution_count": 7,
   "metadata": {
    "ExecuteTime": {
     "end_time": "2023-12-15T21:42:52.362072Z",
     "start_time": "2023-12-15T21:42:52.303771Z"
    }
   },
   "outputs": [
    {
     "data": {
      "text/plain": [
       "<subprocess.Popen at 0x7f9aad0be6d0>"
      ]
     },
     "execution_count": 7,
     "metadata": {},
     "output_type": "execute_result"
    }
   ],
   "source": [
    "# LAMMPS convention\n",
    "scale = 3 * b\n",
    "h = 3.4 / scale\n",
    "cell = scale * np.array([[1, 0, 0], [0, a / scale, 0], [0, 0, h]])\n",
    "positions = np.array(\n",
    "    [\n",
    "        0 * cell[0] + 0 * cell[1] + 0 * cell[2],\n",
    "        1 / 3 * cell[0] + 0 * cell[1] + 0 * cell[2],\n",
    "        0.5 * cell[0] + 0.5 * cell[1] + 0 * cell[2],\n",
    "        5 / 6 * cell[0] + 0.5 * cell[1] + 0 * cell[2],\n",
    "    ]\n",
    ")\n",
    "atoms = Atoms(\"4C\", positions=positions, cell=cell, pbc=[1, 1, 1])\n",
    "view(atoms.repeat((4, 6, 1)))"
   ]
  },
  {
   "cell_type": "code",
   "execution_count": null,
   "metadata": {},
   "outputs": [],
   "source": []
  }
 ],
 "metadata": {
  "kernelspec": {
   "display_name": "Python 3 (ipykernel)",
   "language": "python",
   "name": "python3"
  },
  "language_info": {
   "codemirror_mode": {
    "name": "ipython",
    "version": 3
   },
   "file_extension": ".py",
   "mimetype": "text/x-python",
   "name": "python",
   "nbconvert_exporter": "python",
   "pygments_lexer": "ipython3",
   "version": "3.7.4"
  },
  "toc": {
   "base_numbering": 1,
   "nav_menu": {},
   "number_sections": true,
   "sideBar": true,
   "skip_h1_title": false,
   "title_cell": "Table of Contents",
   "title_sidebar": "Contents",
   "toc_cell": false,
   "toc_position": {},
   "toc_section_display": true,
   "toc_window_display": false
  },
  "varInspector": {
   "cols": {
    "lenName": 16,
    "lenType": 16,
    "lenVar": 40
   },
   "kernels_config": {
    "python": {
     "delete_cmd_postfix": "",
     "delete_cmd_prefix": "del ",
     "library": "var_list.py",
     "varRefreshCmd": "print(var_dic_list())"
    },
    "r": {
     "delete_cmd_postfix": ") ",
     "delete_cmd_prefix": "rm(",
     "library": "var_list.r",
     "varRefreshCmd": "cat(var_dic_list()) "
    }
   },
   "types_to_exclude": [
    "module",
    "function",
    "builtin_function_or_method",
    "instance",
    "_Feature"
   ],
   "window_display": false
  }
 },
 "nbformat": 4,
 "nbformat_minor": 2
}
