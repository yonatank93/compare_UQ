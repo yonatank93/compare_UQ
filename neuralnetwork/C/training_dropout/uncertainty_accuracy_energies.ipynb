{
 "cells": [
  {
   "cell_type": "markdown",
   "metadata": {},
   "source": [
    "In this notebook, I want to assess the accuracy of the trained model.\n",
    "This is done by evaluating the energy of configurations in the test set.\n",
    "The predicted energies are compared to the DFT calculated energies in a parity plot.\n",
    "\n",
    "Additionally, I also want to look at the uncertainty of the energy predictions, evaluated using different member in the ensemble."
   ]
  },
  {
   "cell_type": "code",
   "execution_count": 1,
   "metadata": {
    "ExecuteTime": {
     "end_time": "2024-01-18T19:41:24.931944Z",
     "start_time": "2024-01-18T19:41:24.523143Z"
    }
   },
   "outputs": [],
   "source": [
    "from pathlib import Path\n",
    "import json\n",
    "import os\n",
    "import pickle\n",
    "from tqdm import tqdm\n",
    "\n",
    "import numpy as np\n",
    "import matplotlib.pyplot as plt\n",
    "\n",
    "from ase.io import read\n",
    "from ase.calculators.kim import KIM\n",
    "\n",
    "%matplotlib inline\n",
    "plt.style.use(\"default\")"
   ]
  },
  {
   "cell_type": "code",
   "execution_count": 2,
   "metadata": {
    "ExecuteTime": {
     "end_time": "2024-01-18T19:41:24.945532Z",
     "start_time": "2024-01-18T19:41:24.935962Z"
    }
   },
   "outputs": [],
   "source": [
    "# Read setting file\n",
    "WORK_DIR = Path().absolute()\n",
    "ROOT_DIR = WORK_DIR.parent\n",
    "DATA_DIR = ROOT_DIR / \"data\"\n",
    "with open(ROOT_DIR / \"settings.json\", \"r\") as f:\n",
    "    settings = json.load(f)\n",
    "partition = settings[\"partition\"]\n",
    "PART_DIR = DATA_DIR / f\"{partition}_partition_data\"\n",
    "FP_DIR = PART_DIR / \"fingerprints\"\n",
    "RES_DIR = WORK_DIR / \"results\" / f\"{partition}_partition\"\n",
    "if not RES_DIR.exists():\n",
    "    RES_DIR.mkdir(parents=True)"
   ]
  },
  {
   "cell_type": "markdown",
   "metadata": {},
   "source": [
    "# Get the reference and predicted energy"
   ]
  },
  {
   "cell_type": "code",
   "execution_count": 3,
   "metadata": {
    "ExecuteTime": {
     "end_time": "2024-01-18T19:41:25.176885Z",
     "start_time": "2024-01-18T19:41:24.951210Z"
    }
   },
   "outputs": [
    {
     "ename": "NameError",
     "evalue": "name 'subdir' is not defined",
     "output_type": "error",
     "traceback": [
      "\u001b[0;31m---------------------------------------------------------------------------\u001b[0m",
      "\u001b[0;31mNameError\u001b[0m                                 Traceback (most recent call last)",
      "\u001b[0;32m/tmp/ipykernel_201348/876855721.py\u001b[0m in \u001b[0;36m<module>\u001b[0;34m\u001b[0m\n\u001b[1;32m     14\u001b[0m         \u001b[0mconfigs_dict\u001b[0m\u001b[0;34m.\u001b[0m\u001b[0mupdate\u001b[0m\u001b[0;34m(\u001b[0m\u001b[0;34m{\u001b[0m\u001b[0mstruct\u001b[0m\u001b[0;34m:\u001b[0m \u001b[0;34m{\u001b[0m\u001b[0;34m\"identifier\"\u001b[0m\u001b[0;34m:\u001b[0m \u001b[0;34m[\u001b[0m\u001b[0;34m]\u001b[0m\u001b[0;34m}\u001b[0m\u001b[0;34m}\u001b[0m\u001b[0;34m)\u001b[0m\u001b[0;34m\u001b[0m\u001b[0;34m\u001b[0m\u001b[0m\n\u001b[1;32m     15\u001b[0m \u001b[0;34m\u001b[0m\u001b[0m\n\u001b[0;32m---> 16\u001b[0;31m         \u001b[0;32mif\u001b[0m \u001b[0mos\u001b[0m\u001b[0;34m.\u001b[0m\u001b[0mpath\u001b[0m\u001b[0;34m.\u001b[0m\u001b[0misdir\u001b[0m\u001b[0;34m(\u001b[0m\u001b[0msubdir\u001b[0m \u001b[0;34m/\u001b[0m \u001b[0mos\u001b[0m\u001b[0;34m.\u001b[0m\u001b[0mlistdir\u001b[0m\u001b[0;34m(\u001b[0m\u001b[0msubdir\u001b[0m\u001b[0;34m)\u001b[0m\u001b[0;34m[\u001b[0m\u001b[0;36m0\u001b[0m\u001b[0;34m]\u001b[0m\u001b[0;34m)\u001b[0m\u001b[0;34m:\u001b[0m\u001b[0;34m\u001b[0m\u001b[0;34m\u001b[0m\u001b[0m\n\u001b[0m\u001b[1;32m     17\u001b[0m             \u001b[0;31m# The configurations are stored inside the subsubdirectory\u001b[0m\u001b[0;34m\u001b[0m\u001b[0;34m\u001b[0m\u001b[0;34m\u001b[0m\u001b[0m\n\u001b[1;32m     18\u001b[0m             \u001b[0msubstructures\u001b[0m \u001b[0;34m=\u001b[0m \u001b[0mos\u001b[0m\u001b[0;34m.\u001b[0m\u001b[0mlistdir\u001b[0m\u001b[0;34m(\u001b[0m\u001b[0msubdir\u001b[0m\u001b[0;34m)\u001b[0m\u001b[0;34m\u001b[0m\u001b[0;34m\u001b[0m\u001b[0m\n",
      "\u001b[0;31mNameError\u001b[0m: name 'subdir' is not defined"
     ]
    }
   ],
   "source": [
    "uncertainty_energy_file = RES_DIR / \"uncertainty_energy.pkl\"\n",
    "if uncertainty_energy_file.exists():\n",
    "    with open(uncertainty_energy_file, \"rb\") as f:\n",
    "        configs_dict = pickle.load(f)\n",
    "    structures = list(configs_dict)\n",
    "else:\n",
    "    # Get all test configurations\n",
    "    configs_dict = {}\n",
    "\n",
    "    dataset_dir = PART_DIR / \"carbon_test_set\"\n",
    "    structures = os.listdir(dataset_dir)\n",
    "    for struct in structures:\n",
    "        substructures = os.listdir(dataset_dir / struct)\n",
    "        configs_dict.update({struct: {\"identifier\": []}})\n",
    "\n",
    "        if os.path.isdir(subdir / os.listdir(subdir)[0]):\n",
    "            # The configurations are stored inside the subsubdirectory\n",
    "            substructures = os.listdir(subdir)\n",
    "            for substruct in substructures:\n",
    "                configs = os.listdir(subdir / substruct)\n",
    "                configs_paths = [str(subdir / substruct / cc) for cc in configs]\n",
    "                configs_dict[struct][\"identifier\"].extend(configs_paths)\n",
    "        else:\n",
    "            # The configurations are stored inside the subdirectory\n",
    "            configs = os.listdir(subdir)\n",
    "            configs_paths = [str(subdir / cc) for cc in configs]\n",
    "            configs_dict[struct][\"identifier\"].extend(configs_paths)\n",
    "\n",
    "    # Get the reference data and predictions\n",
    "    for struct in structures:\n",
    "        identifiers = configs_dict[struct][\"identifier\"]\n",
    "        nid = len(identifiers)\n",
    "        energies = []\n",
    "        natoms = []\n",
    "        preds = np.zeros((100, nid))\n",
    "        for ii, path in tqdm(enumerate(identifiers), desc=struct, total=nid):\n",
    "            atoms = read(path)\n",
    "            atoms.calc = KIM(\"DUNN_best_train\")\n",
    "            # Reference energy\n",
    "            energies = np.append(energies, atoms.info[\"Energy\"])\n",
    "            natoms = np.append(natoms, atoms.get_global_number_of_atoms())\n",
    "            # Predicted energy ensembles\n",
    "            for jj in tqdm(range(100)):\n",
    "                atoms.calc.set_parameters(active_member_id=[[0], [jj + 1]])\n",
    "                preds[jj, ii] = atoms.get_potential_energy()\n",
    "        configs_dict[struct].update(\n",
    "            {\"energy\": energies, \"natoms\": natoms, \"prediction\": preds}\n",
    "        )\n",
    "\n",
    "        with open(uncertainty_energy_file, \"wb\") as f:\n",
    "            pickle.dump(configs_dict, f, protocol=4)"
   ]
  },
  {
   "cell_type": "markdown",
   "metadata": {},
   "source": [
    "# Plot"
   ]
  },
  {
   "cell_type": "code",
   "execution_count": null,
   "metadata": {
    "ExecuteTime": {
     "end_time": "2024-01-18T19:41:25.190460Z",
     "start_time": "2024-01-18T19:41:25.190429Z"
    },
    "scrolled": false
   },
   "outputs": [],
   "source": [
    "# Parity plot each structure separately\n",
    "for structure in structures:\n",
    "    # Get the data\n",
    "    ref_eng = configs_dict[structure][\"energy\"]\n",
    "    natoms = configs_dict[structure][\"natoms\"]\n",
    "    ens_eng = configs_dict[structure][\"prediction\"]\n",
    "    ens_eng_mean = np.mean(ens_eng, axis=0)\n",
    "    ens_eng_err = np.std(ens_eng, axis=0)\n",
    "\n",
    "    # Some plotting constants\n",
    "    xdata = ref_eng\n",
    "    ydata = ens_eng_mean\n",
    "    eng_max = np.max(xdata)\n",
    "    eng_min = np.min(xdata)\n",
    "    eng_range = eng_max - eng_min\n",
    "    axis_min = eng_min - 0.1 * eng_range\n",
    "    axis_max = eng_max + 0.1 * eng_range\n",
    "\n",
    "    # Plot\n",
    "    plt.figure()\n",
    "    plt.title(structure)\n",
    "    plt.errorbar(xdata, ydata, ens_eng_err, fmt=\".\", capsize=3)\n",
    "    plt.plot([axis_min, axis_max], [axis_min, axis_max], c=\"k\")\n",
    "    plt.xlim(axis_min, axis_max)\n",
    "    plt.ylim(axis_min, axis_max)\n",
    "    plt.xlabel(\"Reference\")\n",
    "    plt.ylabel(\"Prediction\")\n",
    "    plt.gca().set_aspect(\"equal\")\n",
    "plt.show()"
   ]
  },
  {
   "cell_type": "code",
   "execution_count": null,
   "metadata": {
    "ExecuteTime": {
     "end_time": "2024-01-18T19:41:25.193297Z",
     "start_time": "2024-01-18T19:41:25.193266Z"
    }
   },
   "outputs": [],
   "source": [
    "# Combined parity plot, normalize the energy by the number of atoms in each structure.\n",
    "plt.figure()\n",
    "plt.title(\"Energy per atom (eV)\")\n",
    "for structure in structures:\n",
    "    # Get the data\n",
    "    ref_eng = configs_dict[structure][\"energy\"]\n",
    "    natoms = configs_dict[structure][\"natoms\"]\n",
    "    ens_eng = configs_dict[structure][\"prediction\"]\n",
    "    ens_eng_mean = np.mean(ens_eng, axis=0)\n",
    "    ens_eng_err = np.std(ens_eng, axis=0)\n",
    "\n",
    "    # Some plotting constants\n",
    "    xdata = ref_eng / natoms\n",
    "    ydata = ens_eng_mean / natoms\n",
    "    eng_max = np.max([xdata, ydata])\n",
    "    eng_min = np.min([xdata, ydata])\n",
    "    eng_range = eng_max - eng_min\n",
    "    axis_min = eng_min - 0.1 * eng_range\n",
    "    axis_max = eng_max + 0.1 * eng_range\n",
    "\n",
    "    # Plot\n",
    "    plt.errorbar(\n",
    "        xdata, ydata, ens_eng_err, fmt=\".\", capsize=3, alpha=0.7, label=structure\n",
    "    )\n",
    "\n",
    "plt.plot([-8.2, -7.6], [-8.2, -7.6], c=\"k\")\n",
    "plt.xlabel(\"Reference\")\n",
    "plt.ylabel(\"Prediction\")\n",
    "plt.legend()\n",
    "plt.show()"
   ]
  },
  {
   "cell_type": "code",
   "execution_count": null,
   "metadata": {
    "ExecuteTime": {
     "end_time": "2024-01-18T19:41:25.195126Z",
     "start_time": "2024-01-18T19:41:25.195096Z"
    }
   },
   "outputs": [],
   "source": [
    "# Histogram of the energy uncertainty\n",
    "plt.figure()\n",
    "for structure in structures:\n",
    "    # Get the data\n",
    "    ens_eng = configs_dict[structure][\"prediction\"]\n",
    "    ens_eng_err = np.std(ens_eng, axis=0)\n",
    "\n",
    "    # Plot\n",
    "    plt.hist(ens_eng_err, density=True, bins=\"auto\", alpha=0.5, label=structure)\n",
    "\n",
    "plt.xlabel(\"Energy uncertainty\")\n",
    "plt.ylabel(\"Density\")\n",
    "plt.legend()\n",
    "plt.show()"
   ]
  },
  {
   "cell_type": "code",
   "execution_count": null,
   "metadata": {
    "ExecuteTime": {
     "end_time": "2024-01-18T19:41:25.196890Z",
     "start_time": "2024-01-18T19:41:25.196861Z"
    }
   },
   "outputs": [],
   "source": [
    "# Histogram of the energy error\n",
    "plt.figure()\n",
    "for structure in structures:\n",
    "    # Get the data\n",
    "    ref_eng = configs_dict[structure][\"energy\"]\n",
    "    natoms = configs_dict[structure][\"natoms\"]\n",
    "    ens_eng = configs_dict[structure][\"prediction\"]\n",
    "    ens_eng_mean = np.mean(ens_eng, axis=0)\n",
    "\n",
    "    # Plot\n",
    "    plt.hist(\n",
    "        (ens_eng_mean - ref_eng), density=True, bins=\"auto\", alpha=0.5, label=structure\n",
    "    )\n",
    "\n",
    "plt.xlabel(\"Energy error\")\n",
    "plt.ylabel(\"Density\")\n",
    "plt.legend()\n",
    "plt.show()"
   ]
  },
  {
   "cell_type": "code",
   "execution_count": null,
   "metadata": {
    "ExecuteTime": {
     "end_time": "2024-01-18T19:41:25.199429Z",
     "start_time": "2024-01-18T19:41:25.199400Z"
    }
   },
   "outputs": [],
   "source": [
    "# Energy error vs energy uncertainty\n",
    "plt.figure()\n",
    "for structure in structures:\n",
    "    # Get the data\n",
    "    ref_eng = configs_dict[structure][\"energy\"]\n",
    "    natoms = configs_dict[structure][\"natoms\"]\n",
    "    ens_eng = configs_dict[structure][\"prediction\"]\n",
    "    ens_eng_mean = np.mean(ens_eng, axis=0)\n",
    "    ens_eng_std = np.std(ens_eng, axis=0)\n",
    "    eng_err = np.abs(ens_eng_mean - ref_eng)\n",
    "\n",
    "    # Plot\n",
    "    plt.plot(eng_err, ens_eng_std, \".\", label=structure)\n",
    "\n",
    "plt.xlabel(\"Energy error per atom\")\n",
    "plt.ylabel(\"Energy uncertainty\")\n",
    "plt.xlim(left=0.0)\n",
    "plt.ylim(bottom=0.0)\n",
    "plt.gca().set_aspect(1)\n",
    "plt.legend()\n",
    "plt.show()"
   ]
  },
  {
   "cell_type": "code",
   "execution_count": null,
   "metadata": {},
   "outputs": [],
   "source": []
  }
 ],
 "metadata": {
  "kernelspec": {
   "display_name": "Python 3 (ipykernel)",
   "language": "python",
   "name": "python3"
  },
  "language_info": {
   "codemirror_mode": {
    "name": "ipython",
    "version": 3
   },
   "file_extension": ".py",
   "mimetype": "text/x-python",
   "name": "python",
   "nbconvert_exporter": "python",
   "pygments_lexer": "ipython3",
   "version": "3.7.4"
  },
  "toc": {
   "base_numbering": 1,
   "nav_menu": {},
   "number_sections": true,
   "sideBar": true,
   "skip_h1_title": false,
   "title_cell": "Table of Contents",
   "title_sidebar": "Contents",
   "toc_cell": false,
   "toc_position": {},
   "toc_section_display": true,
   "toc_window_display": false
  },
  "varInspector": {
   "cols": {
    "lenName": 16,
    "lenType": 16,
    "lenVar": 40
   },
   "kernels_config": {
    "python": {
     "delete_cmd_postfix": "",
     "delete_cmd_prefix": "del ",
     "library": "var_list.py",
     "varRefreshCmd": "print(var_dic_list())"
    },
    "r": {
     "delete_cmd_postfix": ") ",
     "delete_cmd_prefix": "rm(",
     "library": "var_list.r",
     "varRefreshCmd": "cat(var_dic_list()) "
    }
   },
   "types_to_exclude": [
    "module",
    "function",
    "builtin_function_or_method",
    "instance",
    "_Feature"
   ],
   "window_display": false
  }
 },
 "nbformat": 4,
 "nbformat_minor": 2
}
