{
 "cells": [
  {
   "cell_type": "markdown",
   "metadata": {},
   "source": [
    "In this notebook, I want to compute the uncertainty of the equilibrium lattice constant and the cohesive energy from the bootstrap ensembles."
   ]
  },
  {
   "cell_type": "code",
   "execution_count": 1,
   "metadata": {
    "ExecuteTime": {
     "end_time": "2024-05-15T17:01:25.838959Z",
     "start_time": "2024-05-15T17:01:25.822380Z"
    }
   },
   "outputs": [],
   "source": [
    "from pathlib import Path\n",
    "from datetime import datetime\n",
    "from tqdm import tqdm\n",
    "import sys\n",
    "\n",
    "import numpy as np\n",
    "import matplotlib.pyplot as plt\n",
    "\n",
    "%matplotlib inline\n",
    "plt.style.use(\"default\")\n",
    "\n",
    "WORK_DIR = Path().absolute()\n",
    "RES_DIR = WORK_DIR / \"results\" / \"dropout\"\n",
    "sys.path.append(str(WORK_DIR.parent))"
   ]
  },
  {
   "cell_type": "code",
   "execution_count": 2,
   "metadata": {
    "ExecuteTime": {
     "end_time": "2024-05-15T17:01:25.897990Z",
     "start_time": "2024-05-15T17:01:25.842280Z"
    }
   },
   "outputs": [],
   "source": [
    "from energyvslatconst.relaxation_latconst import equilibrate_graphite"
   ]
  },
  {
   "cell_type": "code",
   "execution_count": 3,
   "metadata": {
    "ExecuteTime": {
     "end_time": "2024-05-15T17:01:25.913417Z",
     "start_time": "2024-05-15T17:01:25.903928Z"
    }
   },
   "outputs": [],
   "source": [
    "# Read setting file\n",
    "ROOT_DIR = WORK_DIR.parent\n",
    "with open(ROOT_DIR / \"settings.json\", \"r\") as f:\n",
    "    settings = json.load(f)\n",
    "partition = settings[\"partition\"]\n",
    "suffix = \"_\".join([str(n) for n in settings[\"Nnodes\"]])\n",
    "RES_DIR = WORK_DIR / \"results\" / \"dropout\" / f\"{partition}_partition_{suffix}\""
   ]
  },
  {
   "cell_type": "code",
   "execution_count": 4,
   "metadata": {
    "ExecuteTime": {
     "end_time": "2024-05-15T17:01:25.934682Z",
     "start_time": "2024-05-15T17:01:25.917849Z"
    }
   },
   "outputs": [],
   "source": [
    "a0_c0_e0_file = RES_DIR / \"uncertainty_latconst_ecoh_graphite.npz\"\n",
    "if a0_c0_e0_file.exists():\n",
    "    a0_c0_e0 = np.load(a0_c0_e0_file)\n",
    "    a0_list = a0_c0_e0[\"a0_list\"]\n",
    "    c0_list = a0_c0_e0[\"c0_list\"]\n",
    "    e0_list = a0_c0_e0[\"e0_list\"]\n",
    "else:\n",
    "    a0_list = []\n",
    "    c0_list = []\n",
    "    e0_list = []\n",
    "\n",
    "    ainit = 2.466  # From materials project for graphite-like structure\n",
    "    cinit = 3.348  # From https://doi.org/10.1073/pnas.2134173100\n",
    "    for ii in tqdm(range(100)):\n",
    "        # Equilibration\n",
    "        a0, c0, e0 = equilibrate_graphite(\n",
    "            \"DUNN_best_train\", ainit, cinit, active_member_id=ii + 1\n",
    "        )\n",
    "        a0_list = np.append(a0_list, a0)\n",
    "        c0_list = np.append(c0_list, c0)\n",
    "        e0_list = np.append(e0_list, e0)\n",
    "\n",
    "    np.savez(a0_c0_e0_file, a0_list=a0_list, c0_list=c0_list, e0_list=e0_list)"
   ]
  },
  {
   "cell_type": "code",
   "execution_count": 5,
   "metadata": {
    "ExecuteTime": {
     "end_time": "2024-05-15T17:01:25.954841Z",
     "start_time": "2024-05-15T17:01:25.939663Z"
    }
   },
   "outputs": [
    {
     "name": "stdout",
     "output_type": "stream",
     "text": [
      "In-plane lattice constant a\n",
      "Mean: 2.46424759875\n",
      "Stdev: 0.005803284461697692\n"
     ]
    }
   ],
   "source": [
    "# Lattice constant a\n",
    "print(\"In-plane lattice constant a\")\n",
    "print(\"Mean:\", np.mean(a0_list))\n",
    "print(\"Stdev:\", np.std(a0_list))"
   ]
  },
  {
   "cell_type": "code",
   "execution_count": 6,
   "metadata": {
    "ExecuteTime": {
     "end_time": "2024-05-15T17:01:25.972512Z",
     "start_time": "2024-05-15T17:01:25.961897Z"
    }
   },
   "outputs": [
    {
     "name": "stdout",
     "output_type": "stream",
     "text": [
      "Out-of-plane lattice constant c\n",
      "Mean: 3.3456208274999995\n",
      "Stdev: 0.007878911750918035\n"
     ]
    }
   ],
   "source": [
    "# Lattice constant c\n",
    "print(\"Out-of-plane lattice constant c\")\n",
    "print(\"Mean:\", np.mean(c0_list))\n",
    "print(\"Stdev:\", np.std(c0_list))"
   ]
  },
  {
   "cell_type": "code",
   "execution_count": 7,
   "metadata": {
    "ExecuteTime": {
     "end_time": "2024-05-15T17:01:25.997344Z",
     "start_time": "2024-05-15T17:01:25.978221Z"
    }
   },
   "outputs": [
    {
     "name": "stdout",
     "output_type": "stream",
     "text": [
      "Cohesive energy\n",
      "Mean: -8.100626455748051\n",
      "Stdev: 0.01552393586934175\n"
     ]
    }
   ],
   "source": [
    "# Cobesive energy\n",
    "print(\"Cohesive energy\")\n",
    "print(\"Mean:\", np.mean(e0_list))\n",
    "print(\"Stdev:\", np.std(e0_list))"
   ]
  },
  {
   "cell_type": "code",
   "execution_count": null,
   "metadata": {},
   "outputs": [],
   "source": []
  }
 ],
 "metadata": {
  "kernelspec": {
   "display_name": "Python 3 (ipykernel)",
   "language": "python",
   "name": "python3"
  },
  "language_info": {
   "codemirror_mode": {
    "name": "ipython",
    "version": 3
   },
   "file_extension": ".py",
   "mimetype": "text/x-python",
   "name": "python",
   "nbconvert_exporter": "python",
   "pygments_lexer": "ipython3",
   "version": "3.7.4"
  },
  "toc": {
   "base_numbering": 1,
   "nav_menu": {},
   "number_sections": true,
   "sideBar": true,
   "skip_h1_title": false,
   "title_cell": "Table of Contents",
   "title_sidebar": "Contents",
   "toc_cell": false,
   "toc_position": {},
   "toc_section_display": true,
   "toc_window_display": false
  },
  "varInspector": {
   "cols": {
    "lenName": 16,
    "lenType": 16,
    "lenVar": 40
   },
   "kernels_config": {
    "python": {
     "delete_cmd_postfix": "",
     "delete_cmd_prefix": "del ",
     "library": "var_list.py",
     "varRefreshCmd": "print(var_dic_list())"
    },
    "r": {
     "delete_cmd_postfix": ") ",
     "delete_cmd_prefix": "rm(",
     "library": "var_list.r",
     "varRefreshCmd": "cat(var_dic_list()) "
    }
   },
   "types_to_exclude": [
    "module",
    "function",
    "builtin_function_or_method",
    "instance",
    "_Feature"
   ],
   "window_display": false
  }
 },
 "nbformat": 4,
 "nbformat_minor": 2
}
