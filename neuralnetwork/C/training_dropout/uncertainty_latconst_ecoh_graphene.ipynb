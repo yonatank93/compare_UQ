{
 "cells": [
  {
   "cell_type": "markdown",
   "metadata": {},
   "source": [
    "In this notebook, I want to compute the uncertainty of the equilibrium lattice constant and the cohesive energy from the bootstrap ensembles."
   ]
  },
  {
   "cell_type": "code",
   "execution_count": 1,
   "metadata": {
    "ExecuteTime": {
     "end_time": "2024-05-15T16:56:38.411425Z",
     "start_time": "2024-05-15T16:56:38.392652Z"
    }
   },
   "outputs": [],
   "source": [
    "from pathlib import Path\n",
    "from datetime import datetime\n",
    "from tqdm import tqdm\n",
    "import sys\n",
    "\n",
    "import numpy as np\n",
    "import matplotlib.pyplot as plt\n",
    "\n",
    "%matplotlib inline\n",
    "plt.style.use(\"default\")\n",
    "\n",
    "WORK_DIR = Path().absolute()\n",
    "sys.path.append(str(WORK_DIR.parent))"
   ]
  },
  {
   "cell_type": "code",
   "execution_count": 2,
   "metadata": {
    "ExecuteTime": {
     "end_time": "2024-05-15T16:56:38.476337Z",
     "start_time": "2024-05-15T16:56:38.415678Z"
    }
   },
   "outputs": [],
   "source": [
    "from energyvslatconst.relaxation_latconst import equilibrate_graphene"
   ]
  },
  {
   "cell_type": "code",
   "execution_count": 3,
   "metadata": {
    "ExecuteTime": {
     "end_time": "2024-05-15T16:56:38.489620Z",
     "start_time": "2024-05-15T16:56:38.479781Z"
    }
   },
   "outputs": [],
   "source": [
    "# Read setting file\n",
    "ROOT_DIR = WORK_DIR.parent\n",
    "with open(ROOT_DIR / \"settings.json\", \"r\") as f:\n",
    "    settings = json.load(f)\n",
    "partition = settings[\"partition\"]\n",
    "suffix = \"_\".join([str(n) for n in settings[\"Nnodes\"]])\n",
    "RES_DIR = WORK_DIR / \"results\" / \"dropout\" / f\"{partition}_partition_{suffix}\""
   ]
  },
  {
   "cell_type": "code",
   "execution_count": 4,
   "metadata": {
    "ExecuteTime": {
     "end_time": "2024-05-15T16:56:38.510241Z",
     "start_time": "2024-05-15T16:56:38.495031Z"
    }
   },
   "outputs": [],
   "source": [
    "a0_e0_file = RES_DIR / \"uncertainty_latconst_ecoh_graphene.npz\"\n",
    "if a0_e0_file.exists():\n",
    "    a0_e0 = np.load(a0_e0_file)\n",
    "    a0_list = a0_e0[\"a0_list\"]\n",
    "    e0_list = a0_e0[\"e0_list\"]\n",
    "else:\n",
    "    a0_list = []\n",
    "    e0_list = []\n",
    "\n",
    "    ainit = 2.466  # From materials project for graphite-like structure\n",
    "    for ii in tqdm(range(100)):\n",
    "        # Equilibration\n",
    "        a0, e0 = equilibrate_graphene(\"DUNN_best_train\", ainit, active_member_id=ii + 1)\n",
    "        a0_list = np.append(a0_list, a0)\n",
    "        e0_list = np.append(e0_list, e0)\n",
    "\n",
    "    np.savez(a0_e0_file, a0_list=a0_list, e0_list=e0_list)"
   ]
  },
  {
   "cell_type": "code",
   "execution_count": 5,
   "metadata": {
    "ExecuteTime": {
     "end_time": "2024-05-15T16:56:38.522722Z",
     "start_time": "2024-05-15T16:56:38.513587Z"
    }
   },
   "outputs": [
    {
     "name": "stdout",
     "output_type": "stream",
     "text": [
      "Lattice constant\n",
      "Mean: 2.4564197826562504\n",
      "Stdev: 0.0045791236489604445\n"
     ]
    }
   ],
   "source": [
    "# Lattice constant\n",
    "print(\"Lattice constant\")\n",
    "print(\"Mean:\", np.mean(a0_list))\n",
    "print(\"Stdev:\", np.std(a0_list))"
   ]
  },
  {
   "cell_type": "code",
   "execution_count": 6,
   "metadata": {
    "ExecuteTime": {
     "end_time": "2024-05-15T16:56:38.541364Z",
     "start_time": "2024-05-15T16:56:38.525842Z"
    }
   },
   "outputs": [
    {
     "name": "stdout",
     "output_type": "stream",
     "text": [
      "Cohesive energy\n",
      "Mean: -8.064552193755127\n",
      "Stdev: 0.01544903614214836\n"
     ]
    }
   ],
   "source": [
    "# Cobesive energy\n",
    "print(\"Cohesive energy\")\n",
    "print(\"Mean:\", np.mean(e0_list))\n",
    "print(\"Stdev:\", np.std(e0_list))"
   ]
  },
  {
   "cell_type": "code",
   "execution_count": null,
   "metadata": {},
   "outputs": [],
   "source": []
  }
 ],
 "metadata": {
  "kernelspec": {
   "display_name": "Python 3 (ipykernel)",
   "language": "python",
   "name": "python3"
  },
  "language_info": {
   "codemirror_mode": {
    "name": "ipython",
    "version": 3
   },
   "file_extension": ".py",
   "mimetype": "text/x-python",
   "name": "python",
   "nbconvert_exporter": "python",
   "pygments_lexer": "ipython3",
   "version": "3.7.4"
  },
  "toc": {
   "base_numbering": 1,
   "nav_menu": {},
   "number_sections": true,
   "sideBar": true,
   "skip_h1_title": false,
   "title_cell": "Table of Contents",
   "title_sidebar": "Contents",
   "toc_cell": false,
   "toc_position": {},
   "toc_section_display": true,
   "toc_window_display": false
  },
  "varInspector": {
   "cols": {
    "lenName": 16,
    "lenType": 16,
    "lenVar": 40
   },
   "kernels_config": {
    "python": {
     "delete_cmd_postfix": "",
     "delete_cmd_prefix": "del ",
     "library": "var_list.py",
     "varRefreshCmd": "print(var_dic_list())"
    },
    "r": {
     "delete_cmd_postfix": ") ",
     "delete_cmd_prefix": "rm(",
     "library": "var_list.r",
     "varRefreshCmd": "cat(var_dic_list()) "
    }
   },
   "types_to_exclude": [
    "module",
    "function",
    "builtin_function_or_method",
    "instance",
    "_Feature"
   ],
   "window_display": false
  }
 },
 "nbformat": 4,
 "nbformat_minor": 2
}
