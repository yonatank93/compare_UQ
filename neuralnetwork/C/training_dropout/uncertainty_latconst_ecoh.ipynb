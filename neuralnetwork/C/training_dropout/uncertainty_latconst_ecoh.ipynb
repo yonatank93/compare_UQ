{
 "cells": [
  {
   "cell_type": "markdown",
   "metadata": {},
   "source": [
    "In this notebook, I want to compute the uncertainty of the equilibrium lattice constant and the cohesive energy from the bootstrap ensembles."
   ]
  },
  {
   "cell_type": "code",
   "execution_count": 1,
   "metadata": {
    "ExecuteTime": {
     "end_time": "2024-01-04T22:49:49.530364Z",
     "start_time": "2024-01-04T22:49:49.519907Z"
    }
   },
   "outputs": [],
   "source": [
    "from pathlib import Path\n",
    "from datetime import datetime\n",
    "from tqdm import tqdm\n",
    "import sys\n",
    "\n",
    "WORK_DIR = Path().absolute()\n",
    "RES_DIR = WORK_DIR / \"results\" / \"dropout\"\n",
    "sys.path.append(str(WORK_DIR.parent))"
   ]
  },
  {
   "cell_type": "code",
   "execution_count": 2,
   "metadata": {
    "ExecuteTime": {
     "end_time": "2024-01-04T22:49:49.606465Z",
     "start_time": "2024-01-04T22:49:49.533571Z"
    }
   },
   "outputs": [],
   "source": [
    "from energyvslatconst.relaxation_latconst import equilibrate_graphene_dropout\n",
    "\n",
    "import numpy as np\n",
    "import matplotlib.pyplot as plt\n",
    "\n",
    "%matplotlib inline\n",
    "plt.style.use(\"default\")"
   ]
  },
  {
   "cell_type": "code",
   "execution_count": 3,
   "metadata": {
    "ExecuteTime": {
     "end_time": "2024-01-04T22:49:49.623485Z",
     "start_time": "2024-01-04T22:49:49.611018Z"
    }
   },
   "outputs": [],
   "source": [
    "a0_e0_file = RES_DIR / \"uncertainty_latconst_ecoh.npz\"\n",
    "if a0_e0_file.exists():\n",
    "    a0_e0 = np.load(a0_e0_file)\n",
    "    a0_list = a0_e0[\"a0_list\"]\n",
    "    e0_list = a0_e0[\"e0_list\"]\n",
    "else:\n",
    "    ainit = 2.466  # From materials project for graphite-like structure\n",
    "    a0_list, e0_list = equilibrate_graphene_dropout(\"DUNN_best_train\", ainit)\n",
    "    np.savez(a0_e0_file, a0_list=a0_list, e0_list=e0_list)"
   ]
  },
  {
   "cell_type": "code",
   "execution_count": 4,
   "metadata": {
    "ExecuteTime": {
     "end_time": "2024-01-04T22:49:49.636202Z",
     "start_time": "2024-01-04T22:49:49.626943Z"
    }
   },
   "outputs": [
    {
     "name": "stdout",
     "output_type": "stream",
     "text": [
      "Lattice constant\n",
      "Mean: 2.45723086546875\n",
      "Stdev: 0.004488497072216353\n"
     ]
    }
   ],
   "source": [
    "# Lattice constant\n",
    "print(\"Lattice constant\")\n",
    "print(\"Mean:\", np.mean(a0_list))\n",
    "print(\"Stdev:\", np.std(a0_list))"
   ]
  },
  {
   "cell_type": "code",
   "execution_count": 5,
   "metadata": {
    "ExecuteTime": {
     "end_time": "2024-01-04T22:49:49.652762Z",
     "start_time": "2024-01-04T22:49:49.639518Z"
    }
   },
   "outputs": [
    {
     "name": "stdout",
     "output_type": "stream",
     "text": [
      "Cohesive energy\n",
      "Mean: -8.050730329049944\n",
      "Stdev: 0.015360018531066083\n"
     ]
    }
   ],
   "source": [
    "# Cobesive energy\n",
    "print(\"Cohesive energy\")\n",
    "print(\"Mean:\", np.mean(e0_list))\n",
    "print(\"Stdev:\", np.std(e0_list))"
   ]
  },
  {
   "cell_type": "code",
   "execution_count": null,
   "metadata": {},
   "outputs": [],
   "source": []
  }
 ],
 "metadata": {
  "kernelspec": {
   "display_name": "Python 3 (ipykernel)",
   "language": "python",
   "name": "python3"
  },
  "language_info": {
   "codemirror_mode": {
    "name": "ipython",
    "version": 3
   },
   "file_extension": ".py",
   "mimetype": "text/x-python",
   "name": "python",
   "nbconvert_exporter": "python",
   "pygments_lexer": "ipython3",
   "version": "3.7.4"
  },
  "toc": {
   "base_numbering": 1,
   "nav_menu": {},
   "number_sections": true,
   "sideBar": true,
   "skip_h1_title": false,
   "title_cell": "Table of Contents",
   "title_sidebar": "Contents",
   "toc_cell": false,
   "toc_position": {},
   "toc_section_display": true,
   "toc_window_display": false
  },
  "varInspector": {
   "cols": {
    "lenName": 16,
    "lenType": 16,
    "lenVar": 40
   },
   "kernels_config": {
    "python": {
     "delete_cmd_postfix": "",
     "delete_cmd_prefix": "del ",
     "library": "var_list.py",
     "varRefreshCmd": "print(var_dic_list())"
    },
    "r": {
     "delete_cmd_postfix": ") ",
     "delete_cmd_prefix": "rm(",
     "library": "var_list.r",
     "varRefreshCmd": "cat(var_dic_list()) "
    }
   },
   "types_to_exclude": [
    "module",
    "function",
    "builtin_function_or_method",
    "instance",
    "_Feature"
   ],
   "window_display": false
  }
 },
 "nbformat": 4,
 "nbformat_minor": 2
}
