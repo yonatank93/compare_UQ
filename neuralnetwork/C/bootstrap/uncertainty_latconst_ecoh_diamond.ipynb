{
 "cells": [
  {
   "cell_type": "markdown",
   "metadata": {},
   "source": [
    "In this notebook, I want to compute the uncertainty of the equilibrium lattice constant and the cohesive energy from the bootstrap ensembles."
   ]
  },
  {
   "cell_type": "code",
   "execution_count": 1,
   "metadata": {
    "ExecuteTime": {
     "end_time": "2024-05-16T19:52:55.554094Z",
     "start_time": "2024-05-16T19:52:55.542921Z"
    }
   },
   "outputs": [],
   "source": [
    "from pathlib import Path\n",
    "from datetime import datetime\n",
    "from tqdm import tqdm\n",
    "import sys\n",
    "import json\n",
    "import re\n",
    "from multiprocessing import Pool\n",
    "\n",
    "import numpy as np\n",
    "import matplotlib.pyplot as plt\n",
    "\n",
    "WORK_DIR = Path().absolute()\n",
    "sys.path.append(str(WORK_DIR.parent))"
   ]
  },
  {
   "cell_type": "code",
   "execution_count": 2,
   "metadata": {
    "ExecuteTime": {
     "end_time": "2024-05-16T19:52:55.612640Z",
     "start_time": "2024-05-16T19:52:55.559253Z"
    }
   },
   "outputs": [],
   "source": [
    "from energyvslatconst.relaxation_latconst import equilibrate_diamond"
   ]
  },
  {
   "cell_type": "code",
   "execution_count": 3,
   "metadata": {
    "ExecuteTime": {
     "end_time": "2024-05-16T19:52:55.626325Z",
     "start_time": "2024-05-16T19:52:55.616105Z"
    }
   },
   "outputs": [],
   "source": [
    "# Read settings\n",
    "ROOT_DIR = WORK_DIR.parent\n",
    "SETTINGS_DIR = ROOT_DIR / \"settings\"\n",
    "\n",
    "settings_path = SETTINGS_DIR / \"settings0.json\"\n",
    "with open(settings_path, \"r\") as f:\n",
    "    settings = json.load(f)\n",
    "\n",
    "RES_DIR = WORK_DIR / \"results\" / re.match(r\"^[^_\\.]+\", settings_path.name).group()\n",
    "if not RES_DIR.exists():\n",
    "    RES_DIR.mkdir(parents=True)"
   ]
  },
  {
   "cell_type": "code",
   "execution_count": 4,
   "metadata": {
    "ExecuteTime": {
     "end_time": "2024-05-16T19:52:55.659109Z",
     "start_time": "2024-05-16T19:52:55.631705Z"
    }
   },
   "outputs": [],
   "source": [
    "a0_e0_file = RES_DIR / \"uncertainty_latconst_ecoh_diamond.npz\"\n",
    "if a0_e0_file.exists():\n",
    "    a0_e0 = np.load(a0_e0_file)\n",
    "    a0_list = a0_e0[\"a0_list\"]\n",
    "    e0_list = a0_e0[\"e0_list\"]\n",
    "else:\n",
    "    # Use multiprocessing to speed up the calculation\n",
    "    ainit = 3.56  # From materials project for diamond structure\n",
    "\n",
    "    def equilibrate_diamond_wrapper(set_idx):\n",
    "        potential = f\"DUNN_C_bootstrap_{set_idx:03d}\"\n",
    "        return equilibrate_diamond(potential, ainit, active_member_id=0)\n",
    "\n",
    "    with Pool(25) as p:\n",
    "        a0_e0_list = np.array(list(p.map(equilibrate_diamond_wrapper, range(100))))\n",
    "\n",
    "    a0_list, e0_list = a0_e0_list.T\n",
    "    np.savez(a0_e0_file, a0_list=a0_list, e0_list=e0_list)"
   ]
  },
  {
   "cell_type": "code",
   "execution_count": 5,
   "metadata": {
    "ExecuteTime": {
     "end_time": "2024-05-16T19:52:55.671079Z",
     "start_time": "2024-05-16T19:52:55.662602Z"
    }
   },
   "outputs": [
    {
     "name": "stdout",
     "output_type": "stream",
     "text": [
      "Lattice constant\n",
      "Mean: 3.5942949679687515\n",
      "Stdev: 0.003954411787172968\n"
     ]
    }
   ],
   "source": [
    "# Lattice constant\n",
    "print(\"Lattice constant\")\n",
    "print(\"Mean:\", np.mean(a0_list))\n",
    "print(\"Stdev:\", np.std(a0_list))"
   ]
  },
  {
   "cell_type": "code",
   "execution_count": 6,
   "metadata": {
    "ExecuteTime": {
     "end_time": "2024-05-16T19:52:55.688866Z",
     "start_time": "2024-05-16T19:52:55.677451Z"
    }
   },
   "outputs": [
    {
     "name": "stdout",
     "output_type": "stream",
     "text": [
      "Cohesive energy\n",
      "Mean: -8.071314436939366\n",
      "Stdev: 0.005693609881312445\n"
     ]
    }
   ],
   "source": [
    "# Cobesive energy\n",
    "print(\"Cohesive energy\")\n",
    "print(\"Mean:\", np.mean(e0_list))\n",
    "print(\"Stdev:\", np.std(e0_list))"
   ]
  },
  {
   "cell_type": "code",
   "execution_count": null,
   "metadata": {},
   "outputs": [],
   "source": []
  }
 ],
 "metadata": {
  "kernelspec": {
   "display_name": "Python 3 (ipykernel)",
   "language": "python",
   "name": "python3"
  },
  "language_info": {
   "codemirror_mode": {
    "name": "ipython",
    "version": 3
   },
   "file_extension": ".py",
   "mimetype": "text/x-python",
   "name": "python",
   "nbconvert_exporter": "python",
   "pygments_lexer": "ipython3",
   "version": "3.9.18"
  },
  "toc": {
   "base_numbering": 1,
   "nav_menu": {},
   "number_sections": true,
   "sideBar": true,
   "skip_h1_title": false,
   "title_cell": "Table of Contents",
   "title_sidebar": "Contents",
   "toc_cell": false,
   "toc_position": {},
   "toc_section_display": true,
   "toc_window_display": false
  },
  "varInspector": {
   "cols": {
    "lenName": 16,
    "lenType": 16,
    "lenVar": 40
   },
   "kernels_config": {
    "python": {
     "delete_cmd_postfix": "",
     "delete_cmd_prefix": "del ",
     "library": "var_list.py",
     "varRefreshCmd": "print(var_dic_list())"
    },
    "r": {
     "delete_cmd_postfix": ") ",
     "delete_cmd_prefix": "rm(",
     "library": "var_list.r",
     "varRefreshCmd": "cat(var_dic_list()) "
    }
   },
   "types_to_exclude": [
    "module",
    "function",
    "builtin_function_or_method",
    "instance",
    "_Feature"
   ],
   "window_display": false
  }
 },
 "nbformat": 4,
 "nbformat_minor": 4
}
