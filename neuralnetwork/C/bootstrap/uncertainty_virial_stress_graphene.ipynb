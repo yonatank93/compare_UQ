{
 "cells": [
  {
   "cell_type": "code",
   "execution_count": 1,
   "metadata": {
    "ExecuteTime": {
     "end_time": "2024-05-16T19:58:11.087242Z",
     "start_time": "2024-05-16T19:58:10.876874Z"
    }
   },
   "outputs": [],
   "source": [
    "from pathlib import Path\n",
    "import pickle\n",
    "import json\n",
    "import re\n",
    "import argparse\n",
    "from tqdm import tqdm\n",
    "import sys\n",
    "\n",
    "import numpy as np\n",
    "import matplotlib.pyplot as plt\n",
    "from ase.units import create_units\n",
    "\n",
    "WORK_DIR = Path().absolute()\n",
    "sys.path.append(str(WORK_DIR.parent))\n",
    "\n",
    "from virialstress import virialvslatconst\n",
    "\n",
    "%matplotlib inline\n",
    "plt.style.use(\"default\")\n",
    "\n",
    "u = create_units(\"2018\")"
   ]
  },
  {
   "cell_type": "code",
   "execution_count": 2,
   "metadata": {
    "ExecuteTime": {
     "end_time": "2024-05-16T19:58:11.107865Z",
     "start_time": "2024-05-16T19:58:11.092373Z"
    }
   },
   "outputs": [],
   "source": [
    "# Read settings\n",
    "ROOT_DIR = WORK_DIR.parent\n",
    "SETTINGS_DIR = ROOT_DIR / \"settings\"\n",
    "\n",
    "settings_path = SETTINGS_DIR / \"settings0.json\"\n",
    "with open(settings_path, \"r\") as f:\n",
    "    settings = json.load(f)\n",
    "\n",
    "RES_DIR = WORK_DIR / \"results\" / re.match(r\"^[^_\\.]+\", settings_path.name).group()\n",
    "if not RES_DIR.exists():\n",
    "    RES_DIR.mkdir(parents=True)\n",
    "PLOT_DIR = RES_DIR / \"plots\"\n",
    "if not PLOT_DIR.exists():\n",
    "    PLOT_DIR.mkdir(parents=True)"
   ]
  },
  {
   "cell_type": "code",
   "execution_count": 3,
   "metadata": {
    "ExecuteTime": {
     "end_time": "2024-05-16T19:58:11.124890Z",
     "start_time": "2024-05-16T19:58:11.116201Z"
    }
   },
   "outputs": [],
   "source": [
    "alist = np.linspace(0.95, 1.05, 11) * 2.466"
   ]
  },
  {
   "cell_type": "code",
   "execution_count": 4,
   "metadata": {
    "ExecuteTime": {
     "end_time": "2024-05-16T19:58:21.462885Z",
     "start_time": "2024-05-16T19:58:11.128945Z"
    },
    "scrolled": true
   },
   "outputs": [
    {
     "name": "stderr",
     "output_type": "stream",
     "text": [
      "  0%|                                                                         | 0/100 [00:00<?, ?it/s]\n",
      "100%|████████████████████████████████████████████████████████████████| 11/11 [00:00<00:00, 320.51it/s]\u001b[A\n",
      "  1%|▋                                                                | 1/100 [00:00<00:12,  8.14it/s]\n",
      "100%|████████████████████████████████████████████████████████████████| 11/11 [00:00<00:00, 580.34it/s]\u001b[A\n",
      "  2%|█▎                                                               | 2/100 [00:00<00:12,  8.10it/s]\n",
      "100%|████████████████████████████████████████████████████████████████| 11/11 [00:00<00:00, 245.26it/s]\u001b[A\n",
      "  3%|█▉                                                               | 3/100 [00:00<00:12,  7.76it/s]\n",
      "100%|████████████████████████████████████████████████████████████████| 11/11 [00:00<00:00, 299.48it/s]\u001b[A\n",
      "  4%|██▌                                                              | 4/100 [00:00<00:12,  7.91it/s]\n",
      "100%|████████████████████████████████████████████████████████████████| 11/11 [00:00<00:00, 273.47it/s]\u001b[A\n",
      "  5%|███▎                                                             | 5/100 [00:00<00:11,  8.10it/s]\n",
      "100%|████████████████████████████████████████████████████████████████| 11/11 [00:00<00:00, 259.98it/s]\u001b[A\n",
      "  6%|███▉                                                             | 6/100 [00:00<00:11,  8.16it/s]\n",
      "100%|████████████████████████████████████████████████████████████████| 11/11 [00:00<00:00, 272.26it/s]\u001b[A\n",
      "  7%|████▌                                                            | 7/100 [00:00<00:11,  8.26it/s]\n",
      "100%|████████████████████████████████████████████████████████████████| 11/11 [00:00<00:00, 252.09it/s]\u001b[A\n",
      "  8%|█████▏                                                           | 8/100 [00:00<00:11,  8.28it/s]\n",
      "100%|████████████████████████████████████████████████████████████████| 11/11 [00:00<00:00, 313.55it/s]\u001b[A\n",
      "  9%|█████▊                                                           | 9/100 [00:01<00:10,  8.52it/s]\n",
      "100%|████████████████████████████████████████████████████████████████| 11/11 [00:00<00:00, 250.56it/s]\u001b[A\n",
      " 10%|██████▍                                                         | 10/100 [00:01<00:10,  8.39it/s]\n",
      "100%|████████████████████████████████████████████████████████████████| 11/11 [00:00<00:00, 239.30it/s]\u001b[A\n",
      " 11%|███████                                                         | 11/100 [00:01<00:10,  8.33it/s]\n",
      "100%|████████████████████████████████████████████████████████████████| 11/11 [00:00<00:00, 262.71it/s]\u001b[A\n",
      " 12%|███████▋                                                        | 12/100 [00:01<00:10,  8.40it/s]\n",
      "100%|████████████████████████████████████████████████████████████████| 11/11 [00:00<00:00, 267.66it/s]\u001b[A\n",
      " 13%|████████▎                                                       | 13/100 [00:01<00:10,  8.53it/s]\n",
      "100%|████████████████████████████████████████████████████████████████| 11/11 [00:00<00:00, 306.00it/s]\u001b[A\n",
      " 14%|████████▉                                                       | 14/100 [00:01<00:09,  8.71it/s]\n",
      "100%|████████████████████████████████████████████████████████████████| 11/11 [00:00<00:00, 273.75it/s]\u001b[A\n",
      " 15%|█████████▌                                                      | 15/100 [00:01<00:09,  8.70it/s]\n",
      "100%|████████████████████████████████████████████████████████████████| 11/11 [00:00<00:00, 265.90it/s]\u001b[A\n",
      " 16%|██████████▏                                                     | 16/100 [00:01<00:09,  8.65it/s]\n",
      "100%|████████████████████████████████████████████████████████████████| 11/11 [00:00<00:00, 827.31it/s]\u001b[A\n",
      " 17%|██████████▉                                                     | 17/100 [00:02<00:09,  8.85it/s]\n",
      "100%|████████████████████████████████████████████████████████████████| 11/11 [00:00<00:00, 240.53it/s]\u001b[A\n",
      " 18%|███████████▌                                                    | 18/100 [00:02<00:09,  8.73it/s]\n",
      "100%|████████████████████████████████████████████████████████████████| 11/11 [00:00<00:00, 337.24it/s]\u001b[A\n",
      " 19%|████████████▏                                                   | 19/100 [00:02<00:09,  8.64it/s]\n",
      "100%|████████████████████████████████████████████████████████████████| 11/11 [00:00<00:00, 200.09it/s]\u001b[A\n",
      " 20%|████████████▊                                                   | 20/100 [00:02<00:09,  8.26it/s]\n",
      "100%|████████████████████████████████████████████████████████████████| 11/11 [00:00<00:00, 243.33it/s]\u001b[A\n",
      " 21%|█████████████▍                                                  | 21/100 [00:02<00:09,  8.42it/s]\n",
      "100%|████████████████████████████████████████████████████████████████| 11/11 [00:00<00:00, 514.19it/s]\u001b[A\n",
      " 22%|██████████████                                                  | 22/100 [00:02<00:09,  8.61it/s]\n",
      "100%|████████████████████████████████████████████████████████████████| 11/11 [00:00<00:00, 306.39it/s]\u001b[A\n",
      " 23%|██████████████▋                                                 | 23/100 [00:02<00:08,  8.72it/s]\n",
      "100%|████████████████████████████████████████████████████████████████| 11/11 [00:00<00:00, 279.76it/s]\u001b[A\n",
      " 24%|███████████████▎                                                | 24/100 [00:02<00:08,  8.61it/s]\n",
      "100%|████████████████████████████████████████████████████████████████| 11/11 [00:00<00:00, 214.70it/s]\u001b[A\n",
      " 25%|████████████████                                                | 25/100 [00:02<00:08,  8.46it/s]\n",
      "100%|████████████████████████████████████████████████████████████████| 11/11 [00:00<00:00, 279.61it/s]\u001b[A\n",
      " 26%|████████████████▋                                               | 26/100 [00:03<00:08,  8.57it/s]\n",
      "100%|████████████████████████████████████████████████████████████████| 11/11 [00:00<00:00, 488.09it/s]\u001b[A\n",
      " 27%|█████████████████▎                                              | 27/100 [00:03<00:08,  8.57it/s]\n",
      "100%|████████████████████████████████████████████████████████████████| 11/11 [00:00<00:00, 293.08it/s]\u001b[A\n",
      " 28%|█████████████████▉                                              | 28/100 [00:03<00:08,  8.68it/s]\n",
      "100%|████████████████████████████████████████████████████████████████| 11/11 [00:00<00:00, 217.71it/s]\u001b[A\n",
      " 29%|██████████████████▌                                             | 29/100 [00:03<00:08,  8.16it/s]\n",
      "100%|████████████████████████████████████████████████████████████████| 11/11 [00:00<00:00, 373.69it/s]\u001b[A\n",
      " 30%|███████████████████▏                                            | 30/100 [00:03<00:08,  8.34it/s]\n",
      "100%|████████████████████████████████████████████████████████████████| 11/11 [00:00<00:00, 205.27it/s]\u001b[A\n",
      " 31%|███████████████████▊                                            | 31/100 [00:03<00:08,  8.20it/s]\n",
      "100%|████████████████████████████████████████████████████████████████| 11/11 [00:00<00:00, 225.49it/s]\u001b[A\n",
      " 32%|████████████████████▍                                           | 32/100 [00:03<00:08,  8.18it/s]\n",
      "100%|████████████████████████████████████████████████████████████████| 11/11 [00:00<00:00, 274.12it/s]\u001b[A\n",
      " 33%|█████████████████████                                           | 33/100 [00:03<00:08,  8.26it/s]\n",
      "100%|████████████████████████████████████████████████████████████████| 11/11 [00:00<00:00, 238.06it/s]\u001b[A\n",
      " 34%|█████████████████████▊                                          | 34/100 [00:04<00:07,  8.34it/s]\n",
      "100%|████████████████████████████████████████████████████████████████| 11/11 [00:00<00:00, 228.56it/s]\u001b[A\n",
      " 35%|██████████████████████▍                                         | 35/100 [00:04<00:07,  8.35it/s]\n",
      "100%|████████████████████████████████████████████████████████████████| 11/11 [00:00<00:00, 300.03it/s]\u001b[A\n",
      " 36%|███████████████████████                                         | 36/100 [00:04<00:07,  8.40it/s]\n",
      "100%|████████████████████████████████████████████████████████████████| 11/11 [00:00<00:00, 194.21it/s]\u001b[A\n",
      " 37%|███████████████████████▋                                        | 37/100 [00:04<00:07,  8.12it/s]\n",
      "100%|████████████████████████████████████████████████████████████████| 11/11 [00:00<00:00, 334.89it/s]\u001b[A\n",
      " 38%|████████████████████████▎                                       | 38/100 [00:04<00:07,  8.30it/s]\n",
      "100%|████████████████████████████████████████████████████████████████| 11/11 [00:00<00:00, 337.52it/s]\u001b[A\n",
      " 39%|████████████████████████▉                                       | 39/100 [00:04<00:07,  8.31it/s]\n",
      "100%|████████████████████████████████████████████████████████████████| 11/11 [00:00<00:00, 271.82it/s]\u001b[A\n",
      " 40%|█████████████████████████▌                                      | 40/100 [00:04<00:07,  8.19it/s]\n",
      "100%|████████████████████████████████████████████████████████████████| 11/11 [00:00<00:00, 278.98it/s]\u001b[A\n",
      " 41%|██████████████████████████▏                                     | 41/100 [00:04<00:07,  8.17it/s]\n",
      "100%|████████████████████████████████████████████████████████████████| 11/11 [00:00<00:00, 257.06it/s]\u001b[A\n",
      " 42%|██████████████████████████▉                                     | 42/100 [00:05<00:07,  8.16it/s]\n",
      "100%|████████████████████████████████████████████████████████████████| 11/11 [00:00<00:00, 355.19it/s]\u001b[A\n",
      " 43%|███████████████████████████▌                                    | 43/100 [00:05<00:06,  8.34it/s]\n",
      "100%|████████████████████████████████████████████████████████████████| 11/11 [00:00<00:00, 296.17it/s]\u001b[A\n",
      " 44%|████████████████████████████▏                                   | 44/100 [00:05<00:06,  8.15it/s]\n",
      "100%|████████████████████████████████████████████████████████████████| 11/11 [00:00<00:00, 300.12it/s]\u001b[A\n",
      " 45%|████████████████████████████▊                                   | 45/100 [00:05<00:06,  8.26it/s]\n",
      "100%|████████████████████████████████████████████████████████████████| 11/11 [00:00<00:00, 233.13it/s]\u001b[A\n",
      " 46%|█████████████████████████████▍                                  | 46/100 [00:05<00:06,  8.14it/s]\n",
      "100%|████████████████████████████████████████████████████████████████| 11/11 [00:00<00:00, 311.05it/s]\u001b[A\n",
      " 47%|██████████████████████████████                                  | 47/100 [00:05<00:06,  8.28it/s]\n",
      "100%|████████████████████████████████████████████████████████████████| 11/11 [00:00<00:00, 334.44it/s]\u001b[A\n",
      " 48%|██████████████████████████████▋                                 | 48/100 [00:05<00:06,  8.46it/s]\n",
      "100%|████████████████████████████████████████████████████████████████| 11/11 [00:00<00:00, 256.63it/s]\u001b[A\n",
      " 49%|███████████████████████████████▎                                | 49/100 [00:05<00:06,  8.21it/s]\n",
      "100%|████████████████████████████████████████████████████████████████| 11/11 [00:00<00:00, 291.02it/s]\u001b[A\n",
      " 50%|████████████████████████████████                                | 50/100 [00:05<00:06,  8.08it/s]\n",
      "100%|████████████████████████████████████████████████████████████████| 11/11 [00:00<00:00, 310.88it/s]\u001b[A\n",
      " 51%|████████████████████████████████▋                               | 51/100 [00:06<00:05,  8.20it/s]\n",
      "100%|████████████████████████████████████████████████████████████████| 11/11 [00:00<00:00, 264.80it/s]\u001b[A\n",
      " 52%|█████████████████████████████████▎                              | 52/100 [00:06<00:05,  8.28it/s]\n",
      "100%|████████████████████████████████████████████████████████████████| 11/11 [00:00<00:00, 255.78it/s]\u001b[A\n",
      " 53%|█████████████████████████████████▉                              | 53/100 [00:06<00:05,  8.21it/s]\n",
      "100%|████████████████████████████████████████████████████████████████| 11/11 [00:00<00:00, 293.29it/s]\u001b[A\n",
      " 54%|██████████████████████████████████▌                             | 54/100 [00:06<00:05,  8.27it/s]\n",
      "100%|████████████████████████████████████████████████████████████████| 11/11 [00:00<00:00, 341.01it/s]\u001b[A\n",
      " 55%|███████████████████████████████████▏                            | 55/100 [00:06<00:05,  8.45it/s]\n",
      "100%|████████████████████████████████████████████████████████████████| 11/11 [00:00<00:00, 266.88it/s]\u001b[A\n",
      " 56%|███████████████████████████████████▊                            | 56/100 [00:06<00:05,  8.35it/s]\n",
      "100%|████████████████████████████████████████████████████████████████| 11/11 [00:00<00:00, 301.05it/s]\u001b[A\n",
      " 57%|████████████████████████████████████▍                           | 57/100 [00:06<00:05,  8.46it/s]\n",
      "100%|████████████████████████████████████████████████████████████████| 11/11 [00:00<00:00, 263.26it/s]\u001b[A\n",
      " 58%|█████████████████████████████████████                           | 58/100 [00:06<00:05,  8.36it/s]\n",
      "100%|████████████████████████████████████████████████████████████████| 11/11 [00:00<00:00, 231.31it/s]\u001b[A\n",
      " 59%|█████████████████████████████████████▊                          | 59/100 [00:07<00:05,  8.17it/s]\n",
      "100%|████████████████████████████████████████████████████████████████| 11/11 [00:00<00:00, 229.24it/s]\u001b[A\n",
      " 60%|██████████████████████████████████████▍                         | 60/100 [00:07<00:04,  8.01it/s]\n",
      "100%|████████████████████████████████████████████████████████████████| 11/11 [00:00<00:00, 224.93it/s]\u001b[A\n",
      " 61%|███████████████████████████████████████                         | 61/100 [00:07<00:05,  7.79it/s]\n",
      "100%|████████████████████████████████████████████████████████████████| 11/11 [00:00<00:00, 248.35it/s]\u001b[A\n",
      " 62%|███████████████████████████████████████▋                        | 62/100 [00:07<00:04,  7.86it/s]\n",
      "100%|████████████████████████████████████████████████████████████████| 11/11 [00:00<00:00, 303.80it/s]\u001b[A\n",
      " 63%|████████████████████████████████████████▎                       | 63/100 [00:07<00:04,  8.10it/s]\n",
      "100%|████████████████████████████████████████████████████████████████| 11/11 [00:00<00:00, 297.17it/s]\u001b[A\n",
      " 64%|████████████████████████████████████████▉                       | 64/100 [00:07<00:04,  8.25it/s]\n",
      "100%|████████████████████████████████████████████████████████████████| 11/11 [00:00<00:00, 319.40it/s]\u001b[A\n",
      " 65%|█████████████████████████████████████████▌                      | 65/100 [00:07<00:04,  8.45it/s]\n",
      "100%|████████████████████████████████████████████████████████████████| 11/11 [00:00<00:00, 302.85it/s]\u001b[A\n",
      " 66%|██████████████████████████████████████████▏                     | 66/100 [00:07<00:03,  8.55it/s]\n",
      "100%|████████████████████████████████████████████████████████████████| 11/11 [00:00<00:00, 267.74it/s]\u001b[A\n",
      " 67%|██████████████████████████████████████████▉                     | 67/100 [00:08<00:03,  8.56it/s]\n",
      "100%|████████████████████████████████████████████████████████████████| 11/11 [00:00<00:00, 227.92it/s]\u001b[A\n",
      " 68%|███████████████████████████████████████████▌                    | 68/100 [00:08<00:03,  8.33it/s]\n",
      "100%|████████████████████████████████████████████████████████████████| 11/11 [00:00<00:00, 243.13it/s]\u001b[A\n",
      " 69%|████████████████████████████████████████████▏                   | 69/100 [00:08<00:03,  8.15it/s]\n",
      "100%|████████████████████████████████████████████████████████████████| 11/11 [00:00<00:00, 281.85it/s]\u001b[A\n",
      " 70%|████████████████████████████████████████████▊                   | 70/100 [00:08<00:03,  8.22it/s]\n",
      "100%|████████████████████████████████████████████████████████████████| 11/11 [00:00<00:00, 238.45it/s]\u001b[A\n",
      " 71%|█████████████████████████████████████████████▍                  | 71/100 [00:08<00:03,  8.08it/s]\n",
      "100%|████████████████████████████████████████████████████████████████| 11/11 [00:00<00:00, 291.57it/s]\u001b[A\n",
      " 72%|██████████████████████████████████████████████                  | 72/100 [00:08<00:03,  8.23it/s]\n",
      "100%|████████████████████████████████████████████████████████████████| 11/11 [00:00<00:00, 245.09it/s]\u001b[A\n",
      " 73%|██████████████████████████████████████████████▋                 | 73/100 [00:08<00:03,  7.98it/s]\n",
      "100%|████████████████████████████████████████████████████████████████| 11/11 [00:00<00:00, 255.80it/s]\u001b[A\n",
      " 74%|███████████████████████████████████████████████▎                | 74/100 [00:08<00:03,  8.06it/s]\n",
      "100%|████████████████████████████████████████████████████████████████| 11/11 [00:00<00:00, 243.62it/s]\u001b[A\n",
      " 75%|████████████████████████████████████████████████                | 75/100 [00:09<00:03,  8.06it/s]\n",
      "100%|████████████████████████████████████████████████████████████████| 11/11 [00:00<00:00, 199.24it/s]\u001b[A\n",
      " 76%|████████████████████████████████████████████████▋               | 76/100 [00:09<00:03,  7.82it/s]\n",
      "100%|████████████████████████████████████████████████████████████████| 11/11 [00:00<00:00, 268.39it/s]\u001b[A\n",
      " 77%|█████████████████████████████████████████████████▎              | 77/100 [00:09<00:02,  7.92it/s]\n",
      "100%|████████████████████████████████████████████████████████████████| 11/11 [00:00<00:00, 297.91it/s]\u001b[A\n",
      " 78%|█████████████████████████████████████████████████▉              | 78/100 [00:09<00:02,  7.98it/s]\n",
      "100%|████████████████████████████████████████████████████████████████| 11/11 [00:00<00:00, 253.01it/s]\u001b[A\n",
      " 79%|██████████████████████████████████████████████████▌             | 79/100 [00:09<00:02,  7.87it/s]\n",
      "100%|████████████████████████████████████████████████████████████████| 11/11 [00:00<00:00, 230.74it/s]\u001b[A\n",
      " 80%|███████████████████████████████████████████████████▏            | 80/100 [00:09<00:02,  7.72it/s]\n",
      "100%|████████████████████████████████████████████████████████████████| 11/11 [00:00<00:00, 440.77it/s]\u001b[A\n",
      " 81%|███████████████████████████████████████████████████▊            | 81/100 [00:09<00:02,  7.75it/s]\n",
      "100%|████████████████████████████████████████████████████████████████| 11/11 [00:00<00:00, 219.78it/s]\u001b[A\n",
      " 82%|████████████████████████████████████████████████████▍           | 82/100 [00:09<00:02,  7.74it/s]\n",
      "100%|████████████████████████████████████████████████████████████████| 11/11 [00:00<00:00, 306.56it/s]\u001b[A\n",
      " 83%|█████████████████████████████████████████████████████           | 83/100 [00:10<00:02,  7.94it/s]\n",
      "100%|████████████████████████████████████████████████████████████████| 11/11 [00:00<00:00, 256.62it/s]\u001b[A\n",
      " 84%|█████████████████████████████████████████████████████▊          | 84/100 [00:10<00:02,  7.95it/s]\n",
      "100%|████████████████████████████████████████████████████████████████| 11/11 [00:00<00:00, 294.63it/s]\u001b[A\n",
      " 85%|██████████████████████████████████████████████████████▍         | 85/100 [00:10<00:01,  8.13it/s]\n",
      "100%|████████████████████████████████████████████████████████████████| 11/11 [00:00<00:00, 465.64it/s]\u001b[A\n",
      " 86%|███████████████████████████████████████████████████████         | 86/100 [00:10<00:01,  8.23it/s]\n",
      "100%|████████████████████████████████████████████████████████████████| 11/11 [00:00<00:00, 488.94it/s]\u001b[A\n",
      " 87%|███████████████████████████████████████████████████████▋        | 87/100 [00:10<00:01,  8.21it/s]\n",
      "100%|████████████████████████████████████████████████████████████████| 11/11 [00:00<00:00, 288.37it/s]\u001b[A\n",
      " 88%|████████████████████████████████████████████████████████▎       | 88/100 [00:10<00:01,  8.12it/s]\n",
      "100%|████████████████████████████████████████████████████████████████| 11/11 [00:00<00:00, 313.31it/s]\u001b[A\n",
      " 89%|████████████████████████████████████████████████████████▉       | 89/100 [00:10<00:01,  8.09it/s]\n",
      "100%|████████████████████████████████████████████████████████████████| 11/11 [00:00<00:00, 260.76it/s]\u001b[A\n",
      " 90%|█████████████████████████████████████████████████████████▌      | 90/100 [00:10<00:01,  8.14it/s]\n",
      "100%|████████████████████████████████████████████████████████████████| 11/11 [00:00<00:00, 273.35it/s]\u001b[A\n",
      " 91%|██████████████████████████████████████████████████████████▏     | 91/100 [00:11<00:01,  8.28it/s]\n",
      "100%|████████████████████████████████████████████████████████████████| 11/11 [00:00<00:00, 279.54it/s]\u001b[A\n",
      " 92%|██████████████████████████████████████████████████████████▉     | 92/100 [00:11<00:00,  8.35it/s]\n",
      "100%|████████████████████████████████████████████████████████████████| 11/11 [00:00<00:00, 314.76it/s]\u001b[A\n",
      " 93%|███████████████████████████████████████████████████████████▌    | 93/100 [00:11<00:00,  8.47it/s]\n",
      "100%|████████████████████████████████████████████████████████████████| 11/11 [00:00<00:00, 301.43it/s]\u001b[A\n",
      " 94%|████████████████████████████████████████████████████████████▏   | 94/100 [00:11<00:00,  8.38it/s]\n",
      "100%|████████████████████████████████████████████████████████████████| 11/11 [00:00<00:00, 262.83it/s]\u001b[A\n",
      " 95%|████████████████████████████████████████████████████████████▊   | 95/100 [00:11<00:00,  8.07it/s]\n",
      "100%|████████████████████████████████████████████████████████████████| 11/11 [00:00<00:00, 233.64it/s]\u001b[A\n",
      " 96%|█████████████████████████████████████████████████████████████▍  | 96/100 [00:11<00:00,  7.92it/s]\n",
      "100%|████████████████████████████████████████████████████████████████| 11/11 [00:00<00:00, 297.86it/s]\u001b[A\n",
      " 97%|██████████████████████████████████████████████████████████████  | 97/100 [00:11<00:00,  7.93it/s]\n",
      "100%|████████████████████████████████████████████████████████████████| 11/11 [00:00<00:00, 258.38it/s]\u001b[A\n",
      " 98%|██████████████████████████████████████████████████████████████▋ | 98/100 [00:11<00:00,  7.84it/s]\n",
      "100%|████████████████████████████████████████████████████████████████| 11/11 [00:00<00:00, 324.24it/s]\u001b[A\n",
      " 99%|███████████████████████████████████████████████████████████████▎| 99/100 [00:12<00:00,  8.00it/s]\n",
      "100%|████████████████████████████████████████████████████████████████| 11/11 [00:00<00:00, 252.89it/s]\u001b[A\n",
      "100%|███████████████████████████████████████████████████████████████| 100/100 [00:12<00:00,  8.22it/s]\n"
     ]
    }
   ],
   "source": [
    "stress_ens = np.zeros((100, len(alist), 6))\n",
    "\n",
    "for ii in tqdm(range(100)):\n",
    "    path = RES_DIR / f\"{ii:03d}\" / \"virial_stress_graphene\"\n",
    "    modelname = f\"DUNN_bootstrap_{ii:03d}\"\n",
    "    stress_ens[ii] = virialvslatconst(modelname, alist, None, path)\n",
    "\n",
    "# Convert the stress data unit into GPa\n",
    "stress_ens = stress_ens * u[\"bar\"] / u[\"GPa\"]"
   ]
  },
  {
   "cell_type": "code",
   "execution_count": 5,
   "metadata": {
    "ExecuteTime": {
     "end_time": "2024-05-16T19:58:21.486827Z",
     "start_time": "2024-05-16T19:58:21.472552Z"
    }
   },
   "outputs": [],
   "source": [
    "stress_mean = np.mean(stress_ens, axis=0)\n",
    "stress_std = np.std(stress_ens, axis=0)"
   ]
  },
  {
   "cell_type": "code",
   "execution_count": 6,
   "metadata": {
    "ExecuteTime": {
     "end_time": "2024-05-16T19:58:21.524188Z",
     "start_time": "2024-05-16T19:58:21.492473Z"
    }
   },
   "outputs": [],
   "source": [
    "# Export the data needed to plot the result\n",
    "plot_data_dict = {\n",
    "    \"stress\": {\"values\": stress_ens, \"metadata\": \"Virial stress in GPa\"},\n",
    "    \"alist\": {\"value\": alist, \"metadata\": \"List of lattice parameters in angstrom\"},\n",
    "}\n",
    "with open(RES_DIR / \"uncertainty_virial_stress_graphene.pkl\", \"wb\") as f:\n",
    "    pickle.dump(plot_data_dict, f, protocol=4)"
   ]
  },
  {
   "cell_type": "code",
   "execution_count": 7,
   "metadata": {
    "ExecuteTime": {
     "end_time": "2024-05-16T19:58:22.637250Z",
     "start_time": "2024-05-16T19:58:21.529662Z"
    }
   },
   "outputs": [
    {
     "data": {
      "image/png": "[encoded data removed]",
      "text/plain": [
       "<Figure size 640x480 with 1 Axes>"
      ]
     },
     "metadata": {},
     "output_type": "display_data"
    }
   ],
   "source": [
    "plt.figure()\n",
    "plt.errorbar(\n",
    "    alist, -stress_mean[:, 0], stress_std[:, 0], capsize=3, label=r\"$\\sigma_{11}$\"\n",
    ")\n",
    "plt.errorbar(\n",
    "    alist, -stress_mean[:, 1], stress_std[:, 1], capsize=3, label=r\"$\\sigma_{22}$\"\n",
    ")\n",
    "plt.xlabel(r\"Lattice parameter $\\AA$\")\n",
    "plt.ylabel(\"Virial stress (GPa)\")\n",
    "plt.ylim(-65, 65)\n",
    "plt.legend()\n",
    "plt.show()"
   ]
  },
  {
   "cell_type": "code",
   "execution_count": null,
   "metadata": {},
   "outputs": [],
   "source": []
  }
 ],
 "metadata": {
  "kernelspec": {
   "display_name": "Python 3 (ipykernel)",
   "language": "python",
   "name": "python3"
  },
  "language_info": {
   "codemirror_mode": {
    "name": "ipython",
    "version": 3
   },
   "file_extension": ".py",
   "mimetype": "text/x-python",
   "name": "python",
   "nbconvert_exporter": "python",
   "pygments_lexer": "ipython3",
   "version": "3.9.18"
  },
  "toc": {
   "base_numbering": 1,
   "nav_menu": {},
   "number_sections": true,
   "sideBar": true,
   "skip_h1_title": false,
   "title_cell": "Table of Contents",
   "title_sidebar": "Contents",
   "toc_cell": false,
   "toc_position": {},
   "toc_section_display": true,
   "toc_window_display": false
  },
  "varInspector": {
   "cols": {
    "lenName": 16,
    "lenType": 16,
    "lenVar": 40
   },
   "kernels_config": {
    "python": {
     "delete_cmd_postfix": "",
     "delete_cmd_prefix": "del ",
     "library": "var_list.py",
     "varRefreshCmd": "print(var_dic_list())"
    },
    "r": {
     "delete_cmd_postfix": ") ",
     "delete_cmd_prefix": "rm(",
     "library": "var_list.r",
     "varRefreshCmd": "cat(var_dic_list()) "
    }
   },
   "types_to_exclude": [
    "module",
    "function",
    "builtin_function_or_method",
    "instance",
    "_Feature"
   ],
   "window_display": false
  }
 },
 "nbformat": 4,
 "nbformat_minor": 4
}
