{
 "cells": [
  {
   "cell_type": "markdown",
   "metadata": {},
   "source": [
    "In this notebook, I want to compute the uncertainty of the equilibrium lattice constant and the cohesive energy from the random initialization ensembles."
   ]
  },
  {
   "cell_type": "code",
   "execution_count": 1,
   "metadata": {
    "ExecuteTime": {
     "end_time": "2024-05-16T19:40:16.755592Z",
     "start_time": "2024-05-16T19:40:16.741914Z"
    }
   },
   "outputs": [],
   "source": [
    "from pathlib import Path\n",
    "from datetime import datetime\n",
    "from tqdm import tqdm\n",
    "import sys\n",
    "import json\n",
    "import re\n",
    "\n",
    "import numpy as np\n",
    "import matplotlib.pyplot as plt\n",
    "\n",
    "WORK_DIR = Path().absolute()\n",
    "sys.path.append(str(WORK_DIR.parent))"
   ]
  },
  {
   "cell_type": "code",
   "execution_count": 2,
   "metadata": {
    "ExecuteTime": {
     "end_time": "2024-05-16T19:40:16.812020Z",
     "start_time": "2024-05-16T19:40:16.758348Z"
    }
   },
   "outputs": [],
   "source": [
    "from energyvslatconst.relaxation_latconst import equilibrate_graphite"
   ]
  },
  {
   "cell_type": "code",
   "execution_count": 3,
   "metadata": {
    "ExecuteTime": {
     "end_time": "2024-05-16T19:40:16.824150Z",
     "start_time": "2024-05-16T19:40:16.814455Z"
    }
   },
   "outputs": [],
   "source": [
    "# Read settings\n",
    "ROOT_DIR = WORK_DIR.parent\n",
    "SETTINGS_DIR = ROOT_DIR / \"settings\"\n",
    "\n",
    "settings_path = SETTINGS_DIR / \"settings0.json\"\n",
    "with open(settings_path, \"r\") as f:\n",
    "    settings = json.load(f)\n",
    "\n",
    "RES_DIR = WORK_DIR / \"results\" / re.match(r\"^[^_\\.]+\", settings_path.name).group()\n",
    "if not RES_DIR.exists():\n",
    "    RES_DIR.mkdir(parents=True)\n",
    "PLOT_DIR = RES_DIR / \"plots\"\n",
    "if not PLOT_DIR.exists():\n",
    "    PLOT_DIR.mkdir(parents=True)"
   ]
  },
  {
   "cell_type": "code",
   "execution_count": 4,
   "metadata": {
    "ExecuteTime": {
     "end_time": "2024-05-16T19:40:16.854826Z",
     "start_time": "2024-05-16T19:40:16.829422Z"
    }
   },
   "outputs": [],
   "source": [
    "a0_c0_e0_file = RES_DIR / \"uncertainty_latconst_ecoh_graphite.npz\"\n",
    "if a0_c0_e0_file.exists():\n",
    "    a0_c0_e0 = np.load(a0_c0_e0_file)\n",
    "    a0_list = a0_c0_e0[\"a0_list\"]\n",
    "    c0_list = a0_c0_e0[\"c0_list\"]\n",
    "    e0_list = a0_c0_e0[\"e0_list\"]\n",
    "else:\n",
    "    a0_list = []\n",
    "    c0_list = []\n",
    "    e0_list = []\n",
    "\n",
    "    ainit = 2.46  # From materials project for graphite-like structure\n",
    "    cinit = 6.7  # From https://doi.org/10.1073/pnas.2134173100\n",
    "    for ii in tqdm(range(100)):\n",
    "        # Equilibration\n",
    "        potential = f\"DUNN_C_randinit_{ii:03d}\"\n",
    "        a0, c0, e0 = equilibrate_graphite(potential, ainit, cinit)\n",
    "        a0_list = np.append(a0_list, a0)\n",
    "        c0_list = np.append(c0_list, c0)\n",
    "        e0_list = np.append(e0_list, e0)\n",
    "\n",
    "    np.savez(a0_c0_e0_file, a0_list=a0_list, c0_list=c0_list, e0_list=e0_list)"
   ]
  },
  {
   "cell_type": "code",
   "execution_count": 5,
   "metadata": {
    "ExecuteTime": {
     "end_time": "2024-05-16T19:40:16.878583Z",
     "start_time": "2024-05-16T19:40:16.857774Z"
    }
   },
   "outputs": [
    {
     "name": "stdout",
     "output_type": "stream",
     "text": [
      "In-plane lattice constant a\n",
      "Mean: 2.464615283203125\n",
      "Stdev: 0.004520760573001652\n"
     ]
    }
   ],
   "source": [
    "# Lattice constant a\n",
    "print(\"In-plane lattice constant a\")\n",
    "print(\"Mean:\", np.mean(a0_list))\n",
    "print(\"Stdev:\", np.std(a0_list))"
   ]
  },
  {
   "cell_type": "code",
   "execution_count": 6,
   "metadata": {
    "ExecuteTime": {
     "end_time": "2024-05-16T19:40:16.891200Z",
     "start_time": "2024-05-16T19:40:16.882115Z"
    }
   },
   "outputs": [
    {
     "name": "stdout",
     "output_type": "stream",
     "text": [
      "Out-of-plane lattice constant c\n",
      "Mean: 3.346120019531249\n",
      "Stdev: 0.006137674938527772\n"
     ]
    }
   ],
   "source": [
    "# Lattice constant c\n",
    "print(\"Out-of-plane lattice constant c\")\n",
    "print(\"Mean:\", np.mean(c0_list))\n",
    "print(\"Stdev:\", np.std(c0_list))"
   ]
  },
  {
   "cell_type": "code",
   "execution_count": 7,
   "metadata": {
    "ExecuteTime": {
     "end_time": "2024-05-16T19:40:16.904443Z",
     "start_time": "2024-05-16T19:40:16.893944Z"
    }
   },
   "outputs": [
    {
     "name": "stdout",
     "output_type": "stream",
     "text": [
      "Cohesive energy\n",
      "Mean: -8.113878879445409\n",
      "Stdev: 0.008727648235972786\n"
     ]
    }
   ],
   "source": [
    "# Cobesive energy\n",
    "print(\"Cohesive energy\")\n",
    "print(\"Mean:\", np.mean(e0_list))\n",
    "print(\"Stdev:\", np.std(e0_list))"
   ]
  },
  {
   "cell_type": "code",
   "execution_count": null,
   "metadata": {},
   "outputs": [],
   "source": []
  }
 ],
 "metadata": {
  "kernelspec": {
   "display_name": "Python 3 (ipykernel)",
   "language": "python",
   "name": "python3"
  },
  "language_info": {
   "codemirror_mode": {
    "name": "ipython",
    "version": 3
   },
   "file_extension": ".py",
   "mimetype": "text/x-python",
   "name": "python",
   "nbconvert_exporter": "python",
   "pygments_lexer": "ipython3",
   "version": "3.9.18"
  },
  "toc": {
   "base_numbering": 1,
   "nav_menu": {},
   "number_sections": true,
   "sideBar": true,
   "skip_h1_title": false,
   "title_cell": "Table of Contents",
   "title_sidebar": "Contents",
   "toc_cell": false,
   "toc_position": {},
   "toc_section_display": true,
   "toc_window_display": false
  },
  "varInspector": {
   "cols": {
    "lenName": 16,
    "lenType": 16,
    "lenVar": 40
   },
   "kernels_config": {
    "python": {
     "delete_cmd_postfix": "",
     "delete_cmd_prefix": "del ",
     "library": "var_list.py",
     "varRefreshCmd": "print(var_dic_list())"
    },
    "r": {
     "delete_cmd_postfix": ") ",
     "delete_cmd_prefix": "rm(",
     "library": "var_list.r",
     "varRefreshCmd": "cat(var_dic_list()) "
    }
   },
   "types_to_exclude": [
    "module",
    "function",
    "builtin_function_or_method",
    "instance",
    "_Feature"
   ],
   "window_display": false
  }
 },
 "nbformat": 4,
 "nbformat_minor": 4
}
