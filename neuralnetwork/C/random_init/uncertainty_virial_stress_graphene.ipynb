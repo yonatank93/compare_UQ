{
 "cells": [
  {
   "cell_type": "code",
   "execution_count": 1,
   "metadata": {
    "ExecuteTime": {
     "end_time": "2024-05-16T19:40:51.244513Z",
     "start_time": "2024-05-16T19:40:51.103828Z"
    }
   },
   "outputs": [],
   "source": [
    "from pathlib import Path\n",
    "import pickle\n",
    "import json\n",
    "from tqdm import tqdm\n",
    "\n",
    "import numpy as np\n",
    "import matplotlib.pyplot as plt\n",
    "from ase.units import create_units\n",
    "\n",
    "from uncertainty_virial_stress_runmd import run_md_one_latparam\n",
    "\n",
    "%matplotlib inline\n",
    "plt.style.use(\"default\")\n",
    "\n",
    "u = create_units(\"2018\")"
   ]
  },
  {
   "cell_type": "code",
   "execution_count": 2,
   "metadata": {
    "ExecuteTime": {
     "end_time": "2024-05-16T19:40:51.256269Z",
     "start_time": "2024-05-16T19:40:51.248120Z"
    }
   },
   "outputs": [],
   "source": [
    "# Read setting file\n",
    "WORK_DIR = Path().absolute()\n",
    "ROOT_DIR = WORK_DIR.parent\n",
    "with open(ROOT_DIR / \"settings.json\", \"r\") as f:\n",
    "    settings = json.load(f)\n",
    "partition = settings[\"partition\"]\n",
    "suffix = \"_\".join([str(n) for n in settings[\"Nnodes\"]])\n",
    "RES_DIR = WORK_DIR / \"results\" / f\"{partition}_partition_{suffix}\"\n",
    "if not RES_DIR.exists():\n",
    "    RES_DIR.mkdir(parents=True)"
   ]
  },
  {
   "cell_type": "code",
   "execution_count": 3,
   "metadata": {
    "ExecuteTime": {
     "end_time": "2024-05-16T19:40:51.267706Z",
     "start_time": "2024-05-16T19:40:51.259269Z"
    }
   },
   "outputs": [],
   "source": [
    "alist = np.linspace(0.95, 1.05, 11) * 2.466"
   ]
  },
  {
   "cell_type": "code",
   "execution_count": 4,
   "metadata": {
    "ExecuteTime": {
     "end_time": "2024-05-16T19:40:57.093424Z",
     "start_time": "2024-05-16T19:40:51.274275Z"
    }
   },
   "outputs": [
    {
     "name": "stderr",
     "output_type": "stream",
     "text": [
      "100%|████████████████████████████████████████████████████████████████| 100/100 [00:05<00:00, 17.24it/s]\n"
     ]
    }
   ],
   "source": [
    "stress_ens = np.zeros((100, len(alist), 6))\n",
    "\n",
    "for ii in tqdm(range(100)):\n",
    "    path = RES_DIR / f\"{ii:03d}\" / \"virial_stress_graphene\"\n",
    "    modelname = f\"DUNN_randinit_{ii:03d}\"\n",
    "    stress_ens[ii] = np.array([run_md_one_latparam(a, modelname, path) for a in alist])\n",
    "\n",
    "# Convert the stress data unit into GPa\n",
    "stress_ens = stress_ens * u[\"bar\"] / u[\"GPa\"]"
   ]
  },
  {
   "cell_type": "code",
   "execution_count": 5,
   "metadata": {
    "ExecuteTime": {
     "end_time": "2024-05-16T19:40:57.106691Z",
     "start_time": "2024-05-16T19:40:57.098155Z"
    }
   },
   "outputs": [],
   "source": [
    "stress_mean = np.mean(stress_ens, axis=0)\n",
    "stress_err = np.std(stress_ens, axis=0)"
   ]
  },
  {
   "cell_type": "code",
   "execution_count": 6,
   "metadata": {
    "ExecuteTime": {
     "end_time": "2024-05-16T19:40:57.135269Z",
     "start_time": "2024-05-16T19:40:57.110117Z"
    }
   },
   "outputs": [],
   "source": [
    "# Export the data needed to plot the result\n",
    "plot_data_dict = {\n",
    "    \"stress\": {\"values\": stress_ens, \"metadata\": \"Virial stress in GPa\"},\n",
    "    \"alist\": {\"value\": alist, \"metadata\": \"List of lattice parameters in angstrom\"},\n",
    "}\n",
    "with open(RES_DIR / \"uncertainty_virial_stress_graphene.pkl\", \"wb\") as f:\n",
    "    pickle.dump(plot_data_dict, f, protocol=4)"
   ]
  },
  {
   "cell_type": "code",
   "execution_count": 7,
   "metadata": {
    "ExecuteTime": {
     "end_time": "2024-05-16T19:40:57.687612Z",
     "start_time": "2024-05-16T19:40:57.139802Z"
    }
   },
   "outputs": [
    {
     "data": {
      "image/png": "[encoded data removed]",
      "text/plain": [
       "<Figure size 640x480 with 1 Axes>"
      ]
     },
     "metadata": {},
     "output_type": "display_data"
    }
   ],
   "source": [
    "plt.figure()\n",
    "plt.errorbar(\n",
    "    alist, -stress_mean[:, 0], stress_err[:, 0], capsize=3, label=r\"$\\sigma_{11}$\"\n",
    ")\n",
    "plt.errorbar(\n",
    "    alist, -stress_mean[:, 1], stress_err[:, 1], capsize=3, label=r\"$\\sigma_{22}$\"\n",
    ")\n",
    "plt.xlabel(r\"Lattice parameter $\\AA$\")\n",
    "plt.ylabel(\"Virial stress (GPa)\")\n",
    "plt.ylim(-65, 65)\n",
    "plt.legend()\n",
    "plt.show()"
   ]
  },
  {
   "cell_type": "code",
   "execution_count": null,
   "metadata": {},
   "outputs": [],
   "source": []
  }
 ],
 "metadata": {
  "kernelspec": {
   "display_name": "Python 3 (ipykernel)",
   "language": "python",
   "name": "python3"
  },
  "language_info": {
   "codemirror_mode": {
    "name": "ipython",
    "version": 3
   },
   "file_extension": ".py",
   "mimetype": "text/x-python",
   "name": "python",
   "nbconvert_exporter": "python",
   "pygments_lexer": "ipython3",
   "version": "3.7.4"
  },
  "toc": {
   "base_numbering": 1,
   "nav_menu": {},
   "number_sections": true,
   "sideBar": true,
   "skip_h1_title": false,
   "title_cell": "Table of Contents",
   "title_sidebar": "Contents",
   "toc_cell": false,
   "toc_position": {},
   "toc_section_display": true,
   "toc_window_display": false
  },
  "varInspector": {
   "cols": {
    "lenName": 16,
    "lenType": 16,
    "lenVar": 40
   },
   "kernels_config": {
    "python": {
     "delete_cmd_postfix": "",
     "delete_cmd_prefix": "del ",
     "library": "var_list.py",
     "varRefreshCmd": "print(var_dic_list())"
    },
    "r": {
     "delete_cmd_postfix": ") ",
     "delete_cmd_prefix": "rm(",
     "library": "var_list.r",
     "varRefreshCmd": "cat(var_dic_list()) "
    }
   },
   "types_to_exclude": [
    "module",
    "function",
    "builtin_function_or_method",
    "instance",
    "_Feature"
   ],
   "window_display": false
  }
 },
 "nbformat": 4,
 "nbformat_minor": 2
}
