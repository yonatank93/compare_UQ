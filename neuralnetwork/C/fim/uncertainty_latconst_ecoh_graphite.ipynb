{
 "cells": [
  {
   "cell_type": "markdown",
   "metadata": {},
   "source": [
    "In this notebook, I want to compute the uncertainty of the equilibrium lattice constant and the cohesive energy from the bootstrap ensembles."
   ]
  },
  {
   "cell_type": "code",
   "execution_count": 1,
   "metadata": {
    "ExecuteTime": {
     "end_time": "2024-05-16T20:47:27.579671Z",
     "start_time": "2024-05-16T20:47:27.571662Z"
    }
   },
   "outputs": [],
   "source": [
    "from pathlib import Path\n",
    "from datetime import datetime\n",
    "from tqdm import tqdm\n",
    "import sys\n",
    "\n",
    "import numpy as np\n",
    "\n",
    "WORK_DIR = Path().absolute()\n",
    "sys.path.append(str(WORK_DIR.parent))"
   ]
  },
  {
   "cell_type": "code",
   "execution_count": 2,
   "metadata": {
    "ExecuteTime": {
     "end_time": "2024-05-16T20:47:27.643442Z",
     "start_time": "2024-05-16T20:47:27.582529Z"
    }
   },
   "outputs": [],
   "source": [
    "from energyvslatconst.relaxation_latconst import equilibrate_graphite"
   ]
  },
  {
   "cell_type": "code",
   "execution_count": 3,
   "metadata": {
    "ExecuteTime": {
     "end_time": "2024-05-16T20:47:27.660185Z",
     "start_time": "2024-05-16T20:47:27.648561Z"
    }
   },
   "outputs": [],
   "source": [
    "# Read setting file\n",
    "ROOT_DIR = WORK_DIR.parent\n",
    "with open(ROOT_DIR / \"settings.json\", \"r\") as f:\n",
    "    settings = json.load(f)\n",
    "partition = settings[\"partition\"]\n",
    "suffix = \"_\".join([str(n) for n in settings[\"Nnodes\"]])\n",
    "RES_DIR = WORK_DIR / \"results\" / f\"{partition}_partition_{suffix}\"\n",
    "if not RES_DIR.exists():\n",
    "    RES_DIR.mkdir(parents=True)"
   ]
  },
  {
   "cell_type": "code",
   "execution_count": 4,
   "metadata": {
    "ExecuteTime": {
     "end_time": "2024-05-16T20:47:27.680236Z",
     "start_time": "2024-05-16T20:47:27.663794Z"
    }
   },
   "outputs": [],
   "source": [
    "a0_c0_e0_file = RES_DIR / \"uncertainty_latconst_ecoh_graphite.npz\"\n",
    "if a0_c0_e0_file.exists():\n",
    "    a0_c0_e0 = np.load(a0_c0_e0_file)\n",
    "    a0_list = a0_c0_e0[\"a0_list\"]\n",
    "    c0_list = a0_c0_e0[\"c0_list\"]\n",
    "    e0_list = a0_c0_e0[\"e0_list\"]\n",
    "else:\n",
    "    a0_list = []\n",
    "    c0_list = []\n",
    "    e0_list = []\n",
    "\n",
    "    ainit = 2.466  # From materials project for graphite-like structure\n",
    "    cinit = 3.348  # From https://doi.org/10.1073/pnas.2134173100\n",
    "    for ii in tqdm(range(100)):\n",
    "        # Equilibration\n",
    "        potential = f\"DUNN_C_fimbayes_{ii:03d}\"\n",
    "        a0, c0, e0 = equilibrate_graphite(potential, ainit, cinit)\n",
    "        a0_list = np.append(a0_list, a0)\n",
    "        c0_list = np.append(c0_list, c0)\n",
    "        e0_list = np.append(e0_list, e0)\n",
    "\n",
    "    np.savez(a0_c0_e0_file, a0_list=a0_list, c0_list=c0_list, e0_list=e0_list)"
   ]
  },
  {
   "cell_type": "code",
   "execution_count": 5,
   "metadata": {
    "ExecuteTime": {
     "end_time": "2024-05-16T20:47:27.703502Z",
     "start_time": "2024-05-16T20:47:27.683177Z"
    }
   },
   "outputs": [
    {
     "name": "stdout",
     "output_type": "stream",
     "text": [
      "In-plane lattice constant a\n",
      "Mean: 2.4660701268750005\n",
      "Stdev: 0.0018901895749524795\n"
     ]
    }
   ],
   "source": [
    "# Lattice constant a\n",
    "print(\"In-plane lattice constant a\")\n",
    "print(\"Mean:\", np.mean(a0_list))\n",
    "print(\"Stdev:\", np.std(a0_list))"
   ]
  },
  {
   "cell_type": "code",
   "execution_count": 6,
   "metadata": {
    "ExecuteTime": {
     "end_time": "2024-05-16T20:47:27.722232Z",
     "start_time": "2024-05-16T20:47:27.710133Z"
    }
   },
   "outputs": [
    {
     "name": "stdout",
     "output_type": "stream",
     "text": [
      "Out-of-plane lattice constant c\n",
      "Mean: 3.3480952087499993\n",
      "Stdev: 0.0025662427805925245\n"
     ]
    }
   ],
   "source": [
    "# Lattice constant c\n",
    "print(\"Out-of-plane lattice constant c\")\n",
    "print(\"Mean:\", np.mean(c0_list))\n",
    "print(\"Stdev:\", np.std(c0_list))"
   ]
  },
  {
   "cell_type": "code",
   "execution_count": 7,
   "metadata": {
    "ExecuteTime": {
     "end_time": "2024-05-16T20:47:27.741393Z",
     "start_time": "2024-05-16T20:47:27.726516Z"
    }
   },
   "outputs": [
    {
     "name": "stdout",
     "output_type": "stream",
     "text": [
      "Cohesive energy\n",
      "Mean: -8.112207053912881\n",
      "Stdev: 0.04647917372212586\n"
     ]
    }
   ],
   "source": [
    "# Cobesive energy\n",
    "print(\"Cohesive energy\")\n",
    "print(\"Mean:\", np.mean(e0_list))\n",
    "print(\"Stdev:\", np.std(e0_list))"
   ]
  },
  {
   "cell_type": "code",
   "execution_count": null,
   "metadata": {},
   "outputs": [],
   "source": []
  }
 ],
 "metadata": {
  "kernelspec": {
   "display_name": "Python 3 (ipykernel)",
   "language": "python",
   "name": "python3"
  },
  "language_info": {
   "codemirror_mode": {
    "name": "ipython",
    "version": 3
   },
   "file_extension": ".py",
   "mimetype": "text/x-python",
   "name": "python",
   "nbconvert_exporter": "python",
   "pygments_lexer": "ipython3",
   "version": "3.7.4"
  },
  "toc": {
   "base_numbering": 1,
   "nav_menu": {},
   "number_sections": true,
   "sideBar": true,
   "skip_h1_title": false,
   "title_cell": "Table of Contents",
   "title_sidebar": "Contents",
   "toc_cell": false,
   "toc_position": {},
   "toc_section_display": true,
   "toc_window_display": false
  },
  "varInspector": {
   "cols": {
    "lenName": 16,
    "lenType": 16,
    "lenVar": 40
   },
   "kernels_config": {
    "python": {
     "delete_cmd_postfix": "",
     "delete_cmd_prefix": "del ",
     "library": "var_list.py",
     "varRefreshCmd": "print(var_dic_list())"
    },
    "r": {
     "delete_cmd_postfix": ") ",
     "delete_cmd_prefix": "rm(",
     "library": "var_list.r",
     "varRefreshCmd": "cat(var_dic_list()) "
    }
   },
   "types_to_exclude": [
    "module",
    "function",
    "builtin_function_or_method",
    "instance",
    "_Feature"
   ],
   "window_display": false
  }
 },
 "nbformat": 4,
 "nbformat_minor": 2
}
