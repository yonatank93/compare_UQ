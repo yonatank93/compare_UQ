{
 "cells": [
  {
   "cell_type": "code",
   "execution_count": 1,
   "metadata": {
    "ExecuteTime": {
     "end_time": "2024-05-17T23:20:32.425163Z",
     "start_time": "2024-05-17T23:20:32.392303Z"
    }
   },
   "outputs": [],
   "source": [
    "from pathlib import Path\n",
    "import json\n",
    "from tqdm import tqdm\n",
    "import subprocess\n",
    "import sys\n",
    "from multiprocessing import Pool\n",
    "\n",
    "import numpy as np\n",
    "import matplotlib.pyplot as plt\n",
    "\n",
    "%matplotlib inline\n",
    "plt.style.use(\"default\")\n",
    "WORK_DIR = Path().absolute()\n",
    "sys.path.append(str(WORK_DIR.parent))"
   ]
  },
  {
   "cell_type": "code",
   "execution_count": 2,
   "metadata": {
    "ExecuteTime": {
     "end_time": "2024-05-17T23:20:32.529210Z",
     "start_time": "2024-05-17T23:20:32.429424Z"
    }
   },
   "outputs": [],
   "source": [
    "from energyvslatconst import energyvslatconst"
   ]
  },
  {
   "cell_type": "code",
   "execution_count": 3,
   "metadata": {
    "ExecuteTime": {
     "end_time": "2024-05-17T23:20:32.553234Z",
     "start_time": "2024-05-17T23:20:32.537980Z"
    }
   },
   "outputs": [],
   "source": [
    "# Read setting file\n",
    "ROOT_DIR = WORK_DIR.parent\n",
    "with open(ROOT_DIR / \"settings.json\", \"r\") as f:\n",
    "    settings = json.load(f)\n",
    "partition = settings[\"partition\"]\n",
    "suffix = \"_\".join([str(n) for n in settings[\"Nnodes\"]])\n",
    "RES_DIR = WORK_DIR / \"results\" / f\"{partition}_partition_{suffix}\"\n",
    "if not RES_DIR.exists():\n",
    "    RES_DIR.mkdir(parents=True)"
   ]
  },
  {
   "cell_type": "code",
   "execution_count": 4,
   "metadata": {
    "ExecuteTime": {
     "end_time": "2024-05-17T23:20:32.574147Z",
     "start_time": "2024-05-17T23:20:32.558143Z"
    }
   },
   "outputs": [],
   "source": [
    "##########################################################################################\n",
    "# Dropout\n",
    "# -------\n",
    "\n",
    "dropout_data = np.load(\n",
    "    ROOT_DIR\n",
    "    / \"training_dropout\"\n",
    "    / \"results\"\n",
    "    / \"dropout\"\n",
    "    / f\"{partition}_partition_{suffix}\"\n",
    "    / \"uncertainty_energy_vs_latconst_diamond.npz\"\n",
    ")\n",
    "alist = dropout_data[\"alist\"]\n",
    "energy_ensembles_do = dropout_data[\"energy_ensembles\"]\n",
    "energy_mean_do = np.mean(energy_ensembles_do, axis=0)\n",
    "energy_error_do = np.std(energy_ensembles_do, axis=0)"
   ]
  },
  {
   "cell_type": "code",
   "execution_count": 5,
   "metadata": {
    "ExecuteTime": {
     "end_time": "2024-05-17T23:21:36.699934Z",
     "start_time": "2024-05-17T23:20:32.578299Z"
    }
   },
   "outputs": [],
   "source": [
    "##########################################################################################\n",
    "# FIM\n",
    "# ---\n",
    "preds_samples_file = RES_DIR / \"uncertainty_energy_vs_latconst_diamond.npz\"\n",
    "if preds_samples_file.exists():\n",
    "    preds_data = np.load(preds_samples_file)\n",
    "    energy_ensembles = preds_data[\"energy_ensembles\"]\n",
    "else:\n",
    "    # Use multiprocessing to speed up the calculation\n",
    "    def energyvslatconst_wrapper(set_idx):\n",
    "        modelname = f\"DUNN_C_fimbayes_{set_idx:03d}\"\n",
    "        _, elist = energyvslatconst(modelname, alist, \"diamond\", 0)\n",
    "        return elist\n",
    "\n",
    "    with Pool(25) as p:\n",
    "        energy_ensembles = list(p.map(energyvslatconst_wrapper, range(100)))\n",
    "\n",
    "    energy_ensembles = energy_ensembles = np.array(energy_ensembles).astype(float)\n",
    "    np.savez(preds_samples_file, alist=alist, energy_ensembles=energy_ensembles)"
   ]
  },
  {
   "cell_type": "code",
   "execution_count": 6,
   "metadata": {
    "ExecuteTime": {
     "end_time": "2024-05-17T23:21:36.715508Z",
     "start_time": "2024-05-17T23:21:36.705887Z"
    }
   },
   "outputs": [],
   "source": [
    "mean_samples_target = np.mean(energy_ensembles, axis=0)\n",
    "err_samples_target = np.std(energy_ensembles, axis=0)"
   ]
  },
  {
   "cell_type": "code",
   "execution_count": 7,
   "metadata": {
    "ExecuteTime": {
     "end_time": "2024-05-17T23:21:37.187992Z",
     "start_time": "2024-05-17T23:21:36.718470Z"
    }
   },
   "outputs": [
    {
     "data": {
      "image/png": "[encoded data removed]",
      "text/plain": [
       "<Figure size 640x480 with 1 Axes>"
      ]
     },
     "metadata": {},
     "output_type": "display_data"
    }
   ],
   "source": [
    "# Plot\n",
    "plt.figure()\n",
    "# FIM\n",
    "plt.fill_between(\n",
    "    alist,\n",
    "    mean_samples_target + err_samples_target,\n",
    "    mean_samples_target - err_samples_target,\n",
    "    alpha=0.5,\n",
    "    color=\"tab:purple\",\n",
    ")\n",
    "plt.plot(alist, mean_samples_target, color=\"tab:purple\", label=\"DUNN FIM\")\n",
    "\n",
    "# # Dropout\n",
    "# plt.fill_between(\n",
    "#     alist,\n",
    "#     energy_mean_do + energy_error_do,\n",
    "#     energy_mean_do - energy_error_do,\n",
    "#     alpha=0.5,\n",
    "#     color=\"tab:orange\",\n",
    "# )\n",
    "# plt.plot(alist, energy_mean_do, color=\"tab:orange\", label=\"DUNN dropout\")\n",
    "\n",
    "plt.ylim(-8.12, -7.25)\n",
    "plt.xlabel(r\"Lattice constant $a$ $(\\AA)$\")\n",
    "plt.ylabel(\"Energy (eV/atom)\")\n",
    "# plt.legend()\n",
    "\n",
    "plt.show()"
   ]
  },
  {
   "cell_type": "code",
   "execution_count": null,
   "metadata": {},
   "outputs": [],
   "source": []
  }
 ],
 "metadata": {
  "kernelspec": {
   "display_name": "Python 3 (ipykernel)",
   "language": "python",
   "name": "python3"
  },
  "language_info": {
   "codemirror_mode": {
    "name": "ipython",
    "version": 3
   },
   "file_extension": ".py",
   "mimetype": "text/x-python",
   "name": "python",
   "nbconvert_exporter": "python",
   "pygments_lexer": "ipython3",
   "version": "3.7.4"
  },
  "toc": {
   "base_numbering": 1,
   "nav_menu": {},
   "number_sections": true,
   "sideBar": true,
   "skip_h1_title": false,
   "title_cell": "Table of Contents",
   "title_sidebar": "Contents",
   "toc_cell": false,
   "toc_position": {},
   "toc_section_display": true,
   "toc_window_display": false
  },
  "varInspector": {
   "cols": {
    "lenName": 16,
    "lenType": 16,
    "lenVar": 40
   },
   "kernels_config": {
    "python": {
     "delete_cmd_postfix": "",
     "delete_cmd_prefix": "del ",
     "library": "var_list.py",
     "varRefreshCmd": "print(var_dic_list())"
    },
    "r": {
     "delete_cmd_postfix": ") ",
     "delete_cmd_prefix": "rm(",
     "library": "var_list.r",
     "varRefreshCmd": "cat(var_dic_list()) "
    }
   },
   "types_to_exclude": [
    "module",
    "function",
    "builtin_function_or_method",
    "instance",
    "_Feature"
   ],
   "window_display": false
  }
 },
 "nbformat": 4,
 "nbformat_minor": 2
}
