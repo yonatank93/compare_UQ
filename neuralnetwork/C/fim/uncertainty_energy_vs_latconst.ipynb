{
 "cells": [
  {
   "cell_type": "code",
   "execution_count": 1,
   "metadata": {
    "ExecuteTime": {
     "end_time": "2024-01-18T19:36:27.395533Z",
     "start_time": "2024-01-18T19:36:24.932510Z"
    }
   },
   "outputs": [],
   "source": [
    "from pathlib import Path\n",
    "import json\n",
    "from tqdm import tqdm\n",
    "import subprocess\n",
    "import sys\n",
    "\n",
    "import numpy as np\n",
    "import matplotlib.pyplot as plt\n",
    "\n",
    "from kliff import nn\n",
    "from kliff.calculators import CalculatorTorch\n",
    "from kliff.dataset import Dataset\n",
    "from kliff.dataset.weight import Weight\n",
    "from kliff.descriptors import SymmetryFunction\n",
    "from kliff.models import NeuralNetwork\n",
    "\n",
    "%matplotlib inline\n",
    "plt.style.use(\"default\")\n",
    "WORK_DIR = Path().absolute()\n",
    "sys.path.append(str(WORK_DIR.parent))"
   ]
  },
  {
   "cell_type": "code",
   "execution_count": 2,
   "metadata": {
    "ExecuteTime": {
     "end_time": "2024-01-18T19:36:27.464532Z",
     "start_time": "2024-01-18T19:36:27.400522Z"
    }
   },
   "outputs": [],
   "source": [
    "from energyvslatconst import energyvslatconst, equilibrate_graphene"
   ]
  },
  {
   "cell_type": "code",
   "execution_count": 3,
   "metadata": {
    "ExecuteTime": {
     "end_time": "2024-01-18T19:36:27.486035Z",
     "start_time": "2024-01-18T19:36:27.471691Z"
    }
   },
   "outputs": [],
   "source": [
    "# Read setting file\n",
    "ROOT_DIR = WORK_DIR.parent\n",
    "with open(ROOT_DIR / \"settings.json\", \"r\") as f:\n",
    "    settings = json.load(f)\n",
    "partition = settings[\"partition\"]\n",
    "PART_DIR = ROOT_DIR / f\"{partition}_partition_data\"\n",
    "FP_DIR = PART_DIR / \"fingerprints\"\n",
    "RES_DIR = WORK_DIR / \"results\" / f\"{partition}_partition\"\n",
    "if not RES_DIR.exists():\n",
    "    RES_DIR.mkdir(parents=True)"
   ]
  },
  {
   "cell_type": "code",
   "execution_count": 4,
   "metadata": {
    "ExecuteTime": {
     "end_time": "2024-01-18T19:36:27.500844Z",
     "start_time": "2024-01-18T19:36:27.493274Z"
    }
   },
   "outputs": [],
   "source": [
    "# DFT data\n",
    "dft_data = np.loadtxt(\"../energyvslatconst/dft_data.txt\", delimiter=\",\")"
   ]
  },
  {
   "cell_type": "code",
   "execution_count": 5,
   "metadata": {
    "ExecuteTime": {
     "end_time": "2024-01-18T19:36:27.882057Z",
     "start_time": "2024-01-18T19:36:27.507490Z"
    }
   },
   "outputs": [
    {
     "ename": "FileNotFoundError",
     "evalue": "[Errno 2] No such file or directory: '/data/yonatan/myproject/scripts/compare_UQ/neuralnetwork/C/mingjian_partition_data/model_best_train.pkl'",
     "output_type": "error",
     "traceback": [
      "\u001b[0;31m---------------------------------------------------------------------------\u001b[0m",
      "\u001b[0;31mFileNotFoundError\u001b[0m                         Traceback (most recent call last)",
      "\u001b[0;32m/tmp/ipykernel_199743/1265682568.py\u001b[0m in \u001b[0;36m<module>\u001b[0;34m\u001b[0m\n\u001b[1;32m     34\u001b[0m \u001b[0;34m\u001b[0m\u001b[0m\n\u001b[1;32m     35\u001b[0m \u001b[0;31m# Load best model\u001b[0m\u001b[0;34m\u001b[0m\u001b[0;34m\u001b[0m\u001b[0;34m\u001b[0m\u001b[0m\n\u001b[0;32m---> 36\u001b[0;31m \u001b[0mmodel\u001b[0m\u001b[0;34m.\u001b[0m\u001b[0mload\u001b[0m\u001b[0;34m(\u001b[0m\u001b[0mPART_DIR\u001b[0m \u001b[0;34m/\u001b[0m \u001b[0;34m\"model_best_train.pkl\"\u001b[0m\u001b[0;34m)\u001b[0m\u001b[0;34m\u001b[0m\u001b[0;34m\u001b[0m\u001b[0m\n\u001b[0m\u001b[1;32m     37\u001b[0m \u001b[0;34m\u001b[0m\u001b[0m\n\u001b[1;32m     38\u001b[0m \u001b[0;31m# training set\u001b[0m\u001b[0;34m\u001b[0m\u001b[0;34m\u001b[0m\u001b[0;34m\u001b[0m\u001b[0m\n",
      "\u001b[0;32m/data/yonatan/myproject/modules/kliff/kliff/models/model_torch.py\u001b[0m in \u001b[0;36mload\u001b[0;34m(self, filename, mode)\u001b[0m\n\u001b[1;32m    100\u001b[0m         \"\"\"\n\u001b[1;32m    101\u001b[0m         \u001b[0mfilename\u001b[0m \u001b[0;34m=\u001b[0m \u001b[0mto_path\u001b[0m\u001b[0;34m(\u001b[0m\u001b[0mfilename\u001b[0m\u001b[0;34m)\u001b[0m\u001b[0;34m\u001b[0m\u001b[0;34m\u001b[0m\u001b[0m\n\u001b[0;32m--> 102\u001b[0;31m         \u001b[0mstate_dict\u001b[0m \u001b[0;34m=\u001b[0m \u001b[0mtorch\u001b[0m\u001b[0;34m.\u001b[0m\u001b[0mload\u001b[0m\u001b[0;34m(\u001b[0m\u001b[0mstr\u001b[0m\u001b[0;34m(\u001b[0m\u001b[0mfilename\u001b[0m\u001b[0;34m)\u001b[0m\u001b[0;34m)\u001b[0m\u001b[0;34m\u001b[0m\u001b[0;34m\u001b[0m\u001b[0m\n\u001b[0m\u001b[1;32m    103\u001b[0m \u001b[0;34m\u001b[0m\u001b[0m\n\u001b[1;32m    104\u001b[0m         \u001b[0;31m# load model state dict\u001b[0m\u001b[0;34m\u001b[0m\u001b[0;34m\u001b[0m\u001b[0;34m\u001b[0m\u001b[0m\n",
      "\u001b[0;32m~/.local/lib/python3.7/site-packages/torch/serialization.py\u001b[0m in \u001b[0;36mload\u001b[0;34m(f, map_location, pickle_module, weights_only, **pickle_load_args)\u001b[0m\n\u001b[1;32m    769\u001b[0m         \u001b[0mpickle_load_args\u001b[0m\u001b[0;34m[\u001b[0m\u001b[0;34m'encoding'\u001b[0m\u001b[0;34m]\u001b[0m \u001b[0;34m=\u001b[0m \u001b[0;34m'utf-8'\u001b[0m\u001b[0;34m\u001b[0m\u001b[0;34m\u001b[0m\u001b[0m\n\u001b[1;32m    770\u001b[0m \u001b[0;34m\u001b[0m\u001b[0m\n\u001b[0;32m--> 771\u001b[0;31m     \u001b[0;32mwith\u001b[0m \u001b[0m_open_file_like\u001b[0m\u001b[0;34m(\u001b[0m\u001b[0mf\u001b[0m\u001b[0;34m,\u001b[0m \u001b[0;34m'rb'\u001b[0m\u001b[0;34m)\u001b[0m \u001b[0;32mas\u001b[0m \u001b[0mopened_file\u001b[0m\u001b[0;34m:\u001b[0m\u001b[0;34m\u001b[0m\u001b[0;34m\u001b[0m\u001b[0m\n\u001b[0m\u001b[1;32m    772\u001b[0m         \u001b[0;32mif\u001b[0m \u001b[0m_is_zipfile\u001b[0m\u001b[0;34m(\u001b[0m\u001b[0mopened_file\u001b[0m\u001b[0;34m)\u001b[0m\u001b[0;34m:\u001b[0m\u001b[0;34m\u001b[0m\u001b[0;34m\u001b[0m\u001b[0m\n\u001b[1;32m    773\u001b[0m             \u001b[0;31m# The zipfile reader is going to advance the current file position.\u001b[0m\u001b[0;34m\u001b[0m\u001b[0;34m\u001b[0m\u001b[0;34m\u001b[0m\u001b[0m\n",
      "\u001b[0;32m~/.local/lib/python3.7/site-packages/torch/serialization.py\u001b[0m in \u001b[0;36m_open_file_like\u001b[0;34m(name_or_buffer, mode)\u001b[0m\n\u001b[1;32m    268\u001b[0m \u001b[0;32mdef\u001b[0m \u001b[0m_open_file_like\u001b[0m\u001b[0;34m(\u001b[0m\u001b[0mname_or_buffer\u001b[0m\u001b[0;34m,\u001b[0m \u001b[0mmode\u001b[0m\u001b[0;34m)\u001b[0m\u001b[0;34m:\u001b[0m\u001b[0;34m\u001b[0m\u001b[0;34m\u001b[0m\u001b[0m\n\u001b[1;32m    269\u001b[0m     \u001b[0;32mif\u001b[0m \u001b[0m_is_path\u001b[0m\u001b[0;34m(\u001b[0m\u001b[0mname_or_buffer\u001b[0m\u001b[0;34m)\u001b[0m\u001b[0;34m:\u001b[0m\u001b[0;34m\u001b[0m\u001b[0;34m\u001b[0m\u001b[0m\n\u001b[0;32m--> 270\u001b[0;31m         \u001b[0;32mreturn\u001b[0m \u001b[0m_open_file\u001b[0m\u001b[0;34m(\u001b[0m\u001b[0mname_or_buffer\u001b[0m\u001b[0;34m,\u001b[0m \u001b[0mmode\u001b[0m\u001b[0;34m)\u001b[0m\u001b[0;34m\u001b[0m\u001b[0;34m\u001b[0m\u001b[0m\n\u001b[0m\u001b[1;32m    271\u001b[0m     \u001b[0;32melse\u001b[0m\u001b[0;34m:\u001b[0m\u001b[0;34m\u001b[0m\u001b[0;34m\u001b[0m\u001b[0m\n\u001b[1;32m    272\u001b[0m         \u001b[0;32mif\u001b[0m \u001b[0;34m'w'\u001b[0m \u001b[0;32min\u001b[0m \u001b[0mmode\u001b[0m\u001b[0;34m:\u001b[0m\u001b[0;34m\u001b[0m\u001b[0;34m\u001b[0m\u001b[0m\n",
      "\u001b[0;32m~/.local/lib/python3.7/site-packages/torch/serialization.py\u001b[0m in \u001b[0;36m__init__\u001b[0;34m(self, name, mode)\u001b[0m\n\u001b[1;32m    249\u001b[0m \u001b[0;32mclass\u001b[0m \u001b[0m_open_file\u001b[0m\u001b[0;34m(\u001b[0m\u001b[0m_opener\u001b[0m\u001b[0;34m)\u001b[0m\u001b[0;34m:\u001b[0m\u001b[0;34m\u001b[0m\u001b[0;34m\u001b[0m\u001b[0m\n\u001b[1;32m    250\u001b[0m     \u001b[0;32mdef\u001b[0m \u001b[0m__init__\u001b[0m\u001b[0;34m(\u001b[0m\u001b[0mself\u001b[0m\u001b[0;34m,\u001b[0m \u001b[0mname\u001b[0m\u001b[0;34m,\u001b[0m \u001b[0mmode\u001b[0m\u001b[0;34m)\u001b[0m\u001b[0;34m:\u001b[0m\u001b[0;34m\u001b[0m\u001b[0;34m\u001b[0m\u001b[0m\n\u001b[0;32m--> 251\u001b[0;31m         \u001b[0msuper\u001b[0m\u001b[0;34m(\u001b[0m\u001b[0m_open_file\u001b[0m\u001b[0;34m,\u001b[0m \u001b[0mself\u001b[0m\u001b[0;34m)\u001b[0m\u001b[0;34m.\u001b[0m\u001b[0m__init__\u001b[0m\u001b[0;34m(\u001b[0m\u001b[0mopen\u001b[0m\u001b[0;34m(\u001b[0m\u001b[0mname\u001b[0m\u001b[0;34m,\u001b[0m \u001b[0mmode\u001b[0m\u001b[0;34m)\u001b[0m\u001b[0;34m)\u001b[0m\u001b[0;34m\u001b[0m\u001b[0;34m\u001b[0m\u001b[0m\n\u001b[0m\u001b[1;32m    252\u001b[0m \u001b[0;34m\u001b[0m\u001b[0m\n\u001b[1;32m    253\u001b[0m     \u001b[0;32mdef\u001b[0m \u001b[0m__exit__\u001b[0m\u001b[0;34m(\u001b[0m\u001b[0mself\u001b[0m\u001b[0;34m,\u001b[0m \u001b[0;34m*\u001b[0m\u001b[0margs\u001b[0m\u001b[0;34m)\u001b[0m\u001b[0;34m:\u001b[0m\u001b[0;34m\u001b[0m\u001b[0;34m\u001b[0m\u001b[0m\n",
      "\u001b[0;31mFileNotFoundError\u001b[0m: [Errno 2] No such file or directory: '/data/yonatan/myproject/scripts/compare_UQ/neuralnetwork/C/mingjian_partition_data/model_best_train.pkl'"
     ]
    }
   ],
   "source": [
    "##########################################################################################\n",
    "# Model\n",
    "# -----\n",
    "\n",
    "# Architecture\n",
    "Nlayers = 4  # Number of layers, excluding input layer, including outpt layer\n",
    "Nnodes = 128  # Number of nodes per hidden layer\n",
    "dropout_ratio = 0.0  # Don't use dropout\n",
    "\n",
    "# Descriptor\n",
    "descriptor = SymmetryFunction(\n",
    "    cut_name=\"cos\", cut_dists={\"C-C\": 5.0}, hyperparams=\"set51\", normalize=True\n",
    ")\n",
    "model = NeuralNetwork(descriptor)\n",
    "\n",
    "# Layers\n",
    "hidden_layer_mappings = []\n",
    "for _ in range(Nlayers - 2):\n",
    "    hidden_layer_mappings.append(nn.Dropout(dropout_ratio))\n",
    "    hidden_layer_mappings.append(nn.Linear(Nnodes, Nnodes))\n",
    "    hidden_layer_mappings.append(nn.Tanh())\n",
    "\n",
    "model.add_layers(\n",
    "    # input layer\n",
    "    nn.Linear(descriptor.get_size(), Nnodes),  # Mapping from input layer to the first\n",
    "    nn.Tanh(),  # hidden layer\n",
    "    # hidden layer(s)\n",
    "    *hidden_layer_mappings,  # Mappings between hidden layers in the middle\n",
    "    # hidden layer(s)\n",
    "    nn.Dropout(dropout_ratio),  # Mapping from the last hidden layer to the output layer\n",
    "    nn.Linear(Nnodes, 1),\n",
    "    # output layer\n",
    ")\n",
    "\n",
    "# Load best model\n",
    "model.load(PART_DIR / \"model_best_train.pkl\")\n",
    "\n",
    "# training set\n",
    "dataset_path = PART_DIR / \"carbon_training_set\"\n",
    "weight = Weight(energy_weight=1.0, forces_weight=np.sqrt(0.1))\n",
    "tset = Dataset(dataset_path, weight)\n",
    "configs = tset.get_configs()\n",
    "nconfigs = len(configs)\n",
    "\n",
    "# calculator\n",
    "gpu = False\n",
    "calc = CalculatorTorch(model, gpu=gpu)\n",
    "_ = calc.create(\n",
    "    configs,\n",
    "    nprocs=20,\n",
    "    reuse=True,\n",
    "    fingerprints_filename=FP_DIR / f\"fingerprints_train.pkl\",\n",
    "    fingerprints_mean_stdev_filename=FP_DIR / f\"fingerprints_train_mean_and_stdev.pkl\",\n",
    ")\n",
    "bestfit_params = calc.get_opt_params()"
   ]
  },
  {
   "cell_type": "code",
   "execution_count": null,
   "metadata": {
    "ExecuteTime": {
     "end_time": "2024-01-18T19:36:27.888457Z",
     "start_time": "2024-01-18T19:36:27.888423Z"
    }
   },
   "outputs": [],
   "source": [
    "##########################################################################################\n",
    "# Dropout\n",
    "# -------\n",
    "\n",
    "dropout_data = np.load(\n",
    "    ROOT_DIR\n",
    "    / \"training_dropout\"\n",
    "    / \"results\"\n",
    "    / \"dropout\"\n",
    "    / f\"{partition}_partition\"\n",
    "    / \"uncertainty_energy_vs_latconst.npz\"\n",
    ")\n",
    "alist = dropout_data[\"alist\"]\n",
    "energy_mean_do = dropout_data[\"energy_mean\"]\n",
    "energy_error_do = dropout_data[\"energy_error\"]"
   ]
  },
  {
   "cell_type": "code",
   "execution_count": null,
   "metadata": {
    "ExecuteTime": {
     "end_time": "2024-01-18T19:36:27.890298Z",
     "start_time": "2024-01-18T19:36:27.890267Z"
    }
   },
   "outputs": [],
   "source": [
    "##########################################################################################\n",
    "# FIM\n",
    "# ---\n",
    "preds_samples_file = RES_DIR / \"uncertainty_energy_vs_latconst.npz\"\n",
    "if preds_samples_file.exists():\n",
    "    preds_data = np.load(preds_samples_file)\n",
    "    preds_samples = preds_data[\"energy_ensembles\"]\n",
    "else:\n",
    "    preds_samples = np.empty((0, len(alist)))\n",
    "    for ii in tqdm(range(100)):\n",
    "        # Predictions\n",
    "        modelname = f\"DUNN_C_fimbayes_{ii:03d}\"\n",
    "        _, eng, _ = energyvslatconst(modelname, alist, apply_dropout=False)\n",
    "        preds_samples = np.row_stack((preds_samples, eng))\n",
    "    preds_samples = preds_samples.astype(float)\n",
    "    np.savez(preds_samples_file, alist=alist, energy_ensembles=preds_samples)"
   ]
  },
  {
   "cell_type": "code",
   "execution_count": null,
   "metadata": {
    "ExecuteTime": {
     "end_time": "2024-01-18T19:36:27.892286Z",
     "start_time": "2024-01-18T19:36:27.892247Z"
    }
   },
   "outputs": [],
   "source": [
    "mean_samples_target = np.mean(preds_samples, axis=0)\n",
    "err_samples_target = np.std(preds_samples, axis=0)"
   ]
  },
  {
   "cell_type": "code",
   "execution_count": null,
   "metadata": {
    "ExecuteTime": {
     "end_time": "2024-01-18T19:36:27.894705Z",
     "start_time": "2024-01-18T19:36:27.894660Z"
    }
   },
   "outputs": [],
   "source": [
    "# Plot\n",
    "plt.figure()\n",
    "plt.plot(*(dft_data.T), \"r.\", zorder=10, label=\"DFT\")\n",
    "# FIM\n",
    "plt.fill_between(\n",
    "    alist,\n",
    "    mean_samples_target + err_samples_target,\n",
    "    mean_samples_target - err_samples_target,\n",
    "    alpha=0.5,\n",
    "    color=\"tab:purple\",\n",
    ")\n",
    "plt.plot(alist, mean_samples_target, color=\"tab:purple\", label=\"DUNN FIM\")\n",
    "\n",
    "# # Dropout\n",
    "# plt.fill_between(\n",
    "#     alist,\n",
    "#     energy_mean_do + energy_error_do,\n",
    "#     energy_mean_do - energy_error_do,\n",
    "#     alpha=0.5,\n",
    "#     color=\"tab:orange\",\n",
    "# )\n",
    "# plt.plot(alist, energy_mean_do, color=\"tab:orange\", label=\"DUNN dropout\")\n",
    "\n",
    "plt.ylim(-8.1, -7.5)\n",
    "plt.xlabel(r\"Lattice constant $a$ $(\\AA)$\")\n",
    "plt.ylabel(\"Energy (eV/atom)\")\n",
    "# plt.legend()\n",
    "\n",
    "plt.show()"
   ]
  },
  {
   "cell_type": "code",
   "execution_count": null,
   "metadata": {},
   "outputs": [],
   "source": []
  }
 ],
 "metadata": {
  "kernelspec": {
   "display_name": "Python 3 (ipykernel)",
   "language": "python",
   "name": "python3"
  },
  "language_info": {
   "codemirror_mode": {
    "name": "ipython",
    "version": 3
   },
   "file_extension": ".py",
   "mimetype": "text/x-python",
   "name": "python",
   "nbconvert_exporter": "python",
   "pygments_lexer": "ipython3",
   "version": "3.7.4"
  },
  "toc": {
   "base_numbering": 1,
   "nav_menu": {},
   "number_sections": true,
   "sideBar": true,
   "skip_h1_title": false,
   "title_cell": "Table of Contents",
   "title_sidebar": "Contents",
   "toc_cell": false,
   "toc_position": {},
   "toc_section_display": true,
   "toc_window_display": false
  },
  "varInspector": {
   "cols": {
    "lenName": 16,
    "lenType": 16,
    "lenVar": 40
   },
   "kernels_config": {
    "python": {
     "delete_cmd_postfix": "",
     "delete_cmd_prefix": "del ",
     "library": "var_list.py",
     "varRefreshCmd": "print(var_dic_list())"
    },
    "r": {
     "delete_cmd_postfix": ") ",
     "delete_cmd_prefix": "rm(",
     "library": "var_list.r",
     "varRefreshCmd": "cat(var_dic_list()) "
    }
   },
   "types_to_exclude": [
    "module",
    "function",
    "builtin_function_or_method",
    "instance",
    "_Feature"
   ],
   "window_display": false
  }
 },
 "nbformat": 4,
 "nbformat_minor": 2
}
