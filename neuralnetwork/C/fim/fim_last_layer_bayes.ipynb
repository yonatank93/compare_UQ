{
 "cells": [
  {
   "cell_type": "markdown",
   "metadata": {},
   "source": [
    "The purpose of this notebook is to compute the FIM of an NN potential for C with respect to the  weights and biases corresponding to the mapping from the last hidden layer to the output layer.\n",
    "It is similar to what's in `fim_last_layer.ipynb`, but in this notebook we add the prior term when computing the FIM.\n",
    "Since we add a prior, then this method is more Bayesian."
   ]
  },
  {
   "cell_type": "code",
   "execution_count": 1,
   "metadata": {
    "ExecuteTime": {
     "end_time": "2024-01-04T23:35:15.475008Z",
     "start_time": "2024-01-04T23:35:13.179123Z"
    }
   },
   "outputs": [],
   "source": [
    "from pathlib import Path\n",
    "import sys\n",
    "from tqdm import tqdm\n",
    "import subprocess\n",
    "\n",
    "\n",
    "import numpy as np\n",
    "import scipy\n",
    "import matplotlib.pyplot as plt\n",
    "import numdifftools as nd\n",
    "import torch\n",
    "\n",
    "from kliff import nn\n",
    "from kliff.calculators import CalculatorTorch\n",
    "from kliff.dataset import Dataset\n",
    "from kliff.dataset.weight import Weight\n",
    "from kliff.descriptors import SymmetryFunction\n",
    "from kliff.models import NeuralNetwork\n",
    "\n",
    "# Random seed\n",
    "seed = 1\n",
    "np.random.seed(seed)\n",
    "torch.manual_seed(seed)\n",
    "# torch.set_default_tensor_type(torch.DoubleTensor)\n",
    "\n",
    "%matplotlib inline\n",
    "plt.style.use(\"default\")"
   ]
  },
  {
   "cell_type": "markdown",
   "metadata": {},
   "source": [
    "# Setup"
   ]
  },
  {
   "cell_type": "markdown",
   "metadata": {},
   "source": [
    "## Variables"
   ]
  },
  {
   "cell_type": "code",
   "execution_count": 2,
   "metadata": {
    "ExecuteTime": {
     "end_time": "2024-01-04T23:35:15.488684Z",
     "start_time": "2024-01-04T23:35:15.478671Z"
    }
   },
   "outputs": [],
   "source": [
    "argv = sys.argv\n",
    "set_idx = 0  # int(argv[1])\n",
    "\n",
    "# Directories\n",
    "WORK_DIR = Path().absolute()\n",
    "FP_DIR = WORK_DIR.parent / \"fingerprints\"\n",
    "RES_DIR = WORK_DIR / \"results\" / \"fim\"\n",
    "if not RES_DIR.exists():\n",
    "    RES_DIR.mkdir(parents=True)\n",
    "\n",
    "# Architecture\n",
    "Nlayers = 4  # Number of layers, excluding input layer, including outpt layer\n",
    "Nnodes = 128  # Number of nodes per hidden layer\n",
    "dropout_ratio = 0.0  # Don't use dropout\n",
    "\n",
    "# Optimizer settings\n",
    "learning_rate = 1e-3\n",
    "batch_size = 100\n",
    "nepochs_total = 40_000  # How many epochs to run in total\n",
    "nepochs_initial = 2000  # Run this many epochs first\n",
    "nepochs_save_period = 10  # Then run and save every this many epochs\n",
    "epoch_change_lr = 5000  # This is the epoch when we change the learning rate"
   ]
  },
  {
   "cell_type": "markdown",
   "metadata": {},
   "source": [
    "## Model"
   ]
  },
  {
   "cell_type": "code",
   "execution_count": 3,
   "metadata": {
    "ExecuteTime": {
     "end_time": "2024-01-04T23:35:15.546336Z",
     "start_time": "2024-01-04T23:35:15.493286Z"
    }
   },
   "outputs": [
    {
     "name": "stderr",
     "output_type": "stream",
     "text": [
      "2024-01-04 16:35:15.541 | INFO     | kliff.models.model_torch:load:117 - Model loaded from `/data/yonatan/myproject/scripts/compare_UQ/neuralnetwork/C/training_dropout/model_best_train.pkl`\n"
     ]
    }
   ],
   "source": [
    "# Descriptor\n",
    "descriptor = SymmetryFunction(\n",
    "    cut_name=\"cos\", cut_dists={\"C-C\": 5.0}, hyperparams=\"set51\", normalize=True\n",
    ")\n",
    "model = NeuralNetwork(descriptor)\n",
    "\n",
    "# Layers\n",
    "hidden_layer_mappings = []\n",
    "for _ in range(Nlayers - 2):\n",
    "    hidden_layer_mappings.append(nn.Dropout(dropout_ratio))\n",
    "    hidden_layer_mappings.append(nn.Linear(Nnodes, Nnodes))\n",
    "    hidden_layer_mappings.append(nn.Tanh())\n",
    "\n",
    "model.add_layers(\n",
    "    # input layer\n",
    "    nn.Linear(descriptor.get_size(), Nnodes),  # Mapping from input layer to the first\n",
    "    nn.Tanh(),  # hidden layer\n",
    "    # hidden layer(s)\n",
    "    *hidden_layer_mappings,  # Mappings between hidden layers in the middle\n",
    "    # hidden layer(s)\n",
    "    nn.Dropout(dropout_ratio),  # Mapping from the last hidden layer to the output layer\n",
    "    nn.Linear(Nnodes, 1),\n",
    "    # output layer\n",
    ")\n",
    "\n",
    "# Load best model\n",
    "model.load(WORK_DIR.parent / \"training_dropout\" / \"model_best_train.pkl\")"
   ]
  },
  {
   "cell_type": "markdown",
   "metadata": {},
   "source": [
    "## Training set and calculator"
   ]
  },
  {
   "cell_type": "code",
   "execution_count": 4,
   "metadata": {
    "ExecuteTime": {
     "end_time": "2024-01-04T23:35:29.963439Z",
     "start_time": "2024-01-04T23:35:15.549586Z"
    }
   },
   "outputs": [
    {
     "name": "stderr",
     "output_type": "stream",
     "text": [
      "2024-01-04 16:35:19.212 | INFO     | kliff.dataset.dataset:_read:398 - 4309 configurations read from /data/yonatan/myproject/scripts/compare_UQ/neuralnetwork/C/carbon_training_set\n",
      "2024-01-04 16:35:19.217 | INFO     | kliff.calculators.calculator_torch:_get_device:592 - Training on cpu\n",
      "2024-01-04 16:35:19.221 | INFO     | kliff.calculators.calculator_torch:create:93 - Reuse fingerprints `/data/yonatan/myproject/scripts/compare_UQ/neuralnetwork/C/fingerprints/fingerprints_train.pkl`\n",
      "2024-01-04 16:35:19.224 | INFO     | kliff.calculators.calculator_torch:create:111 - Reuse fingerprints mean and stdev `/data/yonatan/myproject/scripts/compare_UQ/neuralnetwork/C/fingerprints/fingerprints_train_mean_and_stdev.pkl`\n"
     ]
    }
   ],
   "source": [
    "# training set\n",
    "dataset_path = WORK_DIR.parent / \"carbon_training_set\"\n",
    "weight = Weight(energy_weight=1.0, forces_weight=np.sqrt(0.1))\n",
    "tset = Dataset(dataset_path, weight)\n",
    "configs = tset.get_configs()\n",
    "nconfigs = len(configs)\n",
    "\n",
    "# calculator\n",
    "gpu = False\n",
    "calc = CalculatorTorch(model, gpu=gpu)\n",
    "_ = calc.create(\n",
    "    configs,\n",
    "    nprocs=20,\n",
    "    reuse=True,\n",
    "    fingerprints_filename=FP_DIR / f\"fingerprints_train.pkl\",\n",
    "    fingerprints_mean_stdev_filename=FP_DIR / f\"fingerprints_train_mean_and_stdev.pkl\",\n",
    ")\n",
    "bestfit_params = calc.get_opt_params()"
   ]
  },
  {
   "cell_type": "markdown",
   "metadata": {},
   "source": [
    "# Real calculation"
   ]
  },
  {
   "cell_type": "code",
   "execution_count": 5,
   "metadata": {
    "ExecuteTime": {
     "end_time": "2024-01-04T23:35:29.973554Z",
     "start_time": "2024-01-04T23:35:29.967358Z"
    }
   },
   "outputs": [],
   "source": [
    "device = model.device\n",
    "loader = calc.get_compute_arguments(batch_size)\n",
    "layers_no_output = model.layers[:-1]"
   ]
  },
  {
   "cell_type": "markdown",
   "metadata": {},
   "source": [
    "## Compute the Jacobian"
   ]
  },
  {
   "cell_type": "code",
   "execution_count": 6,
   "metadata": {
    "ExecuteTime": {
     "end_time": "2024-01-04T23:35:30.708814Z",
     "start_time": "2024-01-04T23:35:29.976981Z"
    }
   },
   "outputs": [
    {
     "name": "stderr",
     "output_type": "stream",
     "text": [
      "100%|██████████████████████████████████████████████████████████████████| 44/44 [00:00<00:00, 62.99it/s]\n"
     ]
    }
   ],
   "source": [
    "# Compute the derivative of the energy\n",
    "de_all = np.empty((0, 129))  # There are 128 weights and 1 bias\n",
    "\n",
    "for batch in tqdm(loader):\n",
    "    # batch = next(iter(loader))\n",
    "\n",
    "    # Get the fingerprints - these lines are from calc.compute\n",
    "    zeta_config = [sample[\"zeta\"] for sample in batch]  # Zeta for each config\n",
    "    zeta_stacked = torch.cat(zeta_config, dim=0).to(device)\n",
    "    zeta_stacked.requires_grad_(True)\n",
    "    natoms_config = [len(zeta) for zeta in zeta_config]  # Number of atoms per config\n",
    "\n",
    "    # Try to retrieve values from the last hidden layer\n",
    "    x_atom = torch.clone(zeta_stacked)\n",
    "    for layer in layers_no_output:\n",
    "        x_atom = layer(x_atom)\n",
    "\n",
    "    x_config = [e.sum(0) for e in torch.split(x_atom, natoms_config)]\n",
    "    # Derivative of the energy with respect to the weights\n",
    "    de = np.array([elem.detach().numpy() for elem in x_config])\n",
    "    # Add the derivative of energy with respect to the bias\n",
    "    de = np.column_stack((de, np.ones(len(de))))\n",
    "    \n",
    "    # Append to the container matrix\n",
    "    de_all = np.row_stack((de_all, de))\n",
    "\n",
    "# Export\n",
    "np.save(RES_DIR / \"jacobian_energy.npy\", de_all)"
   ]
  },
  {
   "cell_type": "code",
   "execution_count": 7,
   "metadata": {
    "ExecuteTime": {
     "end_time": "2024-01-04T23:42:55.710150Z",
     "start_time": "2024-01-04T23:35:30.717463Z"
    }
   },
   "outputs": [
    {
     "name": "stderr",
     "output_type": "stream",
     "text": [
      "100%|██████████████████████████████████████████████████████████████████| 44/44 [07:24<00:00, 10.09s/it]\n"
     ]
    }
   ],
   "source": [
    "# Compute the derivative of the energy\n",
    "df_file = Path(RES_DIR / \"jacobian_forces.npy\")\n",
    "\n",
    "# Unlike the calculation for the derivative of the energy, this calculation took me\n",
    "# about 5 minutes. Just loading the data even took about 5s.\n",
    "if df_file.exists():\n",
    "    df_all = np.load(df_file)\n",
    "else:\n",
    "    df_all = np.empty((0, 129))  # There are 128 weights and 1 bias\n",
    "\n",
    "    for batch in tqdm(loader):\n",
    "        batch = next(iter(loader))\n",
    "\n",
    "        # Get the fingerprints - these lines are from calc.compute\n",
    "        zeta_config = [sample[\"zeta\"] for sample in batch]  # Zeta for each config\n",
    "        zeta_stacked = torch.cat(zeta_config, dim=0).to(device)\n",
    "        zeta_stacked.requires_grad_(True)\n",
    "        natoms_config = [len(zeta) for zeta in zeta_config]  # Number of atoms per config\n",
    "\n",
    "        # Try to retrieve values from the last hidden layer\n",
    "        x_atom = torch.clone(zeta_stacked)\n",
    "        for layer in layers_no_output:\n",
    "            x_atom = layer(x_atom)\n",
    "\n",
    "        x_config = [e.sum(0) for e in torch.split(x_atom, natoms_config)]\n",
    "        # Derivative of the energy with respect to the weights\n",
    "        de = np.array([elem.detach().numpy() for elem in x_config])\n",
    "        # Add the derivative of energy with respect to the bias\n",
    "        de = np.column_stack((de, np.ones(len(de))))\n",
    "\n",
    "        # Derivative of the forces with respect to all weights of the last hidden layer\n",
    "        df = []\n",
    "        for x_atom_node in x_atom.T:\n",
    "            # de/dzeta for the  first node of the last hidden layer\n",
    "            x_atom_node = x_atom_node.reshape((-1, 1))\n",
    "            dedzeta = torch.autograd.grad(\n",
    "                x_atom_node.sum(), zeta_stacked, create_graph=True\n",
    "            )[0]\n",
    "            dedzeta_config = torch.split(dedzeta, natoms_config)\n",
    "\n",
    "            # df/dzeta for the first node of the last hidden layer\n",
    "            forces_config = []\n",
    "            for i, sample in enumerate(batch):\n",
    "                dedz = dedzeta_config[i]\n",
    "\n",
    "                dzetadr_forces = sample[\"dzetadr_forces\"].to(device)\n",
    "                f = calc._compute_forces(dedz, dzetadr_forces)\n",
    "                forces_config.append(f)\n",
    "            forces_config = torch.cat(forces_config)\n",
    "            df.append(forces_config)\n",
    "\n",
    "        # Stack the forces\n",
    "        df = torch.stack(df).T\n",
    "        zeta_stacked.requires_grad_(False)\n",
    "\n",
    "        # Convert to numpy\n",
    "        df = df.detach().numpy()\n",
    "        # Add the derivative with respect to the bias\n",
    "        df = np.column_stack((df, np.zeros(len(df))))\n",
    "\n",
    "        # Append to the container matrix\n",
    "        df_all = np.row_stack((df_all, df))\n",
    "\n",
    "    # Export\n",
    "    np.save(df_file, df_all)"
   ]
  },
  {
   "cell_type": "markdown",
   "metadata": {},
   "source": [
    "## Compute the FIM"
   ]
  },
  {
   "cell_type": "markdown",
   "metadata": {},
   "source": [
    "Derivation of the FIM with using the posterior\n",
    "* Posterior\n",
    "    \\begin{align*}\n",
    "        P(\\theta | y) &= \\frac{L(\\theta | y) \\pi(\\theta)}{P(y)} \\\\\n",
    "        L(\\theta | y) &= \\frac{1}{N_L} \\exp{\\left[ -\\frac{1}{2} \\sum_m \\left( \\frac{y_m - f_m(\\theta)}{\\sigma_m} \\right)^2 \\right]} \\\\\n",
    "        \\pi(\\theta) &= \\frac{1}{N_\\pi} \\exp{\\left[ -\\frac{1}{2} \\sum_n \\left( \\frac{\\theta_n - \\theta_n^*}{s_n} \\right)^2 \\right]}\n",
    "    \\end{align*}\n",
    "\n",
    "* Log-posterior\n",
    "    \\begin{equation*}\n",
    "        \\log [P(\\theta | y)] = \\log [L(\\theta | y)] + \\log [\\pi(\\theta)] - \\log [P(y)]\n",
    "    \\end{equation*}\n",
    "    \n",
    "* Hessian of log-posterior\n",
    "    \\begin{equation*}\n",
    "        \\frac{\\partial^2 \\log [P(\\theta | y)]}{\\partial \\theta_\\mu \\partial \\theta_\\nu} = \\frac{\\partial^2 \\log [L(\\theta | y)]}{\\partial \\theta_\\mu \\partial \\theta_\\nu} + \\frac{\\partial^2 \\log [\\pi(\\theta)]}{\\partial \\theta_\\mu \\partial \\theta_\\nu}\n",
    "    \\end{equation*}\n",
    "    $P(y)$ is independent of $\\theta$.\n",
    "    \n",
    "    * Hessian of log-likelihood\n",
    "        \\begin{align*}\n",
    "            \\log [L(\\theta | y)] &= -\\log(N_L) -\\frac{1}{2} \\sum_m \\left( \\frac{y_m - f_m(\\theta)}{\\sigma_m} \\right)^2 \\\\\n",
    "            \\frac{\\partial \\log [L(\\theta | y)]}{\\partial \\theta_\\mu} &= \\sum_m \\left( \\frac{y_m - f_m(\\theta)}{\\sigma_m^2} \\right) \\left( \\frac{\\partial f_m(\\theta)}{\\partial \\theta_\\mu} \\right) \\\\\n",
    "            \\frac{\\partial^2 \\log [L(\\theta | y)]}{\\partial \\theta_\\mu \\partial \\theta_\\nu} &= \\sum_m \\left[ -\\frac{1}{\\sigma_m^2} \\frac{\\partial f_m(\\theta)}{\\partial \\theta_\\mu} \\frac{\\partial f_m(\\theta)}{\\partial \\theta_\\nu} + \\left( \\frac{y_m - f_m(\\theta)}{\\sigma_m^2} \\right) \\frac{\\partial^2 f_m(\\theta)}{\\partial \\theta_\\mu \\partial \\theta_\\nu} \\right]\n",
    "        \\end{align*}\n",
    "\n",
    "    * Hessian of log-prior\n",
    "        \\begin{align*}\n",
    "            \\log [\\pi(\\theta)] &= \\log(N_\\pi) -\\frac{1}{2} \\sum_n \\left( \\frac{\\theta_n - \\theta_n^*}{s_n} \\right)^2 \\\\\n",
    "            \\frac{\\partial \\log [\\pi(\\theta)]}{\\partial \\theta_\\mu} &= -\\left( \\frac{\\theta_\\mu - \\theta_\\mu^*}{s_\\mu^2} \\right) \\\\\n",
    "            \\frac{\\partial^2 \\log [\\pi(\\theta)]}{\\partial \\theta_\\mu \\partial \\theta_\\nu} &= - \\frac{\\delta_{\\mu \\nu}}{s_\\mu^2}\n",
    "        \\end{align*}\n",
    "        \n",
    "* Negative expectation value of the Hessian - FIM\n",
    "    \\begin{align*}\n",
    "        -\\left< \\frac{\\partial^2 \\log [P(\\theta | y)]}{\\partial \\theta_\\mu \\partial \\theta_\\nu} \\right> &= -\\left< \\frac{\\partial^2 \\log [L(\\theta | y)]}{\\partial \\theta_\\mu \\partial \\theta_\\nu} \\right> - \\left< \\frac{\\partial^2 \\log [\\pi(\\theta)]}{\\partial \\theta_\\mu \\partial \\theta_\\nu} \\right> \\\\\n",
    "        &= \\sum_m \\left[ \\frac{1}{\\sigma_m^2} \\frac{\\partial f_m(\\theta)}{\\partial \\theta_\\mu} \\frac{\\partial f_m(\\theta)}{\\partial \\theta_\\nu} \\right] + \\frac{\\delta_{\\mu \\nu}}{s_\\mu^2}\n",
    "    \\end{align*}"
   ]
  },
  {
   "cell_type": "code",
   "execution_count": 8,
   "metadata": {
    "ExecuteTime": {
     "end_time": "2024-01-04T23:42:58.258117Z",
     "start_time": "2024-01-04T23:42:55.714834Z"
    }
   },
   "outputs": [],
   "source": [
    "# Log-likelihood term\n",
    "fim_energy = de_all.T @ de_all\n",
    "fim_forces = 0.1 * df_all.T @ df_all  # The forces are weighted by sqrt(0.1)\n",
    "fim_like = fim_energy + fim_forces\n",
    "\n",
    "# Log-prior term\n",
    "s = 1  # standard deviation of the Gaussian prior\n",
    "fim_prior = np.diag(np.ones(len(fim_like)) / (s ** 2))\n",
    "\n",
    "# FIM using posterior\n",
    "fim_configs = fim_like + fim_prior"
   ]
  },
  {
   "cell_type": "code",
   "execution_count": 9,
   "metadata": {
    "ExecuteTime": {
     "end_time": "2024-01-04T23:42:59.108449Z",
     "start_time": "2024-01-04T23:42:58.262681Z"
    }
   },
   "outputs": [
    {
     "name": "stdout",
     "output_type": "stream",
     "text": [
      "[9.99999999e-01 1.00000001e+00 1.40098815e+01 1.64701150e+01\n",
      " 2.28128711e+01 2.57172280e+01 3.13634842e+01 3.52236906e+01\n",
      " 3.97552370e+01 4.67582348e+01 5.14579288e+01 5.46838398e+01\n",
      " 5.80643339e+01 6.52822532e+01 7.34741384e+01 7.66236559e+01\n",
      " 8.72381633e+01 1.11915374e+02 1.18939256e+02 1.26384708e+02\n",
      " 1.32499046e+02 1.49369822e+02 1.66408667e+02 1.68800967e+02\n",
      " 1.83072216e+02 1.93175614e+02 2.02420525e+02 2.19653247e+02\n",
      " 2.30993842e+02 2.71833919e+02 2.79107829e+02 3.15520118e+02\n",
      " 3.36473171e+02 3.47536182e+02 3.78285154e+02 4.29530723e+02\n",
      " 4.57065441e+02 4.93190091e+02 5.01399404e+02 5.47615469e+02\n",
      " 5.87249708e+02 6.48068972e+02 7.12805795e+02 7.28055114e+02\n",
      " 7.85343942e+02 8.16869481e+02 8.62058455e+02 8.94127290e+02\n",
      " 9.78966660e+02 1.04221662e+03 1.06205735e+03 1.20474194e+03\n",
      " 1.26982741e+03 1.40542020e+03 1.66317040e+03 1.71182853e+03\n",
      " 1.82516343e+03 1.91557130e+03 2.08192369e+03 2.11973927e+03\n",
      " 2.47154954e+03 2.62322745e+03 2.78388737e+03 2.97040104e+03\n",
      " 3.02383735e+03 3.18165134e+03 3.49404576e+03 3.77488820e+03\n",
      " 4.35737567e+03 4.62561970e+03 4.86975974e+03 5.06531097e+03\n",
      " 6.00072240e+03 6.71203328e+03 6.84468483e+03 7.39555015e+03\n",
      " 7.71935692e+03 8.37329849e+03 9.61358509e+03 1.03049961e+04\n",
      " 1.11532357e+04 1.15038573e+04 1.26278833e+04 1.40500377e+04\n",
      " 1.48206765e+04 1.55080764e+04 1.80340452e+04 1.99954301e+04\n",
      " 2.20897157e+04 2.41842062e+04 2.49587589e+04 2.72375716e+04\n",
      " 2.86035422e+04 3.40390836e+04 3.72769814e+04 4.51744838e+04\n",
      " 4.98100433e+04 5.55782168e+04 6.08093320e+04 6.29561390e+04\n",
      " 7.00373611e+04 7.41179127e+04 9.64862850e+04 1.17634373e+05\n",
      " 1.31738833e+05 1.63543328e+05 1.69035085e+05 1.83309639e+05\n",
      " 2.23188187e+05 2.46430153e+05 2.85522493e+05 3.44320285e+05\n",
      " 4.21781910e+05 4.72675494e+05 5.91644653e+05 6.77019167e+05\n",
      " 8.09468749e+05 1.26501165e+06 1.53337474e+06 2.25287181e+06\n",
      " 2.60370317e+06 4.10307734e+06 6.22736495e+06 8.30365920e+06\n",
      " 1.38508686e+07 2.37653418e+07 1.16009786e+08 2.45938949e+08\n",
      " 7.91595969e+08]\n"
     ]
    },
    {
     "data": {
      "image/png": "[encoded data removed]",
      "text/plain": [
       "<Figure size 640x480 with 1 Axes>"
      ]
     },
     "metadata": {},
     "output_type": "display_data"
    }
   ],
   "source": [
    "# Eigenvalues\n",
    "eigvals = scipy.linalg.eigvalsh(fim_configs)\n",
    "print(eigvals)\n",
    "\n",
    "plt.figure()\n",
    "for lam in eigvals:\n",
    "    plt.axhline(lam)\n",
    "plt.yscale(\"log\")\n",
    "plt.show()"
   ]
  },
  {
   "cell_type": "code",
   "execution_count": 10,
   "metadata": {
    "ExecuteTime": {
     "end_time": "2024-01-04T23:42:59.155399Z",
     "start_time": "2024-01-04T23:42:59.112005Z"
    }
   },
   "outputs": [
    {
     "data": {
      "text/plain": [
       "array([1.26327069e-09, 4.06604973e-09, 8.61996231e-09, 4.20780820e-08,\n",
       "       7.21976384e-08, 1.20428835e-07, 1.60581563e-07, 2.43719510e-07,\n",
       "       3.84068358e-07, 4.43877896e-07, 6.52156303e-07, 7.90506556e-07,\n",
       "       1.23537814e-06, 1.47706306e-06, 1.69020373e-06, 2.11561634e-06,\n",
       "       2.37089353e-06, 2.90427268e-06, 3.50235103e-06, 4.05794497e-06,\n",
       "       4.48052387e-06, 5.45525049e-06, 5.91593160e-06, 6.11458757e-06,\n",
       "       7.59077624e-06, 8.50091668e-06, 1.03641673e-05, 1.34920151e-05,\n",
       "       1.42780936e-05, 1.58840745e-05, 1.64448443e-05, 1.79926608e-05,\n",
       "       2.00762725e-05, 2.21363902e-05, 2.68262065e-05, 2.93779941e-05,\n",
       "       3.49607049e-05, 3.67139925e-05, 4.00660949e-05, 4.13493001e-05,\n",
       "       4.52699353e-05, 5.00114274e-05, 5.54506761e-05, 6.44825297e-05,\n",
       "       6.74733031e-05, 7.11741864e-05, 7.91898354e-05, 8.69273646e-05,\n",
       "       8.96600796e-05, 9.70403083e-05, 1.04019467e-04, 1.19427249e-04,\n",
       "       1.29544470e-04, 1.35216445e-04, 1.46098765e-04, 1.48986150e-04,\n",
       "       1.66646602e-04, 1.97421246e-04, 2.05348940e-04, 2.16187249e-04,\n",
       "       2.29495934e-04, 2.64908508e-04, 2.86201174e-04, 3.14302195e-04,\n",
       "       3.30705618e-04, 3.36654878e-04, 3.59209935e-04, 3.81209796e-04,\n",
       "       4.04604473e-04, 4.71756133e-04, 4.80325002e-04, 5.22037473e-04,\n",
       "       5.47896141e-04, 5.84170658e-04, 6.01261303e-04, 7.11530969e-04,\n",
       "       7.87508596e-04, 8.30053278e-04, 9.41568736e-04, 9.59493428e-04,\n",
       "       1.02148525e-03, 1.11840899e-03, 1.16001414e-03, 1.22418578e-03,\n",
       "       1.27332745e-03, 1.37352239e-03, 1.40290666e-03, 1.54304564e-03,\n",
       "       1.70285312e-03, 1.82609889e-03, 1.99441801e-03, 2.02761576e-03,\n",
       "       2.18787051e-03, 2.32812217e-03, 2.64350844e-03, 2.87739825e-03,\n",
       "       2.97200516e-03, 3.16937001e-03, 3.58284468e-03, 3.67871679e-03,\n",
       "       4.32911973e-03, 4.55263018e-03, 4.94021049e-03, 5.17663685e-03,\n",
       "       5.46232531e-03, 5.92413667e-03, 6.00930239e-03, 6.69479275e-03,\n",
       "       7.54722415e-03, 7.91234967e-03, 8.40765305e-03, 8.93532288e-03,\n",
       "       1.14628732e-02, 1.30507999e-02, 1.36102311e-02, 1.53180987e-02,\n",
       "       1.72222763e-02, 1.82869382e-02, 1.94333511e-02, 2.13866072e-02,\n",
       "       2.51539187e-02, 2.83899836e-02, 3.18842127e-02, 3.88844396e-02,\n",
       "       4.38349034e-02, 6.07160301e-02, 7.13781914e-02, 9.99999996e-01,\n",
       "       9.99999999e-01])"
      ]
     },
     "execution_count": 10,
     "metadata": {},
     "output_type": "execute_result"
    }
   ],
   "source": [
    "cov = scipy.linalg.pinvh(fim_configs)\n",
    "np.save(RES_DIR / \"covariance_parameters.npy\", cov)\n",
    "scipy.linalg.eigvalsh(cov)"
   ]
  },
  {
   "cell_type": "code",
   "execution_count": null,
   "metadata": {},
   "outputs": [],
   "source": []
  }
 ],
 "metadata": {
  "kernelspec": {
   "display_name": "Python 3 (ipykernel)",
   "language": "python",
   "name": "python3"
  },
  "language_info": {
   "codemirror_mode": {
    "name": "ipython",
    "version": 3
   },
   "file_extension": ".py",
   "mimetype": "text/x-python",
   "name": "python",
   "nbconvert_exporter": "python",
   "pygments_lexer": "ipython3",
   "version": "3.7.4"
  },
  "toc": {
   "base_numbering": 1,
   "nav_menu": {},
   "number_sections": true,
   "sideBar": true,
   "skip_h1_title": false,
   "title_cell": "Table of Contents",
   "title_sidebar": "Contents",
   "toc_cell": false,
   "toc_position": {},
   "toc_section_display": true,
   "toc_window_display": false
  },
  "varInspector": {
   "cols": {
    "lenName": 16,
    "lenType": 16,
    "lenVar": 40
   },
   "kernels_config": {
    "python": {
     "delete_cmd_postfix": "",
     "delete_cmd_prefix": "del ",
     "library": "var_list.py",
     "varRefreshCmd": "print(var_dic_list())"
    },
    "r": {
     "delete_cmd_postfix": ") ",
     "delete_cmd_prefix": "rm(",
     "library": "var_list.r",
     "varRefreshCmd": "cat(var_dic_list()) "
    }
   },
   "types_to_exclude": [
    "module",
    "function",
    "builtin_function_or_method",
    "instance",
    "_Feature"
   ],
   "window_display": false
  }
 },
 "nbformat": 4,
 "nbformat_minor": 2
}
