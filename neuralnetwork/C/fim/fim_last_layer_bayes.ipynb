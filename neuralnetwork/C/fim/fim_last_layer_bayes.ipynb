{
 "cells": [
  {
   "cell_type": "markdown",
   "metadata": {},
   "source": [
    "The purpose of this notebook is to compute the FIM of an NN potential for C with respect to the  weights and biases corresponding to the mapping from the last hidden layer to the output layer.\n",
    "It is similar to what's in `fim_last_layer.ipynb`, but in this notebook we add the prior term when computing the FIM.\n",
    "Since we add a prior, then this method is more Bayesian."
   ]
  },
  {
   "cell_type": "code",
   "execution_count": 1,
   "metadata": {
    "ExecuteTime": {
     "end_time": "2024-05-15T16:02:53.054087Z",
     "start_time": "2024-05-15T16:02:49.785888Z"
    }
   },
   "outputs": [],
   "source": [
    "from pathlib import Path\n",
    "import json\n",
    "import sys\n",
    "from tqdm import tqdm\n",
    "import subprocess\n",
    "from multiprocessing import Pool\n",
    "\n",
    "\n",
    "import numpy as np\n",
    "import scipy\n",
    "import matplotlib.pyplot as plt\n",
    "import numdifftools as nd\n",
    "import torch\n",
    "\n",
    "from kliff import nn\n",
    "from kliff.calculators import CalculatorTorch\n",
    "from kliff.dataset import Dataset\n",
    "from kliff.dataset.weight import Weight\n",
    "from kliff.descriptors import SymmetryFunction\n",
    "from kliff.models import NeuralNetwork\n",
    "\n",
    "# Random seed\n",
    "seed = 1\n",
    "np.random.seed(seed)\n",
    "torch.manual_seed(seed)\n",
    "# torch.set_default_tensor_type(torch.DoubleTensor)\n",
    "\n",
    "%matplotlib inline\n",
    "plt.style.use(\"default\")"
   ]
  },
  {
   "cell_type": "markdown",
   "metadata": {},
   "source": [
    "# Setup"
   ]
  },
  {
   "cell_type": "markdown",
   "metadata": {},
   "source": [
    "## Variables"
   ]
  },
  {
   "cell_type": "code",
   "execution_count": 2,
   "metadata": {
    "ExecuteTime": {
     "end_time": "2024-05-15T16:02:53.070300Z",
     "start_time": "2024-05-15T16:02:53.059611Z"
    }
   },
   "outputs": [],
   "source": [
    "# Read setting file\n",
    "WORK_DIR = Path().absolute()\n",
    "ROOT_DIR = WORK_DIR.parent\n",
    "DATA_DIR = ROOT_DIR / \"data\"\n",
    "with open(ROOT_DIR / \"settings.json\", \"r\") as f:\n",
    "    settings = json.load(f)\n",
    "partition = settings[\"partition\"]\n",
    "PART_DIR = DATA_DIR / f\"{partition}_partition_data\"\n",
    "FP_DIR = PART_DIR / \"fingerprints\"\n",
    "RES_DIR = WORK_DIR / \"results\" / f\"{partition}_partition\"\n",
    "if not RES_DIR.exists():\n",
    "    RES_DIR.mkdir(parents=True)"
   ]
  },
  {
   "cell_type": "markdown",
   "metadata": {},
   "source": [
    "## Model"
   ]
  },
  {
   "cell_type": "code",
   "execution_count": 3,
   "metadata": {
    "ExecuteTime": {
     "end_time": "2024-05-15T16:02:53.084650Z",
     "start_time": "2024-05-15T16:02:53.073737Z"
    }
   },
   "outputs": [],
   "source": [
    "# Architecture\n",
    "Nlayers = 4  # Number of layers, excluding input layer, including outpt layer\n",
    "Nnodes = 128  # Number of nodes per hidden layer\n",
    "dropout_ratio = 0.0  # Don't use dropout\n",
    "\n",
    "# Optimizer settings\n",
    "learning_rate = 1e-3\n",
    "batch_size = 100\n",
    "nepochs_total = 40_000  # How many epochs to run in total\n",
    "nepochs_initial = 2000  # Run this many epochs first\n",
    "nepochs_save_period = 10  # Then run and save every this many epochs\n",
    "epoch_change_lr = 5000  # This is the epoch when we change the learning rate"
   ]
  },
  {
   "cell_type": "code",
   "execution_count": 4,
   "metadata": {
    "ExecuteTime": {
     "end_time": "2024-05-15T16:02:53.143646Z",
     "start_time": "2024-05-15T16:02:53.091421Z"
    }
   },
   "outputs": [
    {
     "name": "stderr",
     "output_type": "stream",
     "text": [
      "2024-05-15 10:02:53.137 | INFO     | kliff.models.model_torch:load:117 - Model loaded from `/data/yonatan/myproject/scripts/compare_UQ/neuralnetwork/C/data/mingjian_partition_data/model_best_train.pkl`\n"
     ]
    }
   ],
   "source": [
    "# Descriptor\n",
    "descriptor = SymmetryFunction(\n",
    "    cut_name=\"cos\", cut_dists={\"C-C\": 5.0}, hyperparams=\"set51\", normalize=True\n",
    ")\n",
    "model = NeuralNetwork(descriptor)\n",
    "\n",
    "# Layers\n",
    "hidden_layer_mappings = []\n",
    "for _ in range(Nlayers - 2):\n",
    "    hidden_layer_mappings.append(nn.Dropout(dropout_ratio))\n",
    "    hidden_layer_mappings.append(nn.Linear(Nnodes, Nnodes))\n",
    "    hidden_layer_mappings.append(nn.Tanh())\n",
    "\n",
    "model.add_layers(\n",
    "    # input layer\n",
    "    nn.Linear(descriptor.get_size(), Nnodes),  # Mapping from input layer to the first\n",
    "    nn.Tanh(),  # hidden layer\n",
    "    # hidden layer(s)\n",
    "    *hidden_layer_mappings,  # Mappings between hidden layers in the middle\n",
    "    # hidden layer(s)\n",
    "    nn.Dropout(dropout_ratio),  # Mapping from the last hidden layer to the output layer\n",
    "    nn.Linear(Nnodes, 1),\n",
    "    # output layer\n",
    ")\n",
    "\n",
    "# Load best model\n",
    "model.load(PART_DIR / \"model_best_train.pkl\")"
   ]
  },
  {
   "cell_type": "markdown",
   "metadata": {},
   "source": [
    "## Training set and calculator"
   ]
  },
  {
   "cell_type": "code",
   "execution_count": 5,
   "metadata": {
    "ExecuteTime": {
     "end_time": "2024-05-15T16:03:08.398903Z",
     "start_time": "2024-05-15T16:02:53.147391Z"
    }
   },
   "outputs": [
    {
     "name": "stderr",
     "output_type": "stream",
     "text": [
      "2024-05-15 10:02:57.067 | INFO     | kliff.dataset.dataset:_read:398 - 4344 configurations read from /data/yonatan/myproject/scripts/compare_UQ/neuralnetwork/C/data/mingjian_partition_data/carbon_training_set\n",
      "2024-05-15 10:02:57.076 | INFO     | kliff.calculators.calculator_torch:_get_device:592 - Training on cpu\n",
      "2024-05-15 10:02:57.082 | INFO     | kliff.calculators.calculator_torch:create:93 - Reuse fingerprints `/data/yonatan/myproject/scripts/compare_UQ/neuralnetwork/C/data/mingjian_partition_data/fingerprints/fingerprints_train.pkl`\n",
      "2024-05-15 10:02:57.085 | INFO     | kliff.calculators.calculator_torch:create:111 - Reuse fingerprints mean and stdev `/data/yonatan/myproject/scripts/compare_UQ/neuralnetwork/C/data/mingjian_partition_data/fingerprints/fingerprints_train_mean_and_stdev.pkl`\n"
     ]
    }
   ],
   "source": [
    "# training set\n",
    "dataset_path = PART_DIR / \"carbon_training_set\"\n",
    "weight = Weight(energy_weight=1.0, forces_weight=np.sqrt(0.1))\n",
    "tset = Dataset(dataset_path, weight)\n",
    "configs = tset.get_configs()\n",
    "nconfigs = len(configs)\n",
    "\n",
    "# calculator\n",
    "gpu = False\n",
    "calc = CalculatorTorch(model, gpu=gpu)\n",
    "_ = calc.create(\n",
    "    configs,\n",
    "    nprocs=20,\n",
    "    reuse=True,\n",
    "    fingerprints_filename=FP_DIR / f\"fingerprints_train.pkl\",\n",
    "    fingerprints_mean_stdev_filename=FP_DIR / f\"fingerprints_train_mean_and_stdev.pkl\",\n",
    ")\n",
    "bestfit_params = calc.get_opt_params()"
   ]
  },
  {
   "cell_type": "markdown",
   "metadata": {},
   "source": [
    "# Real calculation"
   ]
  },
  {
   "cell_type": "code",
   "execution_count": 6,
   "metadata": {
    "ExecuteTime": {
     "end_time": "2024-05-15T16:03:08.410456Z",
     "start_time": "2024-05-15T16:03:08.402760Z"
    }
   },
   "outputs": [],
   "source": [
    "device = model.device\n",
    "loader = calc.get_compute_arguments(batch_size)\n",
    "layers_no_output = model.layers[:-1]"
   ]
  },
  {
   "cell_type": "markdown",
   "metadata": {},
   "source": [
    "## Get reference data"
   ]
  },
  {
   "cell_type": "code",
   "execution_count": 7,
   "metadata": {
    "ExecuteTime": {
     "end_time": "2024-05-15T16:03:08.513098Z",
     "start_time": "2024-05-15T16:03:08.414360Z"
    }
   },
   "outputs": [
    {
     "name": "stdout",
     "output_type": "stream",
     "text": [
      "4344\n"
     ]
    }
   ],
   "source": [
    "reference_energy = []\n",
    "for batch in loader:\n",
    "    batch_energy = np.array([float(sample[\"energy\"]) for sample in batch])\n",
    "    reference_energy = np.append(reference_energy, batch_energy)\n",
    "print(len(reference_energy))"
   ]
  },
  {
   "cell_type": "code",
   "execution_count": 8,
   "metadata": {
    "ExecuteTime": {
     "end_time": "2024-05-15T16:03:08.810601Z",
     "start_time": "2024-05-15T16:03:08.516534Z"
    }
   },
   "outputs": [
    {
     "name": "stdout",
     "output_type": "stream",
     "text": [
      "(619746,)\n"
     ]
    }
   ],
   "source": [
    "reference_forces = []\n",
    "for batch in loader:\n",
    "    batch_forces = [sample[\"forces\"].numpy().flatten() for sample in batch]\n",
    "    reference_forces = np.append(reference_forces, np.concatenate(batch_forces))\n",
    "print(reference_forces.shape)"
   ]
  },
  {
   "cell_type": "markdown",
   "metadata": {},
   "source": [
    "## Compute the Jacobian"
   ]
  },
  {
   "cell_type": "code",
   "execution_count": 9,
   "metadata": {
    "ExecuteTime": {
     "end_time": "2024-05-15T16:03:08.837301Z",
     "start_time": "2024-05-15T16:03:08.814839Z"
    }
   },
   "outputs": [],
   "source": [
    "# Compute the derivative of the energy\n",
    "de_file = Path(RES_DIR / \"jacobian_energy.npy\")\n",
    "\n",
    "if de_file.exists():\n",
    "    de_all = np.load(de_file)\n",
    "else:\n",
    "    de_all = np.empty((0, 129))  # There are 128 weights and 1 bias\n",
    "\n",
    "    for batch in tqdm(loader):\n",
    "        # batch = next(iter(loader))\n",
    "\n",
    "        # Get the fingerprints - these lines are from calc.compute\n",
    "        zeta_config = [sample[\"zeta\"] for sample in batch]  # Zeta for each config\n",
    "        zeta_stacked = torch.cat(zeta_config, dim=0).to(device)\n",
    "        zeta_stacked.requires_grad_(True)\n",
    "        natoms_config = [len(zeta) for zeta in zeta_config]  # Number of atoms per config\n",
    "\n",
    "        # Try to retrieve values from the last hidden layer\n",
    "        x_atom = torch.clone(zeta_stacked)\n",
    "        for layer in layers_no_output:\n",
    "            x_atom = layer(x_atom)\n",
    "\n",
    "        x_config = [e.sum(0) for e in torch.split(x_atom, natoms_config)]\n",
    "        # Derivative of the energy with respect to the weights\n",
    "        de = np.array([elem.detach().numpy() for elem in x_config])\n",
    "        # Add the derivative of energy with respect to the bias\n",
    "        de = np.column_stack((de, np.ones(len(de))))\n",
    "\n",
    "        # Append to the container matrix\n",
    "        de_all = np.row_stack((de_all, de))\n",
    "\n",
    "    # Export\n",
    "    np.save(RES_DIR / \"jacobian_energy.npy\", de_all)"
   ]
  },
  {
   "cell_type": "code",
   "execution_count": 10,
   "metadata": {
    "ExecuteTime": {
     "end_time": "2024-05-15T16:03:09.383990Z",
     "start_time": "2024-05-15T16:03:08.846809Z"
    }
   },
   "outputs": [],
   "source": [
    "# Compute the derivative of the energy\n",
    "df_file = Path(RES_DIR / \"jacobian_forces.npy\")\n",
    "\n",
    "# Unlike the calculation for the derivative of the energy, this calculation took me\n",
    "# about 5 minutes. Just loading the data even took about 5s.\n",
    "if df_file.exists():\n",
    "    df_all = np.load(df_file)\n",
    "else:\n",
    "    df_all = np.empty((0, 129))  # There are 128 weights and 1 bias\n",
    "\n",
    "    for batch in tqdm(loader):\n",
    "        # batch = next(iter(loader))\n",
    "\n",
    "        # Get the fingerprints - these lines are from calc.compute\n",
    "        zeta_config = [sample[\"zeta\"] for sample in batch]  # Zeta for each config\n",
    "        zeta_stacked = torch.cat(zeta_config, dim=0).to(device)\n",
    "        zeta_stacked.requires_grad_(True)\n",
    "        natoms_config = [len(zeta) for zeta in zeta_config]  # Number of atoms per config\n",
    "\n",
    "        # Try to retrieve values from the last hidden layer\n",
    "        x_atom = torch.clone(zeta_stacked)\n",
    "        for layer in layers_no_output:\n",
    "            x_atom = layer(x_atom)\n",
    "\n",
    "        x_config = [e.sum(0) for e in torch.split(x_atom, natoms_config)]\n",
    "        # Derivative of the energy with respect to the weights\n",
    "        de = np.array([elem.detach().numpy() for elem in x_config])\n",
    "        # Add the derivative of energy with respect to the bias\n",
    "        de = np.column_stack((de, np.ones(len(de))))\n",
    "\n",
    "        # Derivative of the forces with respect to all weights of the last hidden layer\n",
    "        df = []\n",
    "        for x_atom_node in x_atom.T:\n",
    "            # de/dzeta for the  first node of the last hidden layer\n",
    "            x_atom_node = x_atom_node.reshape((-1, 1))\n",
    "            dedzeta = torch.autograd.grad(\n",
    "                x_atom_node.sum(), zeta_stacked, create_graph=True\n",
    "            )[0]\n",
    "            dedzeta_config = torch.split(dedzeta, natoms_config)\n",
    "\n",
    "            # df/dzeta for the first node of the last hidden layer\n",
    "            forces_config = []\n",
    "            for i, sample in enumerate(batch):\n",
    "                dedz = dedzeta_config[i]\n",
    "\n",
    "                dzetadr_forces = sample[\"dzetadr_forces\"].to(device)\n",
    "                f = calc._compute_forces(dedz, dzetadr_forces)\n",
    "                forces_config.append(f)\n",
    "            forces_config = torch.cat(forces_config)\n",
    "            df.append(forces_config)\n",
    "\n",
    "        # Stack the forces\n",
    "        df = torch.stack(df).T\n",
    "        zeta_stacked.requires_grad_(False)\n",
    "\n",
    "        # Convert to numpy\n",
    "        df = df.detach().numpy()\n",
    "        # Add the derivative with respect to the bias\n",
    "        df = np.column_stack((df, np.zeros(len(df))))\n",
    "\n",
    "        # Append to the container matrix\n",
    "        df_all = np.row_stack((df_all, df))\n",
    "\n",
    "    # Export\n",
    "    np.save(df_file, df_all)"
   ]
  },
  {
   "cell_type": "markdown",
   "metadata": {},
   "source": [
    "## Compute the FIM"
   ]
  },
  {
   "cell_type": "markdown",
   "metadata": {},
   "source": [
    "Derivation of the FIM with using the posterior\n",
    "* Posterior\n",
    "    \\begin{align*}\n",
    "        P(\\theta | y) &= \\frac{L(\\theta | y) \\pi(\\theta)}{P(y)} \\\\\n",
    "        L(\\theta | y) &= \\frac{1}{N_L} \\exp{\\left[ -\\frac{1}{2} \\sum_m \\left( \\frac{y_m - f_m(\\theta)}{\\sigma_m} \\right)^2 \\right]} \\\\\n",
    "        \\pi(\\theta) &= \\frac{1}{N_\\pi} \\exp{\\left[ -\\frac{1}{2} \\sum_n \\left( \\frac{\\theta_n - \\theta_n^*}{s_n} \\right)^2 \\right]}\n",
    "    \\end{align*}\n",
    "\n",
    "* Log-posterior\n",
    "    \\begin{equation*}\n",
    "        \\log [P(\\theta | y)] = \\log [L(\\theta | y)] + \\log [\\pi(\\theta)] - \\log [P(y)]\n",
    "    \\end{equation*}\n",
    "    \n",
    "* Hessian of log-posterior\n",
    "    \\begin{equation*}\n",
    "        \\frac{\\partial^2 \\log [P(\\theta | y)]}{\\partial \\theta_\\mu \\partial \\theta_\\nu} = \\frac{\\partial^2 \\log [L(\\theta | y)]}{\\partial \\theta_\\mu \\partial \\theta_\\nu} + \\frac{\\partial^2 \\log [\\pi(\\theta)]}{\\partial \\theta_\\mu \\partial \\theta_\\nu}\n",
    "    \\end{equation*}\n",
    "    $P(y)$ is independent of $\\theta$.\n",
    "    \n",
    "    * Hessian of log-likelihood\n",
    "        \\begin{align*}\n",
    "            \\log [L(\\theta | y)] &= -\\log(N_L) -\\frac{1}{2} \\sum_m \\left( \\frac{y_m - f_m(\\theta)}{\\sigma_m} \\right)^2 \\\\\n",
    "            \\frac{\\partial \\log [L(\\theta | y)]}{\\partial \\theta_\\mu} &= \\sum_m \\left( \\frac{y_m - f_m(\\theta)}{\\sigma_m^2} \\right) \\left( \\frac{\\partial f_m(\\theta)}{\\partial \\theta_\\mu} \\right) \\\\\n",
    "            \\frac{\\partial^2 \\log [L(\\theta | y)]}{\\partial \\theta_\\mu \\partial \\theta_\\nu} &= \\sum_m \\left[ -\\frac{1}{\\sigma_m^2} \\frac{\\partial f_m(\\theta)}{\\partial \\theta_\\mu} \\frac{\\partial f_m(\\theta)}{\\partial \\theta_\\nu} + \\left( \\frac{y_m - f_m(\\theta)}{\\sigma_m^2} \\right) \\frac{\\partial^2 f_m(\\theta)}{\\partial \\theta_\\mu \\partial \\theta_\\nu} \\right]\n",
    "        \\end{align*}\n",
    "\n",
    "    * Hessian of log-prior\n",
    "        \\begin{align*}\n",
    "            \\log [\\pi(\\theta)] &= \\log(N_\\pi) -\\frac{1}{2} \\sum_n \\left( \\frac{\\theta_n}{s_n} \\right)^2 \\\\\n",
    "            \\frac{\\partial \\log [\\pi(\\theta)]}{\\partial \\theta_\\mu} &= -\\left( \\frac{\\theta_\\mu}{s_\\mu^2} \\right) \\\\\n",
    "            \\frac{\\partial^2 \\log [\\pi(\\theta)]}{\\partial \\theta_\\mu \\partial \\theta_\\nu} &= - \\frac{\\delta_{\\mu \\nu}}{s_\\mu^2}\n",
    "        \\end{align*}\n",
    "        \n",
    "* Negative expectation value of the Hessian - FIM\n",
    "    \\begin{align*}\n",
    "        -\\left< \\frac{\\partial^2 \\log [P(\\theta | y)]}{\\partial \\theta_\\mu \\partial \\theta_\\nu} \\right> &= -\\left< \\frac{\\partial^2 \\log [L(\\theta | y)]}{\\partial \\theta_\\mu \\partial \\theta_\\nu} \\right> - \\left< \\frac{\\partial^2 \\log [\\pi(\\theta)]}{\\partial \\theta_\\mu \\partial \\theta_\\nu} \\right> \\\\\n",
    "        &= \\sum_m \\left[ \\frac{1}{\\sigma_m^2} \\frac{\\partial f_m(\\theta)}{\\partial \\theta_\\mu} \\frac{\\partial f_m(\\theta)}{\\partial \\theta_\\nu} \\right] + \\frac{\\delta_{\\mu \\nu}}{s_\\mu^2}\n",
    "    \\end{align*}"
   ]
  },
  {
   "cell_type": "code",
   "execution_count": 11,
   "metadata": {
    "ExecuteTime": {
     "end_time": "2024-05-15T16:03:32.487178Z",
     "start_time": "2024-05-15T16:03:09.388059Z"
    }
   },
   "outputs": [],
   "source": [
    "# Log-likelihood term\n",
    "fim_energy = de_all.T @ de_all\n",
    "fim_forces = 0.1 * df_all.T @ df_all  # The forces are weighted by sqrt(0.1)\n",
    "fim_like = fim_energy + fim_forces\n",
    "\n",
    "# Log-prior term\n",
    "fan_in = model.layers[-1].in_features\n",
    "fan_out = model.layers[-1].out_features\n",
    "s = np.sqrt(2 / (fan_in + fan_out))  # standard deviation of the Gaussian prior\n",
    "fim_prior = np.diag(np.ones(len(fim_like)) / (s ** 2))\n",
    "\n",
    "# FIM using posterior\n",
    "fim_configs = fim_like + fim_prior"
   ]
  },
  {
   "cell_type": "code",
   "execution_count": 12,
   "metadata": {
    "ExecuteTime": {
     "end_time": "2024-05-15T16:03:33.734389Z",
     "start_time": "2024-05-15T16:03:32.494572Z"
    }
   },
   "outputs": [
    {
     "name": "stdout",
     "output_type": "stream",
     "text": [
      "[6.45000000e+01 6.45000000e+01 6.45000000e+01 6.45000000e+01\n",
      " 6.45000000e+01 6.45000000e+01 4.50843628e+02 8.26800557e+03\n",
      " 8.70466556e+03 1.27100824e+04 1.29484265e+04 1.45430092e+04\n",
      " 1.48994723e+04 1.56185433e+04 1.63960285e+04 1.83422123e+04\n",
      " 1.93087820e+04 2.17225223e+04 2.20629352e+04 2.51155141e+04\n",
      " 2.80446079e+04 2.87213837e+04 2.94536653e+04 3.05861741e+04\n",
      " 3.29886999e+04 3.35280027e+04 3.61945583e+04 3.70323181e+04\n",
      " 3.86876500e+04 4.19188133e+04 4.34299733e+04 4.54175346e+04\n",
      " 4.69225065e+04 4.79929500e+04 4.95110808e+04 5.13313425e+04\n",
      " 5.43875922e+04 5.62419006e+04 5.78543845e+04 6.14087984e+04\n",
      " 6.22520787e+04 6.50429892e+04 6.61843325e+04 6.71281325e+04\n",
      " 7.11308617e+04 7.66072692e+04 7.80563138e+04 8.00098838e+04\n",
      " 8.29908728e+04 8.60298772e+04 8.97313218e+04 9.19571350e+04\n",
      " 9.52130118e+04 9.74677842e+04 9.89901671e+04 1.03692920e+05\n",
      " 1.06637017e+05 1.09210123e+05 1.10969958e+05 1.14739574e+05\n",
      " 1.23010748e+05 1.24908615e+05 1.30880202e+05 1.33263139e+05\n",
      " 1.37181798e+05 1.42385238e+05 1.51602872e+05 1.56668127e+05\n",
      " 1.62376663e+05 1.68821460e+05 1.74905144e+05 1.88672741e+05\n",
      " 1.90272917e+05 1.97943808e+05 2.02743394e+05 2.20245522e+05\n",
      " 2.31632600e+05 2.35753384e+05 2.46833540e+05 2.57535182e+05\n",
      " 2.66999766e+05 2.89641273e+05 3.01165651e+05 3.26417873e+05\n",
      " 3.47361180e+05 3.60524920e+05 3.64749353e+05 4.04535525e+05\n",
      " 4.14975855e+05 4.45711568e+05 4.84486668e+05 5.00848507e+05\n",
      " 5.33796017e+05 5.54819532e+05 5.96125886e+05 6.37366207e+05\n",
      " 6.76064910e+05 7.36604546e+05 8.14376776e+05 8.28676222e+05\n",
      " 9.85186865e+05 1.02272030e+06 1.05603311e+06 1.11772557e+06\n",
      " 1.30351350e+06 1.34889946e+06 1.49658876e+06 1.58498971e+06\n",
      " 1.67320683e+06 1.88341164e+06 2.03925579e+06 2.19345557e+06\n",
      " 2.37943583e+06 2.77168171e+06 2.82074873e+06 3.22132116e+06\n",
      " 4.03509416e+06 4.19781993e+06 5.47309955e+06 6.82074797e+06\n",
      " 7.33238278e+06 8.00872237e+06 1.47036593e+07 1.92102374e+07\n",
      " 3.29127972e+07 3.88092476e+07 1.41584083e+08 2.06906355e+08\n",
      " 8.65410695e+08]\n"
     ]
    },
    {
     "data": {
      "image/png": "[encoded data removed]",
      "text/plain": [
       "<Figure size 640x480 with 1 Axes>"
      ]
     },
     "metadata": {},
     "output_type": "display_data"
    }
   ],
   "source": [
    "# Eigenvalues\n",
    "eigvals = scipy.linalg.eigvalsh(fim_configs)\n",
    "print(eigvals)\n",
    "\n",
    "plt.figure()\n",
    "for lam in eigvals:\n",
    "    plt.axhline(lam)\n",
    "plt.yscale(\"log\")\n",
    "plt.show()"
   ]
  },
  {
   "cell_type": "markdown",
   "metadata": {},
   "source": [
    "# Model Ensemble"
   ]
  },
  {
   "cell_type": "code",
   "execution_count": 13,
   "metadata": {
    "ExecuteTime": {
     "end_time": "2024-05-15T16:03:33.801811Z",
     "start_time": "2024-05-15T16:03:33.738321Z"
    }
   },
   "outputs": [],
   "source": [
    "# Covariance\n",
    "cov = scipy.linalg.pinvh(fim_configs)\n",
    "np.save(RES_DIR / \"covariance_parameters.npy\", cov)\n",
    "# scipy.linalg.eigvalsh(cov)"
   ]
  },
  {
   "cell_type": "code",
   "execution_count": 14,
   "metadata": {
    "ExecuteTime": {
     "end_time": "2024-05-15T16:03:33.814621Z",
     "start_time": "2024-05-15T16:03:33.805469Z"
    }
   },
   "outputs": [],
   "source": [
    "# Parameter samples\n",
    "nparams = 129\n",
    "p0 = bestfit_params[-nparams:]\n",
    "\n",
    "param_samples_file = RES_DIR / \"samples_bayes_parameters.npy\"\n",
    "if param_samples_file.exists():\n",
    "    param_samples = np.load(param_samples_file)\n",
    "else:\n",
    "    param_samples = np.random.multivariate_normal(p0, cov, 100)\n",
    "    np.save(param_samples_file, param_samples)"
   ]
  },
  {
   "cell_type": "code",
   "execution_count": 15,
   "metadata": {
    "ExecuteTime": {
     "end_time": "2024-05-15T16:03:33.824301Z",
     "start_time": "2024-05-15T16:03:33.818411Z"
    }
   },
   "outputs": [],
   "source": [
    "# def install_uninstall_model(modelname, mode=\"install\"):\n",
    "#     \"\"\"This function will install or remove KIM model.\"\"\"\n",
    "#     kim_command = \"kim-api-collections-management\"\n",
    "#     if mode == \"install\":\n",
    "#         flags = [\"install\", \"user\"]\n",
    "#     elif mode == \"uninstall\":\n",
    "#         flags = [\"remove\", \"--force\"]\n",
    "#         modelname = Path(modelname).name\n",
    "#     command = np.concatenate(([kim_command], flags, [modelname]))\n",
    "#     subprocess.run(command)"
   ]
  },
  {
   "cell_type": "code",
   "execution_count": 16,
   "metadata": {
    "ExecuteTime": {
     "end_time": "2024-05-15T16:03:33.834276Z",
     "start_time": "2024-05-15T16:03:33.827744Z"
    }
   },
   "outputs": [],
   "source": [
    "# # Write and install model ensembles\n",
    "# for ii, params in tqdm(enumerate(param_samples), total=len(param_samples)):\n",
    "#     # Write the model\n",
    "#     complete_params = bestfit_params.copy()\n",
    "#     complete_params[-nparams:] = params\n",
    "#     calc.update_model_params(complete_params)  # Update parameters\n",
    "#     # Install model\n",
    "#     modelpath = RES_DIR / f\"{ii:03d}\" / f\"DUNN_C_fimbayes_{ii:03d}\"\n",
    "#     model.write_kim_model(modelpath)  # Write"
   ]
  },
  {
   "cell_type": "code",
   "execution_count": 17,
   "metadata": {
    "ExecuteTime": {
     "end_time": "2024-05-15T16:03:33.843768Z",
     "start_time": "2024-05-15T16:03:33.838404Z"
    }
   },
   "outputs": [],
   "source": [
    "# def install_uninstall_wrapper(ii):\n",
    "#     modelname = RES_DIR / f\"{ii:03d}\" / f\"DUNN_C_fimbayes_{ii:03d}\"\n",
    "#     install_uninstall_model(modelname, \"install\")\n",
    "\n",
    "\n",
    "# with Pool(25) as p:\n",
    "#     p.map(install_uninstall_wrapper, range(100))"
   ]
  },
  {
   "cell_type": "code",
   "execution_count": null,
   "metadata": {},
   "outputs": [],
   "source": []
  }
 ],
 "metadata": {
  "kernelspec": {
   "display_name": "Python 3 (ipykernel)",
   "language": "python",
   "name": "python3"
  },
  "language_info": {
   "codemirror_mode": {
    "name": "ipython",
    "version": 3
   },
   "file_extension": ".py",
   "mimetype": "text/x-python",
   "name": "python",
   "nbconvert_exporter": "python",
   "pygments_lexer": "ipython3",
   "version": "3.7.4"
  },
  "toc": {
   "base_numbering": 1,
   "nav_menu": {},
   "number_sections": true,
   "sideBar": true,
   "skip_h1_title": false,
   "title_cell": "Table of Contents",
   "title_sidebar": "Contents",
   "toc_cell": false,
   "toc_position": {},
   "toc_section_display": true,
   "toc_window_display": false
  },
  "varInspector": {
   "cols": {
    "lenName": 16,
    "lenType": 16,
    "lenVar": 40
   },
   "kernels_config": {
    "python": {
     "delete_cmd_postfix": "",
     "delete_cmd_prefix": "del ",
     "library": "var_list.py",
     "varRefreshCmd": "print(var_dic_list())"
    },
    "r": {
     "delete_cmd_postfix": ") ",
     "delete_cmd_prefix": "rm(",
     "library": "var_list.r",
     "varRefreshCmd": "cat(var_dic_list()) "
    }
   },
   "types_to_exclude": [
    "module",
    "function",
    "builtin_function_or_method",
    "instance",
    "_Feature"
   ],
   "window_display": false
  }
 },
 "nbformat": 4,
 "nbformat_minor": 2
}
