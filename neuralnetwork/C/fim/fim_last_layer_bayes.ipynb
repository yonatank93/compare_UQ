{
 "cells": [
  {
   "cell_type": "markdown",
   "metadata": {},
   "source": [
    "The purpose of this notebook is to compute the FIM of an NN potential for C with respect to the  weights and biases corresponding to the mapping from the last hidden layer to the output layer.\n",
    "It is similar to what's in `fim_last_layer.ipynb`, but in this notebook we add the prior term when computing the FIM.\n",
    "Since we add a prior, then this method is more Bayesian."
   ]
  },
  {
   "cell_type": "code",
   "execution_count": 1,
   "metadata": {
    "ExecuteTime": {
     "end_time": "2024-01-18T19:36:23.435614Z",
     "start_time": "2024-01-18T19:36:20.875592Z"
    }
   },
   "outputs": [],
   "source": [
    "from pathlib import Path\n",
    "import json\n",
    "import sys\n",
    "from tqdm import tqdm\n",
    "import subprocess\n",
    "\n",
    "\n",
    "import numpy as np\n",
    "import scipy\n",
    "import matplotlib.pyplot as plt\n",
    "import numdifftools as nd\n",
    "import torch\n",
    "\n",
    "from kliff import nn\n",
    "from kliff.calculators import CalculatorTorch\n",
    "from kliff.dataset import Dataset\n",
    "from kliff.dataset.weight import Weight\n",
    "from kliff.descriptors import SymmetryFunction\n",
    "from kliff.models import NeuralNetwork\n",
    "\n",
    "# Random seed\n",
    "seed = 1\n",
    "np.random.seed(seed)\n",
    "torch.manual_seed(seed)\n",
    "# torch.set_default_tensor_type(torch.DoubleTensor)\n",
    "\n",
    "%matplotlib inline\n",
    "plt.style.use(\"default\")"
   ]
  },
  {
   "cell_type": "markdown",
   "metadata": {},
   "source": [
    "# Setup"
   ]
  },
  {
   "cell_type": "markdown",
   "metadata": {},
   "source": [
    "## Variables"
   ]
  },
  {
   "cell_type": "code",
   "execution_count": 2,
   "metadata": {
    "ExecuteTime": {
     "end_time": "2024-01-18T19:36:23.456013Z",
     "start_time": "2024-01-18T19:36:23.442906Z"
    }
   },
   "outputs": [],
   "source": [
    "# Read setting file\n",
    "WORK_DIR = Path().absolute()\n",
    "ROOT_DIR = WORK_DIR.parent\n",
    "DATA_DIR = ROOT_DIR / \"data\"\n",
    "with open(ROOT_DIR / \"settings.json\", \"r\") as f:\n",
    "    settings = json.load(f)\n",
    "partition = settings[\"partition\"]\n",
    "PART_DIR = DATA_DIR / f\"{partition}_partition_data\"\n",
    "FP_DIR = PART_DIR / \"fingerprints\"\n",
    "RES_DIR = WORK_DIR / \"results\" / f\"{partition}_partition\"\n",
    "if not RES_DIR.exists():\n",
    "    RES_DIR.mkdir(parents=True)"
   ]
  },
  {
   "cell_type": "markdown",
   "metadata": {},
   "source": [
    "## Model"
   ]
  },
  {
   "cell_type": "code",
   "execution_count": 3,
   "metadata": {
    "ExecuteTime": {
     "end_time": "2024-01-18T19:36:23.467971Z",
     "start_time": "2024-01-18T19:36:23.459667Z"
    }
   },
   "outputs": [],
   "source": [
    "# Architecture\n",
    "Nlayers = 4  # Number of layers, excluding input layer, including outpt layer\n",
    "Nnodes = 128  # Number of nodes per hidden layer\n",
    "dropout_ratio = 0.0  # Don't use dropout\n",
    "\n",
    "# Optimizer settings\n",
    "learning_rate = 1e-3\n",
    "batch_size = 100\n",
    "nepochs_total = 40_000  # How many epochs to run in total\n",
    "nepochs_initial = 2000  # Run this many epochs first\n",
    "nepochs_save_period = 10  # Then run and save every this many epochs\n",
    "epoch_change_lr = 5000  # This is the epoch when we change the learning rate"
   ]
  },
  {
   "cell_type": "code",
   "execution_count": 4,
   "metadata": {
    "ExecuteTime": {
     "end_time": "2024-01-18T19:36:23.532720Z",
     "start_time": "2024-01-18T19:36:23.474305Z"
    }
   },
   "outputs": [
    {
     "name": "stderr",
     "output_type": "stream",
     "text": [
      "2024-01-18 12:36:23.526 | INFO     | kliff.models.model_torch:load:117 - Model loaded from `/data/yonatan/myproject/scripts/compare_UQ/neuralnetwork/C/data/mingjian_partition_data/model_best_train.pkl`\n"
     ]
    }
   ],
   "source": [
    "# Descriptor\n",
    "descriptor = SymmetryFunction(\n",
    "    cut_name=\"cos\", cut_dists={\"C-C\": 5.0}, hyperparams=\"set51\", normalize=True\n",
    ")\n",
    "model = NeuralNetwork(descriptor)\n",
    "\n",
    "# Layers\n",
    "hidden_layer_mappings = []\n",
    "for _ in range(Nlayers - 2):\n",
    "    hidden_layer_mappings.append(nn.Dropout(dropout_ratio))\n",
    "    hidden_layer_mappings.append(nn.Linear(Nnodes, Nnodes))\n",
    "    hidden_layer_mappings.append(nn.Tanh())\n",
    "\n",
    "model.add_layers(\n",
    "    # input layer\n",
    "    nn.Linear(descriptor.get_size(), Nnodes),  # Mapping from input layer to the first\n",
    "    nn.Tanh(),  # hidden layer\n",
    "    # hidden layer(s)\n",
    "    *hidden_layer_mappings,  # Mappings between hidden layers in the middle\n",
    "    # hidden layer(s)\n",
    "    nn.Dropout(dropout_ratio),  # Mapping from the last hidden layer to the output layer\n",
    "    nn.Linear(Nnodes, 1),\n",
    "    # output layer\n",
    ")\n",
    "\n",
    "# Load best model\n",
    "model.load(PART_DIR / \"model_best_train.pkl\")"
   ]
  },
  {
   "cell_type": "markdown",
   "metadata": {},
   "source": [
    "## Training set and calculator"
   ]
  },
  {
   "cell_type": "code",
   "execution_count": 5,
   "metadata": {
    "ExecuteTime": {
     "end_time": "2024-01-18T19:36:38.680843Z",
     "start_time": "2024-01-18T19:36:23.535944Z"
    }
   },
   "outputs": [
    {
     "name": "stderr",
     "output_type": "stream",
     "text": [
      "2024-01-18 12:36:27.761 | INFO     | kliff.dataset.dataset:_read:398 - 4344 configurations read from /data/yonatan/myproject/scripts/compare_UQ/neuralnetwork/C/data/mingjian_partition_data/carbon_training_set\n",
      "2024-01-18 12:36:27.776 | INFO     | kliff.calculators.calculator_torch:_get_device:592 - Training on cpu\n",
      "2024-01-18 12:36:27.780 | INFO     | kliff.calculators.calculator_torch:create:93 - Reuse fingerprints `/data/yonatan/myproject/scripts/compare_UQ/neuralnetwork/C/data/mingjian_partition_data/fingerprints/fingerprints_train.pkl`\n",
      "2024-01-18 12:36:27.785 | INFO     | kliff.calculators.calculator_torch:create:111 - Reuse fingerprints mean and stdev `/data/yonatan/myproject/scripts/compare_UQ/neuralnetwork/C/data/mingjian_partition_data/fingerprints/fingerprints_train_mean_and_stdev.pkl`\n"
     ]
    }
   ],
   "source": [
    "# training set\n",
    "dataset_path = PART_DIR / \"carbon_training_set\"\n",
    "weight = Weight(energy_weight=1.0, forces_weight=np.sqrt(0.1))\n",
    "tset = Dataset(dataset_path, weight)\n",
    "configs = tset.get_configs()\n",
    "nconfigs = len(configs)\n",
    "\n",
    "# calculator\n",
    "gpu = False\n",
    "calc = CalculatorTorch(model, gpu=gpu)\n",
    "_ = calc.create(\n",
    "    configs,\n",
    "    nprocs=20,\n",
    "    reuse=True,\n",
    "    fingerprints_filename=FP_DIR / f\"fingerprints_train.pkl\",\n",
    "    fingerprints_mean_stdev_filename=FP_DIR / f\"fingerprints_train_mean_and_stdev.pkl\",\n",
    ")\n",
    "bestfit_params = calc.get_opt_params()"
   ]
  },
  {
   "cell_type": "markdown",
   "metadata": {},
   "source": [
    "# Real calculation"
   ]
  },
  {
   "cell_type": "code",
   "execution_count": 6,
   "metadata": {
    "ExecuteTime": {
     "end_time": "2024-01-18T19:36:38.693466Z",
     "start_time": "2024-01-18T19:36:38.684844Z"
    }
   },
   "outputs": [],
   "source": [
    "device = model.device\n",
    "loader = calc.get_compute_arguments(batch_size)\n",
    "layers_no_output = model.layers[:-1]"
   ]
  },
  {
   "cell_type": "markdown",
   "metadata": {},
   "source": [
    "## Compute the Jacobian"
   ]
  },
  {
   "cell_type": "code",
   "execution_count": 7,
   "metadata": {
    "ExecuteTime": {
     "end_time": "2024-01-18T19:36:38.755621Z",
     "start_time": "2024-01-18T19:36:38.696767Z"
    }
   },
   "outputs": [],
   "source": [
    "# Compute the derivative of the energy\n",
    "de_file = Path(RES_DIR / \"jacobian_energy.npy\")\n",
    "\n",
    "if de_file.exists():\n",
    "    de_all = np.load(de_file)\n",
    "else:\n",
    "    de_all = np.empty((0, 129))  # There are 128 weights and 1 bias\n",
    "\n",
    "    for batch in tqdm(loader):\n",
    "        # batch = next(iter(loader))\n",
    "\n",
    "        # Get the fingerprints - these lines are from calc.compute\n",
    "        zeta_config = [sample[\"zeta\"] for sample in batch]  # Zeta for each config\n",
    "        zeta_stacked = torch.cat(zeta_config, dim=0).to(device)\n",
    "        zeta_stacked.requires_grad_(True)\n",
    "        natoms_config = [len(zeta) for zeta in zeta_config]  # Number of atoms per config\n",
    "\n",
    "        # Try to retrieve values from the last hidden layer\n",
    "        x_atom = torch.clone(zeta_stacked)\n",
    "        for layer in layers_no_output:\n",
    "            x_atom = layer(x_atom)\n",
    "\n",
    "        x_config = [e.sum(0) for e in torch.split(x_atom, natoms_config)]\n",
    "        # Derivative of the energy with respect to the weights\n",
    "        de = np.array([elem.detach().numpy() for elem in x_config])\n",
    "        # Add the derivative of energy with respect to the bias\n",
    "        de = np.column_stack((de, np.ones(len(de))))\n",
    "\n",
    "        # Append to the container matrix\n",
    "        de_all = np.row_stack((de_all, de))\n",
    "\n",
    "    # Export\n",
    "    np.save(RES_DIR / \"jacobian_energy.npy\", de_all)"
   ]
  },
  {
   "cell_type": "code",
   "execution_count": 8,
   "metadata": {
    "ExecuteTime": {
     "end_time": "2024-01-18T19:36:53.620756Z",
     "start_time": "2024-01-18T19:36:38.760055Z"
    }
   },
   "outputs": [],
   "source": [
    "# Compute the derivative of the energy\n",
    "df_file = Path(RES_DIR / \"jacobian_forces.npy\")\n",
    "\n",
    "# Unlike the calculation for the derivative of the energy, this calculation took me\n",
    "# about 5 minutes. Just loading the data even took about 5s.\n",
    "if df_file.exists():\n",
    "    df_all = np.load(df_file)\n",
    "else:\n",
    "    df_all = np.empty((0, 129))  # There are 128 weights and 1 bias\n",
    "\n",
    "    for batch in tqdm(loader):\n",
    "        batch = next(iter(loader))\n",
    "\n",
    "        # Get the fingerprints - these lines are from calc.compute\n",
    "        zeta_config = [sample[\"zeta\"] for sample in batch]  # Zeta for each config\n",
    "        zeta_stacked = torch.cat(zeta_config, dim=0).to(device)\n",
    "        zeta_stacked.requires_grad_(True)\n",
    "        natoms_config = [len(zeta) for zeta in zeta_config]  # Number of atoms per config\n",
    "\n",
    "        # Try to retrieve values from the last hidden layer\n",
    "        x_atom = torch.clone(zeta_stacked)\n",
    "        for layer in layers_no_output:\n",
    "            x_atom = layer(x_atom)\n",
    "\n",
    "        x_config = [e.sum(0) for e in torch.split(x_atom, natoms_config)]\n",
    "        # Derivative of the energy with respect to the weights\n",
    "        de = np.array([elem.detach().numpy() for elem in x_config])\n",
    "        # Add the derivative of energy with respect to the bias\n",
    "        de = np.column_stack((de, np.ones(len(de))))\n",
    "\n",
    "        # Derivative of the forces with respect to all weights of the last hidden layer\n",
    "        df = []\n",
    "        for x_atom_node in x_atom.T:\n",
    "            # de/dzeta for the  first node of the last hidden layer\n",
    "            x_atom_node = x_atom_node.reshape((-1, 1))\n",
    "            dedzeta = torch.autograd.grad(\n",
    "                x_atom_node.sum(), zeta_stacked, create_graph=True\n",
    "            )[0]\n",
    "            dedzeta_config = torch.split(dedzeta, natoms_config)\n",
    "\n",
    "            # df/dzeta for the first node of the last hidden layer\n",
    "            forces_config = []\n",
    "            for i, sample in enumerate(batch):\n",
    "                dedz = dedzeta_config[i]\n",
    "\n",
    "                dzetadr_forces = sample[\"dzetadr_forces\"].to(device)\n",
    "                f = calc._compute_forces(dedz, dzetadr_forces)\n",
    "                forces_config.append(f)\n",
    "            forces_config = torch.cat(forces_config)\n",
    "            df.append(forces_config)\n",
    "\n",
    "        # Stack the forces\n",
    "        df = torch.stack(df).T\n",
    "        zeta_stacked.requires_grad_(False)\n",
    "\n",
    "        # Convert to numpy\n",
    "        df = df.detach().numpy()\n",
    "        # Add the derivative with respect to the bias\n",
    "        df = np.column_stack((df, np.zeros(len(df))))\n",
    "\n",
    "        # Append to the container matrix\n",
    "        df_all = np.row_stack((df_all, df))\n",
    "\n",
    "    # Export\n",
    "    np.save(df_file, df_all)"
   ]
  },
  {
   "cell_type": "markdown",
   "metadata": {},
   "source": [
    "## Compute the FIM"
   ]
  },
  {
   "cell_type": "markdown",
   "metadata": {},
   "source": [
    "Derivation of the FIM with using the posterior\n",
    "* Posterior\n",
    "    \\begin{align*}\n",
    "        P(\\theta | y) &= \\frac{L(\\theta | y) \\pi(\\theta)}{P(y)} \\\\\n",
    "        L(\\theta | y) &= \\frac{1}{N_L} \\exp{\\left[ -\\frac{1}{2} \\sum_m \\left( \\frac{y_m - f_m(\\theta)}{\\sigma_m} \\right)^2 \\right]} \\\\\n",
    "        \\pi(\\theta) &= \\frac{1}{N_\\pi} \\exp{\\left[ -\\frac{1}{2} \\sum_n \\left( \\frac{\\theta_n - \\theta_n^*}{s_n} \\right)^2 \\right]}\n",
    "    \\end{align*}\n",
    "\n",
    "* Log-posterior\n",
    "    \\begin{equation*}\n",
    "        \\log [P(\\theta | y)] = \\log [L(\\theta | y)] + \\log [\\pi(\\theta)] - \\log [P(y)]\n",
    "    \\end{equation*}\n",
    "    \n",
    "* Hessian of log-posterior\n",
    "    \\begin{equation*}\n",
    "        \\frac{\\partial^2 \\log [P(\\theta | y)]}{\\partial \\theta_\\mu \\partial \\theta_\\nu} = \\frac{\\partial^2 \\log [L(\\theta | y)]}{\\partial \\theta_\\mu \\partial \\theta_\\nu} + \\frac{\\partial^2 \\log [\\pi(\\theta)]}{\\partial \\theta_\\mu \\partial \\theta_\\nu}\n",
    "    \\end{equation*}\n",
    "    $P(y)$ is independent of $\\theta$.\n",
    "    \n",
    "    * Hessian of log-likelihood\n",
    "        \\begin{align*}\n",
    "            \\log [L(\\theta | y)] &= -\\log(N_L) -\\frac{1}{2} \\sum_m \\left( \\frac{y_m - f_m(\\theta)}{\\sigma_m} \\right)^2 \\\\\n",
    "            \\frac{\\partial \\log [L(\\theta | y)]}{\\partial \\theta_\\mu} &= \\sum_m \\left( \\frac{y_m - f_m(\\theta)}{\\sigma_m^2} \\right) \\left( \\frac{\\partial f_m(\\theta)}{\\partial \\theta_\\mu} \\right) \\\\\n",
    "            \\frac{\\partial^2 \\log [L(\\theta | y)]}{\\partial \\theta_\\mu \\partial \\theta_\\nu} &= \\sum_m \\left[ -\\frac{1}{\\sigma_m^2} \\frac{\\partial f_m(\\theta)}{\\partial \\theta_\\mu} \\frac{\\partial f_m(\\theta)}{\\partial \\theta_\\nu} + \\left( \\frac{y_m - f_m(\\theta)}{\\sigma_m^2} \\right) \\frac{\\partial^2 f_m(\\theta)}{\\partial \\theta_\\mu \\partial \\theta_\\nu} \\right]\n",
    "        \\end{align*}\n",
    "\n",
    "    * Hessian of log-prior\n",
    "        \\begin{align*}\n",
    "            \\log [\\pi(\\theta)] &= \\log(N_\\pi) -\\frac{1}{2} \\sum_n \\left( \\frac{\\theta_n - \\theta_n^*}{s_n} \\right)^2 \\\\\n",
    "            \\frac{\\partial \\log [\\pi(\\theta)]}{\\partial \\theta_\\mu} &= -\\left( \\frac{\\theta_\\mu - \\theta_\\mu^*}{s_\\mu^2} \\right) \\\\\n",
    "            \\frac{\\partial^2 \\log [\\pi(\\theta)]}{\\partial \\theta_\\mu \\partial \\theta_\\nu} &= - \\frac{\\delta_{\\mu \\nu}}{s_\\mu^2}\n",
    "        \\end{align*}\n",
    "        \n",
    "* Negative expectation value of the Hessian - FIM\n",
    "    \\begin{align*}\n",
    "        -\\left< \\frac{\\partial^2 \\log [P(\\theta | y)]}{\\partial \\theta_\\mu \\partial \\theta_\\nu} \\right> &= -\\left< \\frac{\\partial^2 \\log [L(\\theta | y)]}{\\partial \\theta_\\mu \\partial \\theta_\\nu} \\right> - \\left< \\frac{\\partial^2 \\log [\\pi(\\theta)]}{\\partial \\theta_\\mu \\partial \\theta_\\nu} \\right> \\\\\n",
    "        &= \\sum_m \\left[ \\frac{1}{\\sigma_m^2} \\frac{\\partial f_m(\\theta)}{\\partial \\theta_\\mu} \\frac{\\partial f_m(\\theta)}{\\partial \\theta_\\nu} \\right] + \\frac{\\delta_{\\mu \\nu}}{s_\\mu^2}\n",
    "    \\end{align*}"
   ]
  },
  {
   "cell_type": "code",
   "execution_count": 9,
   "metadata": {
    "ExecuteTime": {
     "end_time": "2024-01-18T19:37:26.548315Z",
     "start_time": "2024-01-18T19:36:53.626140Z"
    }
   },
   "outputs": [],
   "source": [
    "# Log-likelihood term\n",
    "fim_energy = de_all.T @ de_all\n",
    "fim_forces = 0.1 * df_all.T @ df_all  # The forces are weighted by sqrt(0.1)\n",
    "fim_like = fim_energy + fim_forces\n",
    "\n",
    "# Log-prior term\n",
    "s = 1  # standard deviation of the Gaussian prior\n",
    "fim_prior = np.diag(np.ones(len(fim_like)) / (s ** 2))\n",
    "\n",
    "# FIM using posterior\n",
    "fim_configs = fim_like + fim_prior"
   ]
  },
  {
   "cell_type": "code",
   "execution_count": 10,
   "metadata": {
    "ExecuteTime": {
     "end_time": "2024-01-18T19:37:27.414340Z",
     "start_time": "2024-01-18T19:37:26.557189Z"
    }
   },
   "outputs": [
    {
     "name": "stdout",
     "output_type": "stream",
     "text": [
      "[9.99999981e-01 9.99999995e-01 9.99999998e-01 1.00000000e+00\n",
      " 1.00000000e+00 1.00000012e+00 4.85373776e+00 8.61020220e+00\n",
      " 9.11513114e+00 1.17064106e+01 1.50372749e+01 1.64169043e+01\n",
      " 2.24739694e+01 2.41234084e+01 2.72815896e+01 3.69572118e+01\n",
      " 4.61222963e+01 5.28287799e+01 6.12133778e+01 6.66312197e+01\n",
      " 6.89122787e+01 8.04440767e+01 8.80723771e+01 1.01258102e+02\n",
      " 1.15108192e+02 1.20047824e+02 1.29734586e+02 1.43854023e+02\n",
      " 1.57662597e+02 1.74334396e+02 1.96404429e+02 2.04730940e+02\n",
      " 2.43059095e+02 2.61991274e+02 3.10639266e+02 3.30539765e+02\n",
      " 3.36007347e+02 3.91937227e+02 4.40372771e+02 4.59099531e+02\n",
      " 5.31299914e+02 6.01394477e+02 6.71382522e+02 7.46921906e+02\n",
      " 8.72202489e+02 9.53146109e+02 1.03068264e+03 1.06497272e+03\n",
      " 1.17512767e+03 1.29758712e+03 1.52555932e+03 1.63492953e+03\n",
      " 1.75394466e+03 1.87961240e+03 2.07821571e+03 2.43821798e+03\n",
      " 2.53258494e+03 2.69987419e+03 2.80112560e+03 2.82445930e+03\n",
      " 3.00376434e+03 3.43135010e+03 3.58395336e+03 3.86134715e+03\n",
      " 4.46601338e+03 4.79368789e+03 4.92080600e+03 5.16366354e+03\n",
      " 5.36864377e+03 6.07617714e+03 6.31169010e+03 6.79693541e+03\n",
      " 7.37857047e+03 7.67058827e+03 8.48244057e+03 8.69925188e+03\n",
      " 9.25720381e+03 9.83132603e+03 1.08470279e+04 1.14241491e+04\n",
      " 1.15956226e+04 1.37940198e+04 1.56766968e+04 1.58885732e+04\n",
      " 1.79236790e+04 2.30235646e+04 2.33023874e+04 2.49692155e+04\n",
      " 2.94250004e+04 3.15829150e+04 3.37329328e+04 3.59643651e+04\n",
      " 3.96741256e+04 4.15588622e+04 4.75522315e+04 5.18654327e+04\n",
      " 5.45006343e+04 6.17198617e+04 6.72131835e+04 8.21326626e+04\n",
      " 9.23796537e+04 9.71689363e+04 1.06105787e+05 1.21706817e+05\n",
      " 1.27086717e+05 1.68793781e+05 1.86241845e+05 2.24333024e+05\n",
      " 2.39702017e+05 2.98437739e+05 3.32563162e+05 4.40282426e+05\n",
      " 5.56743583e+05 5.70839214e+05 7.41382307e+05 1.08885629e+06\n",
      " 1.16122670e+06 1.36227181e+06 1.64406430e+06 2.39326294e+06\n",
      " 2.69263485e+06 3.69444756e+06 6.37723591e+06 8.91113766e+06\n",
      " 1.12416467e+07 2.96438056e+07 1.47215558e+08 3.03883150e+08\n",
      " 8.26078327e+08]\n"
     ]
    },
    {
     "data": {
      "image/png": "[encoded data removed]",
      "text/plain": [
       "<Figure size 640x480 with 1 Axes>"
      ]
     },
     "metadata": {},
     "output_type": "display_data"
    }
   ],
   "source": [
    "# Eigenvalues\n",
    "eigvals = scipy.linalg.eigvalsh(fim_configs)\n",
    "print(eigvals)\n",
    "\n",
    "plt.figure()\n",
    "for lam in eigvals:\n",
    "    plt.axhline(lam)\n",
    "plt.yscale(\"log\")\n",
    "plt.show()"
   ]
  },
  {
   "cell_type": "code",
   "execution_count": 11,
   "metadata": {
    "ExecuteTime": {
     "end_time": "2024-01-18T19:37:27.495211Z",
     "start_time": "2024-01-18T19:37:27.419635Z"
    }
   },
   "outputs": [
    {
     "data": {
      "text/plain": [
       "array([1.21053894e-09, 3.29073857e-09, 6.79276016e-09, 3.37338604e-08,\n",
       "       8.89549394e-08, 1.12219117e-07, 1.56807748e-07, 2.70676464e-07,\n",
       "       3.71383443e-07, 4.17839587e-07, 6.08248716e-07, 7.34067893e-07,\n",
       "       8.61158294e-07, 9.18394845e-07, 1.34883176e-06, 1.75180677e-06,\n",
       "       1.79615900e-06, 2.27126939e-06, 3.00694760e-06, 3.35078265e-06,\n",
       "       4.17184642e-06, 4.45765845e-06, 5.36936261e-06, 5.92438889e-06,\n",
       "       7.86864293e-06, 8.21646662e-06, 9.42455662e-06, 1.02913548e-05,\n",
       "       1.08248944e-05, 1.21754241e-05, 1.48780336e-05, 1.62022398e-05,\n",
       "       1.83484103e-05, 1.92806644e-05, 2.10295073e-05, 2.40622565e-05,\n",
       "       2.52053444e-05, 2.78053011e-05, 2.96446207e-05, 3.16626885e-05,\n",
       "       3.39847064e-05, 4.00493159e-05, 4.29140579e-05, 4.34337609e-05,\n",
       "       5.57921172e-05, 6.29383133e-05, 6.37889481e-05, 7.24951840e-05,\n",
       "       8.62394399e-05, 8.75338716e-05, 9.21911525e-05, 1.01715679e-04,\n",
       "       1.08023980e-04, 1.14952414e-04, 1.17890599e-04, 1.30368098e-04,\n",
       "       1.35527607e-04, 1.47125129e-04, 1.58436169e-04, 1.64577164e-04,\n",
       "       1.86266782e-04, 1.93660953e-04, 2.03218741e-04, 2.08607657e-04,\n",
       "       2.23913346e-04, 2.58976974e-04, 2.79021488e-04, 2.91430478e-04,\n",
       "       3.32915597e-04, 3.54050065e-04, 3.56999344e-04, 3.70387629e-04,\n",
       "       3.94853489e-04, 4.10135603e-04, 4.81182003e-04, 5.32024581e-04,\n",
       "       5.70143418e-04, 6.11647156e-04, 6.55497288e-04, 7.70661162e-04,\n",
       "       8.50971371e-04, 9.38991191e-04, 9.70230760e-04, 1.04915709e-03,\n",
       "       1.14652275e-03, 1.33882805e-03, 1.48946386e-03, 1.66280210e-03,\n",
       "       1.88217610e-03, 2.17817691e-03, 2.27080343e-03, 2.55142898e-03,\n",
       "       2.97612540e-03, 3.02535460e-03, 3.21916805e-03, 3.81692102e-03,\n",
       "       4.11422580e-03, 4.88445958e-03, 5.09153487e-03, 5.73610271e-03,\n",
       "       6.34265845e-03, 6.95149138e-03, 7.70804478e-03, 8.33001354e-03,\n",
       "       8.68747901e-03, 9.87575295e-03, 1.13542978e-02, 1.24309960e-02,\n",
       "       1.45112021e-02, 1.50079798e-02, 1.63362983e-02, 1.89290762e-02,\n",
       "       2.16814877e-02, 2.70583183e-02, 3.66547557e-02, 4.14535121e-02,\n",
       "       4.44959224e-02, 6.09128239e-02, 6.65014112e-02, 8.54232806e-02,\n",
       "       1.09707692e-01, 1.16141291e-01, 2.06026788e-01, 9.99999892e-01,\n",
       "       9.99999999e-01, 1.00000000e+00, 1.00000000e+00, 1.00000001e+00,\n",
       "       1.00000001e+00])"
      ]
     },
     "execution_count": 11,
     "metadata": {},
     "output_type": "execute_result"
    }
   ],
   "source": [
    "cov = scipy.linalg.pinvh(fim_configs)\n",
    "np.save(RES_DIR / \"covariance_parameters.npy\", cov)\n",
    "scipy.linalg.eigvalsh(cov)"
   ]
  },
  {
   "cell_type": "markdown",
   "metadata": {},
   "source": [
    "# Model Ensembles"
   ]
  },
  {
   "cell_type": "code",
   "execution_count": 12,
   "metadata": {
    "ExecuteTime": {
     "end_time": "2024-01-18T19:37:27.521246Z",
     "start_time": "2024-01-18T19:37:27.498517Z"
    }
   },
   "outputs": [],
   "source": [
    "# Parameter samples\n",
    "nparams = 129\n",
    "p0 = bestfit_params[-nparams:]\n",
    "\n",
    "param_samples_file = RES_DIR / \"samples_bayes_parameters.npy\"\n",
    "if param_samples_file.exists():\n",
    "    param_samples = np.load(param_samples_file)\n",
    "else:\n",
    "    param_samples = np.random.multivariate_normal(p0, cov, 100)\n",
    "    np.save(param_samples_file, param_samples)"
   ]
  },
  {
   "cell_type": "code",
   "execution_count": 13,
   "metadata": {
    "ExecuteTime": {
     "end_time": "2024-01-18T19:37:27.532662Z",
     "start_time": "2024-01-18T19:37:27.524329Z"
    }
   },
   "outputs": [],
   "source": [
    "def install_uninstall_model(modelname, mode=\"install\"):\n",
    "    \"\"\"This function will install or remove KIM model.\"\"\"\n",
    "    kim_command = \"kim-api-collections-management\"\n",
    "    if mode == \"install\":\n",
    "        flags = [\"install\", \"user\"]\n",
    "    elif mode == \"uninstall\":\n",
    "        flags = [\"remove\", \"--force\"]\n",
    "        modelname = Path(modelname).name\n",
    "    command = np.concatenate(([kim_command], flags, [modelname]))\n",
    "    subprocess.run(command)"
   ]
  },
  {
   "cell_type": "code",
   "execution_count": 14,
   "metadata": {
    "ExecuteTime": {
     "end_time": "2024-01-18T19:37:27.546200Z",
     "start_time": "2024-01-18T19:37:27.535922Z"
    }
   },
   "outputs": [],
   "source": [
    "# # Write and install model ensembles\n",
    "# for ii, params in tqdm(enumerate(param_samples), total=len(param_samples)):\n",
    "#     # Write the model\n",
    "#     complete_params = bestfit_params.copy()\n",
    "#     complete_params[-nparams:] = params\n",
    "#     calc.update_model_params(complete_params)  # Update parameters\n",
    "#     # Install model\n",
    "#     modelpath = RES_DIR / f\"{ii:03d}\" / f\"DUNN_C_fimbayes_{ii:03d}\"\n",
    "#     model.write_kim_model(modelpath)  # Write\n",
    "#     install_uninstall_model(modelpath, \"install\")"
   ]
  },
  {
   "cell_type": "code",
   "execution_count": 15,
   "metadata": {
    "ExecuteTime": {
     "end_time": "2024-01-18T19:37:27.563108Z",
     "start_time": "2024-01-18T19:37:27.548775Z"
    }
   },
   "outputs": [],
   "source": [
    "# for ii in range(100):\n",
    "#     modelname = RES_DIR / f\"{ii:03d}\" / f\"DUNN_C_fimbayes_{ii:03d}\"\n",
    "#     install_uninstall_model(modelname, \"uninstall\")"
   ]
  },
  {
   "cell_type": "code",
   "execution_count": null,
   "metadata": {},
   "outputs": [],
   "source": []
  }
 ],
 "metadata": {
  "kernelspec": {
   "display_name": "Python 3 (ipykernel)",
   "language": "python",
   "name": "python3"
  },
  "language_info": {
   "codemirror_mode": {
    "name": "ipython",
    "version": 3
   },
   "file_extension": ".py",
   "mimetype": "text/x-python",
   "name": "python",
   "nbconvert_exporter": "python",
   "pygments_lexer": "ipython3",
   "version": "3.7.4"
  },
  "toc": {
   "base_numbering": 1,
   "nav_menu": {},
   "number_sections": true,
   "sideBar": true,
   "skip_h1_title": false,
   "title_cell": "Table of Contents",
   "title_sidebar": "Contents",
   "toc_cell": false,
   "toc_position": {},
   "toc_section_display": true,
   "toc_window_display": false
  },
  "varInspector": {
   "cols": {
    "lenName": 16,
    "lenType": 16,
    "lenVar": 40
   },
   "kernels_config": {
    "python": {
     "delete_cmd_postfix": "",
     "delete_cmd_prefix": "del ",
     "library": "var_list.py",
     "varRefreshCmd": "print(var_dic_list())"
    },
    "r": {
     "delete_cmd_postfix": ") ",
     "delete_cmd_prefix": "rm(",
     "library": "var_list.r",
     "varRefreshCmd": "cat(var_dic_list()) "
    }
   },
   "types_to_exclude": [
    "module",
    "function",
    "builtin_function_or_method",
    "instance",
    "_Feature"
   ],
   "window_display": false
  }
 },
 "nbformat": 4,
 "nbformat_minor": 2
}
